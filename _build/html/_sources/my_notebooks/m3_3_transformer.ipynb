{
 "cells": [
  {
   "cell_type": "markdown",
   "metadata": {},
   "source": [
    "# M3.3 Transformers\n",
    "\n",
    "\n",
    "\n",
    " In this notebook, we will explore the Transformer architecture, which has become the foundation for modern NLP models. We will cover the core mechanisms, implement simple experiments, and work with pre-trained models."
   ]
  },
  {
   "cell_type": "markdown",
   "metadata": {},
   "source": [
    "## 1. The Transformer Architecture\n",
    "\n",
    "The Transformer architecture, introduced in \"Attention is All You Need\" (Vaswani et al., 2017), replaced recurrent architectures with a mechanism based entirely on attention. This allows for better parallelization and the ability to model long-range dependencies in text."
   ]
  },
  {
   "cell_type": "markdown",
   "metadata": {},
   "source": [
    "### 1.1 The Attention Mechanism\n",
    " At the core of transformers is the attention mechanism. Unlike previous architectures that processed sequences sequentially, attention allows the model to focus on different parts of the input simultaneously.\n",
    "\n",
    " The key idea is that for each position in a sequence, we compute how much attention to pay to every other position. This is done through three learned representations:\n",
    "\n",
    "\n",
    " - **Queries (Q)**: What we're looking for\n",
    " - **Keys (K)**: What each position offers\n",
    " - **Values (V)**: The actual information at each position\n",
    "\n",
    "\n",
    "\n",
    " <!-- ![Attention Mechanism](fig_showing_attention) -->\n",
    "\n",
    "<p align=\"center\">\n",
    "    <img src=\"https://uvadlc-notebooks.readthedocs.io/en/latest/_images/attention_example.svg\" alt=\"attn_nn\" style=\"max-width:50%;\">\n",
    "</p>\n",
    "(img credits from uvadlc course)\n",
    "\n",
    "\n",
    " The attention score between a query and all keys is computed as:\n",
    "\n",
    "\n",
    "\n",
    " $$\\text{Attention}(Q, K, V) = \\text{softmax}\\left(\\frac{QK^T}{\\sqrt{d_k}}\\right)V$$\n",
    "\n",
    "\n",
    "\n",
    " where $d_k$ is the dimension of the keys. The division by $\\sqrt{d_k}$ prevents the dot products from growing too large, which would push the softmax into regions with very small gradients."
   ]
  },
  {
   "cell_type": "markdown",
   "metadata": {},
   "source": [
    "### 1.2 Multi-Head Attention (MHA)\n",
    "\n",
    "\n",
    "\n",
    " Rather than computing attention once, Multi-Head Attention runs multiple attention operations in parallel, each with different learned linear projections. This allows the model to attend to information from different representation subspaces.\n",
    "\n",
    "\n",
    "\n",
    " <!-- ![Multi-Head Attention](fig_showing_mha) -->\n",
    "<p align=\"center\">\n",
    "    <img src=\"https://miro.medium.com/v2/1*jsR691rbi1-LmYTBHzjDMA.png\" alt=\"fig_showing_mha\" style=\"max-width:15%;\">\n",
    "</p>\n",
    "\n",
    "\n",
    " Each \"head\" learns to focus on different aspects of the relationships between tokens. For example, one head might learn syntactic dependencies while another learns semantic relationships.\n",
    "\n",
    "\n",
    "\n",
    " The outputs from all heads are concatenated and linearly transformed:\n",
    "\n",
    "\n",
    "\n",
    " $$\\text{MultiHead}(Q, K, V) = \\text{Concat}(\\text{head}_1, ..., \\text{head}_h)W^O$$\n",
    "\n",
    "\n",
    "\n",
    " where each head is computed as:\n",
    "\n",
    "\n",
    "\n",
    " $$\\text{head}_i = \\text{Attention}(QW^Q_i, KW^K_i, VW^V_i)$$"
   ]
  },
  {
   "cell_type": "markdown",
   "metadata": {},
   "source": [
    "### 1.3 Encoder-Decoder Architecture\n",
    " The original Transformer uses an encoder-decoder structure:\n",
    "\n",
    " <!-- ![Encoder-Decoder Architecture](fig_showing_enc_dec) -->\n",
    " <p align=\"center\">\n",
    "    <img src=\"https://heidloff.net/assets/img/2023/02/transformers.png\" alt=\"fig_showing_mha\" style=\"max-width:50%; background-color: white;\">\n",
    "</p>\n",
    "\n",
    " - **Encoder**: Processes the input sequence and builds a representation\n",
    " - **Decoder**: Generates the output sequence, attending to both its own previous outputs and the encoder's representations\n",
    "\n",
    " Modern models often use only the encoder (BERT) or only the decoder (GPT), depending on the task."
   ]
  },
  {
   "cell_type": "code",
   "execution_count": 16,
   "metadata": {},
   "outputs": [],
   "source": [
    "## ignore warning messages for cleaner output of the website\n",
    "import warnings\n",
    "warnings.filterwarnings('ignore')\n",
    "\n",
    "## Import required libraries\n",
    "import torch\n",
    "import torch.nn as nn\n",
    "import numpy as np\n",
    "from collections import Counter\n",
    "import matplotlib.pyplot as plt\n",
    "import re\n",
    "import math\n",
    "\n",
    "from datasets import load_dataset"
   ]
  },
  {
   "cell_type": "markdown",
   "metadata": {},
   "source": [
    "## 2. Toy Experiment: Next Token Prediction\n",
    "\n",
    "\n",
    "\n",
    " We'll implement a simple experiment to understand how transformers learn sequence patterns. We'll create a toy dataset and compare transformer models of different depths with n-gram baseline statistics."
   ]
  },
  {
   "cell_type": "markdown",
   "metadata": {},
   "source": [
    "### 2.1 Generate Toy Dataset\n",
    "\n",
    "\n",
    "\n",
    " We'll create a simple artificial language with predictable patterns."
   ]
  },
  {
   "cell_type": "code",
   "execution_count": 2,
   "metadata": {},
   "outputs": [],
   "source": [
    "dataset = load_dataset(\"imdb\", split=\"train\")  ## Subset for faster training\n",
    "dataset = dataset.shuffle(seed=42)\n",
    "\n",
    "len_data = 1000\n",
    "train_data = dataset.select(range(len_data))[\"text\"]\n",
    "test_data = dataset.select(range(len_data, len_data*2))[\"text\"]"
   ]
  },
  {
   "cell_type": "code",
   "execution_count": 3,
   "metadata": {},
   "outputs": [],
   "source": [
    "def char_to_num(c):\n",
    "    \"\"\" Our mapping a mapping function from character to number\n",
    "         In this case: a=0, b=1, ..., z=25, space=26\n",
    "    \"\"\"\n",
    "    if c == ' ':\n",
    "        return 26\n",
    "    return ord(c) - ord('a')\n",
    "\n",
    "def process_texts(texts, N, char_to_num_fn):\n",
    "    \"\"\"\n",
    "    Processes a list of texts by lowercasing, removing non-alphabetic characters, truncating to a fixed length, and mapping each character to a numeric value. \n",
    "    Returns a list of lists of mapped numbers for valid texts.\n",
    "    \"\"\"\n",
    "    processed_nums = []\n",
    "    for text in texts:\n",
    "        text = text.lower() ## Convert to lowercase        \n",
    "        text = re.sub(r'[^a-z ]', '', text)  ## Keep only a-z and space \n",
    "        \n",
    "\n",
    "        ## if size is less than N, skip\n",
    "        if len(text) < N:\n",
    "            continue\n",
    "\n",
    "        text = text[:N] ## Keep only the first N characters\n",
    "\n",
    "        ## Convert each char to number using mapping function\n",
    "        nums = [char_to_num_fn(c) for c in text]\n",
    "        if any(n > 26 or n < 0 for n in nums):\n",
    "            raise ValueError(f\"Character mapping returned invalid number: {nums} - text: {text}\")\n",
    "        \n",
    "        processed_nums.append(nums)\n",
    "    return processed_nums"
   ]
  },
  {
   "cell_type": "code",
   "execution_count": 4,
   "metadata": {},
   "outputs": [],
   "source": [
    "N = 50\n",
    "train_data = process_texts(train_data, N, char_to_num)\n",
    "test_data = process_texts(test_data, N, char_to_num)"
   ]
  },
  {
   "cell_type": "markdown",
   "metadata": {},
   "source": [
    "### 2.2 N-gram Baseline\n",
    "\n",
    "\n",
    "\n",
    " Before using transformers, let's establish a baseline using n-gram statistics."
   ]
  },
  {
   "cell_type": "code",
   "execution_count": 5,
   "metadata": {},
   "outputs": [],
   "source": [
    "def build_ngram_model(data, n=3):\n",
    "    \"\"\"Build n-gram model from data - a \"\"\"\n",
    "    ngram_counts = {}\n",
    "    \n",
    "    for seq in data:\n",
    "        for i in range(len(seq) - n):\n",
    "            context = tuple(seq[i:i+n])\n",
    "            next_token = seq[i+n]\n",
    "            if context not in ngram_counts:\n",
    "                ngram_counts[context] = Counter()\n",
    "            ngram_counts[context][next_token] += 1\n",
    "    \n",
    "    return ngram_counts\n",
    "\n",
    "def ngram_predict(ngram_model, context):\n",
    "    \"\"\"Predict next token given context\"\"\"\n",
    "    context = tuple(context)\n",
    "    if context in ngram_model:\n",
    "        return ngram_model[context].most_common(1)[0][0]\n",
    "    return np.random.randint(0, 10)  ## Random if context not seen\n",
    "\n",
    "def evaluate_ngram(ngram_model, test_data, n=3, start_eval=3):\n",
    "    \"\"\"Evaluate n-gram model accuracy\"\"\"\n",
    "    correct = 0\n",
    "    total = 0\n",
    "    \n",
    "    for seq in test_data:\n",
    "        for i in range(start_eval, len(seq)):\n",
    "            context = seq[i-n:i]\n",
    "            pred = ngram_predict(ngram_model, context)\n",
    "            if pred == seq[i]:\n",
    "                correct += 1\n",
    "            total += 1\n",
    "    \n",
    "    return correct / total"
   ]
  },
  {
   "cell_type": "code",
   "execution_count": 6,
   "metadata": {},
   "outputs": [
    {
     "name": "stdout",
     "output_type": "stream",
     "text": [
      "Bigram accuracy: 42.0 %\n",
      "Trigram accuracy: 50.7 %\n"
     ]
    }
   ],
   "source": [
    "## Build and evaluate n-gram models\n",
    "trigram_model = build_ngram_model(train_data, n=3)\n",
    "trigram_acc = evaluate_ngram(trigram_model, test_data, n=3, start_eval=3)\n",
    "\n",
    "bigram_model = build_ngram_model(train_data, n=2)\n",
    "bigram_acc = evaluate_ngram(bigram_model, test_data, n=2, start_eval=3)\n",
    "\n",
    "print(f\"Bigram accuracy: {bigram_acc*100:.1f} %\")\n",
    "print(f\"Trigram accuracy: {trigram_acc*100:.1f} %\")"
   ]
  },
  {
   "cell_type": "markdown",
   "metadata": {},
   "source": [
    "### 2.3 Simple Transformer Model\n",
    "\n",
    "\n",
    "\n",
    " Now let's create transformer models with different numbers of layers using PyTorch."
   ]
  },
  {
   "cell_type": "code",
   "execution_count": 7,
   "metadata": {},
   "outputs": [],
   "source": [
    "class PositionalEncoding(nn.Module):\n",
    "    \"\"\" \n",
    "    Positional Encoding module for Transformer models \n",
    "        -> We don't learn this but keep it fixed. It ensures that the model can distinguish token positions.\n",
    "    \"\"\"\n",
    "    def __init__(self, d_model, dropout=0.1, max_len=5000):\n",
    "        super(PositionalEncoding, self).__init__()\n",
    "        self.dropout = nn.Dropout(p=dropout)\n",
    "        pe = torch.zeros(max_len, d_model)\n",
    "        position = torch.arange(0, max_len, dtype=torch.float).unsqueeze(1)\n",
    "        div_term = torch.exp(torch.arange(0, d_model, 2).float() * (-math.log(10000.0) / d_model))\n",
    "        pe[:, 0::2] = torch.sin(position * div_term)\n",
    "        pe[:, 1::2] = torch.cos(position * div_term)\n",
    "        pe = pe.unsqueeze(0)  ## Shape: (1, max_len, d_model) for batch_first\n",
    "        self.register_buffer('pe', pe)\n",
    "    \n",
    "    def forward(self, x):\n",
    "        \"\"\" This function adds positional encoding to the input tensor x and retursns it.\"\"\"\n",
    "        ## x shape: (batch_size, seq_len, d_model)\n",
    "        x = x + self.pe[:, :x.size(1), :]  ## Use seq_len (dimension 1)!\n",
    "        return self.dropout(x)"
   ]
  },
  {
   "cell_type": "code",
   "execution_count": 8,
   "metadata": {},
   "outputs": [],
   "source": [
    "class SimpleTransformer(nn.Module):\n",
    "    def __init__(self, vocab_size, d_model=64, nhead=4, num_layers=1, dim_feedforward=128):\n",
    "        super().__init__()\n",
    "        self.embedding = nn.Embedding(vocab_size, d_model)\n",
    "        self.pos_encoder = PositionalEncoding(d_model, dropout=0.1, max_len=100)\n",
    "        \n",
    "        encoder_layer = nn.TransformerEncoderLayer(\n",
    "            d_model=d_model,\n",
    "            nhead=nhead,\n",
    "            dim_feedforward=dim_feedforward,\n",
    "            batch_first=True\n",
    "        )\n",
    "        self.transformer = nn.TransformerEncoder(encoder_layer, num_layers=num_layers)\n",
    "        self.fc_out = nn.Linear(d_model, vocab_size)\n",
    "        self.d_model = d_model\n",
    "        \n",
    "    def forward(self, x):\n",
    "        seq_len = x.size(1)\n",
    "        \n",
    "        ## Create causal mask\n",
    "        causal_mask = nn.Transformer.generate_square_subsequent_mask(seq_len).to(x.device)\n",
    "        \n",
    "        x = self.embedding(x)\n",
    "        x = self.pos_encoder(x)\n",
    "        x = self.transformer(x, mask=causal_mask, is_causal=True)  ## Add causal mask!\n",
    "        x = self.fc_out(x)\n",
    "        return x"
   ]
  },
  {
   "cell_type": "markdown",
   "metadata": {},
   "source": [
    "### 2.4 Training Function"
   ]
  },
  {
   "cell_type": "code",
   "execution_count": 9,
   "metadata": {},
   "outputs": [],
   "source": [
    "def train_transformer(model, train_data, epochs=50, batch_size=32, lr=0.001):\n",
    "    \"\"\"Train transformer for next token prediction\"\"\"\n",
    "    optimizer = torch.optim.Adam(model.parameters(), lr=lr)\n",
    "    criterion = nn.CrossEntropyLoss()\n",
    "    \n",
    "    train_tensor = torch.LongTensor(train_data)\n",
    "    \n",
    "    for epoch in range(epochs):\n",
    "        model.train()\n",
    "        total_loss = 0.0\n",
    "        batch_count = 0\n",
    "        acc_list = []\n",
    "        \n",
    "        ## Create batches\n",
    "        indices = torch.randperm(len(train_tensor))\n",
    "        for i in range(0, len(train_tensor), batch_size):\n",
    "            batch_indices = indices[i:i+batch_size]\n",
    "            batch = train_tensor[batch_indices]\n",
    "            \n",
    "            ## Input is all tokens except last, target is all tokens except first\n",
    "            input_seq = batch[:, :-1]\n",
    "            target_seq = batch[:, 1:]\n",
    "            \n",
    "            optimizer.zero_grad()\n",
    "            output = model(input_seq)  ## shape: (B, L, V)\n",
    "\n",
    "            ## Calculate accuracy for this batch (optional, for monitoring)\n",
    "            with torch.no_grad():\n",
    "                preds = output.argmax(dim=-1)\n",
    "                batch_acc = (preds == target_seq).float().mean().item()\n",
    "                acc_list.append(batch_acc)\n",
    "            \n",
    "            ## Use actual vocabulary size from model output (avoid hard-coded value)\n",
    "            vocab_dim = output.size(-1)\n",
    "            loss = criterion(output.reshape(-1, vocab_dim), target_seq.reshape(-1))\n",
    "            loss.backward()\n",
    "            optimizer.step()\n",
    "            \n",
    "            total_loss += loss.item()\n",
    "            batch_count += 1\n",
    "\n",
    "        \n",
    "        if (epoch + 1) % 10 == 0:\n",
    "            avg_loss = total_loss / max(1, batch_count)\n",
    "            print(f\"Epoch {epoch+1}, Loss: {avg_loss:.4f} , TrainAcc: {np.mean(acc_list)*100:.2f} %\")"
   ]
  },
  {
   "cell_type": "code",
   "execution_count": 10,
   "metadata": {},
   "outputs": [],
   "source": [
    "def evaluate_transformer(model, test_data, batch_size=64, start_eval=None):\n",
    "    \"\"\"Evaluate transformer accuracy (with optional start_eval for position masking)\"\"\"\n",
    "    model.eval()\n",
    "    device = next(model.parameters()).device\n",
    "    test_tensor = torch.LongTensor(test_data).to(device)\n",
    "    correct = 0\n",
    "    total = 0\n",
    "    with torch.no_grad():\n",
    "        for start in range(0, len(test_tensor), batch_size):\n",
    "            batch = test_tensor[start:start+batch_size]\n",
    "            if batch.size(0) == 0:\n",
    "                continue\n",
    "            ## Predict all tokens except last, compare to all except first\n",
    "            input_seq = batch[:, :-1]\n",
    "            target_seq = batch[:, 1:]\n",
    "            output = model(input_seq)\n",
    "            preds = output.argmax(dim=-1)\n",
    "            ## If start_eval is set, only evaluate from that position onwards\n",
    "            if start_eval is not None:\n",
    "                preds = preds[:, start_eval:]\n",
    "                target_seq = target_seq[:, start_eval:]\n",
    "            correct += (preds == target_seq).sum().item()\n",
    "            total += target_seq.numel()\n",
    "    return correct / total if total > 0 else 0.0"
   ]
  },
  {
   "cell_type": "markdown",
   "metadata": {},
   "source": [
    "### 2.5 Compare Models with Different Depths"
   ]
  },
  {
   "cell_type": "code",
   "execution_count": 11,
   "metadata": {},
   "outputs": [
    {
     "name": "stdout",
     "output_type": "stream",
     "text": [
      "\n",
      "==================================================\n",
      "Training 1-layer transformer\n",
      "==================================================\n",
      "Vocab size: 27 - should be 27\n",
      "Epoch 10, Loss: 2.0020 , TrainAcc: 39.18 %\n",
      "Epoch 20, Loss: 1.8737 , TrainAcc: 42.89 %\n",
      "Epoch 30, Loss: 1.8062 , TrainAcc: 44.56 %\n",
      "Epoch 40, Loss: 1.7606 , TrainAcc: 45.81 %\n",
      "Epoch 50, Loss: 1.7232 , TrainAcc: 46.91 %\n",
      "\n",
      "1-layer transformer accuracy: 0.4619\n",
      "\n",
      "==================================================\n",
      "Training 2-layer transformer\n",
      "==================================================\n",
      "Vocab size: 27 - should be 27\n",
      "Epoch 10, Loss: 1.9082 , TrainAcc: 42.06 %\n",
      "Epoch 20, Loss: 1.7523 , TrainAcc: 46.16 %\n",
      "Epoch 30, Loss: 1.6541 , TrainAcc: 48.92 %\n",
      "Epoch 40, Loss: 1.5901 , TrainAcc: 50.75 %\n",
      "Epoch 50, Loss: 1.5352 , TrainAcc: 52.12 %\n",
      "\n",
      "2-layer transformer accuracy: 0.4836\n",
      "\n",
      "==================================================\n",
      "Training 3-layer transformer\n",
      "==================================================\n",
      "Vocab size: 27 - should be 27\n",
      "Epoch 10, Loss: 1.8779 , TrainAcc: 42.89 %\n",
      "Epoch 20, Loss: 1.7079 , TrainAcc: 47.59 %\n",
      "Epoch 30, Loss: 1.5884 , TrainAcc: 50.83 %\n",
      "Epoch 40, Loss: 1.5026 , TrainAcc: 53.04 %\n",
      "Epoch 50, Loss: 1.4363 , TrainAcc: 54.91 %\n",
      "\n",
      "3-layer transformer accuracy: 0.4918\n"
     ]
    }
   ],
   "source": [
    "## Train models with 1, 2, and 3 layers (use dynamic vocab size derived from train_data)\n",
    "results = {}\n",
    "\n",
    "## Model hyperparameters\n",
    "d_model = 128\n",
    "nhead = 16\n",
    "\n",
    "for num_layers in [1, 2, 3]:\n",
    "    print(f\"\\n{'='*50}\")\n",
    "    print(f\"Training {num_layers}-layer transformer\")\n",
    "    print('='*50)\n",
    "\n",
    "    ## derive vocab size from training data to keep consistency\n",
    "    vocab_size = int(max(max(seq) for seq in train_data) + 1)\n",
    "    print(f\"Vocab size: {vocab_size} - should be 27\")\n",
    "    model = SimpleTransformer(vocab_size=vocab_size, num_layers=num_layers, d_model=d_model, nhead=nhead)\n",
    "    train_transformer(model, train_data, epochs=50, lr=0.003)\n",
    "        \n",
    "    accuracy = evaluate_transformer(model, test_data)\n",
    "    results[f\"{num_layers}-layer\"] = accuracy\n",
    "    print(f\"\\n{num_layers}-layer transformer accuracy: {accuracy:.4f}\")"
   ]
  },
  {
   "cell_type": "markdown",
   "metadata": {},
   "source": [
    "### 2.6 Results Comparison"
   ]
  },
  {
   "cell_type": "code",
   "execution_count": 12,
   "metadata": {},
   "outputs": [
    {
     "name": "stdout",
     "output_type": "stream",
     "text": [
      "\n",
      "==================================================\n",
      "ACCURACY COMPARISON\n",
      "==================================================\n",
      "Bigram baseline:     0.4198\n",
      "Trigram baseline:    0.5066\n",
      "1-layer transformer: 0.4619\n",
      "2-layer transformer: 0.4836\n",
      "3-layer transformer: 0.4918\n"
     ]
    },
    {
     "data": {
      "image/png": "[encoded data removed]",
      "text/plain": [
       "<Figure size 600x400 with 1 Axes>"
      ]
     },
     "metadata": {},
     "output_type": "display_data"
    }
   ],
   "source": [
    "## Compare all models\n",
    "print(\"\\n\" + \"=\"*50)\n",
    "print(\"ACCURACY COMPARISON\")\n",
    "print(\"=\"*50)\n",
    "print(f\"Bigram baseline:     {bigram_acc:.4f}\")\n",
    "print(f\"Trigram baseline:    {trigram_acc:.4f}\")\n",
    "for name, acc in results.items():\n",
    "    print(f\"{name} transformer: {acc:.4f}\")\n",
    "\n",
    "## Visualization\n",
    "labels = ['Bigram', 'Trigram'] + list(results.keys())\n",
    "accuracies = [bigram_acc, trigram_acc] + list(results.values())\n",
    "\n",
    "plt.figure(figsize=(6, 4))\n",
    "plt.bar(labels, accuracies, color=['#1f77b4', '#ff7f0e', '#2ca02c', '#d62728', '#9467bd'])\n",
    "plt.ylabel('Accuracy')\n",
    "plt.title('Next Token Prediction: N-gram vs Transformer')\n",
    "plt.ylim([0, 0.6])\n",
    "plt.grid(axis='y', alpha=0.3)\n",
    "for i, v in enumerate(accuracies):\n",
    "    plt.text(i, v + 0.01, f'{v:.3f}', ha='center')\n",
    "plt.tight_layout()\n",
    "plt.show()\n"
   ]
  },
  {
   "cell_type": "markdown",
   "metadata": {},
   "source": [
    "### 2.7 Text Generation Example\n",
    "\n",
    "\n",
    "\n",
    " Let's generate some sequences to see what the model has learned."
   ]
  },
  {
   "cell_type": "code",
   "execution_count": 13,
   "metadata": {},
   "outputs": [
    {
     "name": "stdout",
     "output_type": "stream",
     "text": [
      "Epoch 10, Loss: 1.9913 , TrainAcc: 39.70 %\n",
      "Epoch 20, Loss: 1.7754 , TrainAcc: 45.76 %\n",
      "Epoch 30, Loss: 1.6459 , TrainAcc: 49.31 %\n",
      "Epoch 40, Loss: 1.5519 , TrainAcc: 51.92 %\n",
      "Epoch 50, Loss: 1.4765 , TrainAcc: 53.84 %\n",
      "\n",
      "Generated sequences (3-layer transformer):\n",
      "Start: 'i am ' -> 'was really for this film that is a a film is '\n",
      "Full:  'i am was really for this film that is a a film is '\n",
      "\n",
      "Start: 'my name is ' -> 'a the first of the beck what is a a bou'\n",
      "Full:  'my name is a the first of the beck what is a a bou'\n",
      "\n",
      "Start: 'i would never ' -> 'to seee this movie i was so the mad '\n",
      "Full:  'i would never to seee this movie i was so the mad '\n",
      "\n",
      "Start: 'this ted talk is about ' -> 'the movie i was a can and a'\n",
      "Full:  'this ted talk is about the movie i was a can and a'\n",
      "\n"
     ]
    }
   ],
   "source": [
    "def generate_sequence(model, start_tokens, max_length=15):\n",
    "    \"\"\"Generate sequence from model\"\"\"\n",
    "    model.eval()\n",
    "    generated = start_tokens.copy()\n",
    "    \n",
    "    with torch.no_grad():\n",
    "        for _ in range(max_length - len(start_tokens)):\n",
    "            input_seq = torch.LongTensor([generated])\n",
    "            output = model(input_seq)\n",
    "            next_token = output[0, -1].argmax().item()\n",
    "            generated.append(next_token)\n",
    "    \n",
    "    return generated\n",
    "\n",
    "## Generate from the 3-layer model (use dynamic vocab size)\n",
    "vocab_size = int(max(max(seq) for seq in train_data) + 1)\n",
    "model_3layer = SimpleTransformer(vocab_size=vocab_size, num_layers=3, d_model=d_model, nhead=nhead)\n",
    "train_transformer(model_3layer, train_data, epochs=50)\n",
    "\n",
    "## Let's see what we have learned! \n",
    "start_strings = [\"i am \", \"my name is \", \"i would never \", 'this ted talk is about ']\n",
    "\n",
    "print(\"\\nGenerated sequences (3-layer transformer):\")\n",
    "for start_str in start_strings:\n",
    "    start = [char_to_num(c) for c in start_str]\n",
    "    generated = generate_sequence(model_3layer, start, max_length=50)\n",
    "    gen_str = ''.join(chr(n + ord('a')) if n < 26 else ' ' for n in generated)\n",
    "    print(f\"Start: '{start_str}' -> '{gen_str[len(start_str):]}'\")\n",
    "    print(f\"Full:  '{start_str}{gen_str[len(start_str):]}'\\n\")\n"
   ]
  },
  {
   "cell_type": "markdown",
   "metadata": {},
   "source": [
    "## 3. Pre-trained Models: BERT and GPT\n",
    "\n",
    "\n",
    "\n",
    " Now let's work with real pre-trained transformer models using the HuggingFace Transformers library."
   ]
  },
  {
   "cell_type": "code",
   "execution_count": null,
   "metadata": {},
   "outputs": [],
   "source": [
    "from transformers import BertTokenizer, BertForMaskedLM\n",
    "from transformers import GPT2Tokenizer, GPT2LMHeadModel\n",
    "import torch.nn.functional as F"
   ]
  },
  {
   "cell_type": "markdown",
   "metadata": {},
   "source": [
    "### 3.1 BERT: Masked Language Modeling\n",
    "\n",
    "\n",
    "\n",
    " BERT (Bidirectional Encoder Representations from Transformers) is an encoder-only model trained on masked language modeling. It can see the entire context (both left and right) when predicting masked tokens."
   ]
  },
  {
   "cell_type": "code",
   "execution_count": null,
   "metadata": {},
   "outputs": [],
   "source": [
    "def predict_masked_token(text, model, tokenizer, top_k=5):\n",
    "    \"\"\"Predict masked tokens in text\"\"\"\n",
    "    ## Tokenize\n",
    "    inputs = tokenizer(text, return_tensors='pt')\n",
    "    \n",
    "    ## Find mask position\n",
    "    mask_token_index = torch.where(inputs['input_ids'] == tokenizer.mask_token_id)[1]\n",
    "    \n",
    "    ## Get predictions\n",
    "    with torch.no_grad():\n",
    "        outputs = model(**inputs)\n",
    "        predictions = outputs.logits\n",
    "    \n",
    "    ## Get top-k predictions for masked position\n",
    "    mask_predictions = predictions[0, mask_token_index, :]\n",
    "    top_tokens = torch.topk(mask_predictions, top_k, dim=1)\n",
    "    \n",
    "    print(f\"Text: {text}\")\n",
    "    print(f\"\\nTop {top_k} predictions:\")\n",
    "    for i, (token_id, score) in enumerate(zip(top_tokens.indices[0], top_tokens.values[0])):\n",
    "        token = tokenizer.decode([token_id])\n",
    "        prob = F.softmax(mask_predictions, dim=1)[0, token_id].item()\n",
    "        print(f\"{i+1}. {token:15s} (probability: {prob:.4f})\")\n",
    "    print()"
   ]
  },
  {
   "cell_type": "code",
   "execution_count": null,
   "metadata": {},
   "outputs": [
    {
     "name": "stderr",
     "output_type": "stream",
     "text": [
      "Some weights of the model checkpoint at bert-base-uncased were not used when initializing BertForMaskedLM: ['bert.pooler.dense.bias', 'bert.pooler.dense.weight', 'cls.seq_relationship.bias', 'cls.seq_relationship.weight']\n",
      "- This IS expected if you are initializing BertForMaskedLM from the checkpoint of a model trained on another task or with another architecture (e.g. initializing a BertForSequenceClassification model from a BertForPreTraining model).\n",
      "- This IS NOT expected if you are initializing BertForMaskedLM from the checkpoint of a model that you expect to be exactly identical (initializing a BertForSequenceClassification model from a BertForSequenceClassification model).\n"
     ]
    },
    {
     "name": "stdout",
     "output_type": "stream",
     "text": [
      "============================================================\n",
      "BERT: Masked Language Modeling\n",
      "============================================================\n",
      "Text: The capital of France is [MASK].\n",
      "\n",
      "Top 5 predictions:\n",
      "1. paris           (probability: 0.4168)\n",
      "2. lille           (probability: 0.0714)\n",
      "3. lyon            (probability: 0.0634)\n",
      "4. marseille       (probability: 0.0444)\n",
      "5. tours           (probability: 0.0303)\n",
      "\n",
      "Text: The cat sat on the [MASK].\n",
      "\n",
      "Top 5 predictions:\n",
      "1. floor           (probability: 0.3145)\n",
      "2. bed             (probability: 0.1190)\n",
      "3. couch           (probability: 0.1070)\n",
      "4. sofa            (probability: 0.0603)\n",
      "5. ground          (probability: 0.0551)\n",
      "\n",
      "Text: Natural [MASK] Processing is a subfield of AI.\n",
      "\n",
      "Top 5 predictions:\n",
      "1. language        (probability: 0.7656)\n",
      "2. information     (probability: 0.0450)\n",
      "3. signal          (probability: 0.0251)\n",
      "4. resource        (probability: 0.0211)\n",
      "5. data            (probability: 0.0103)\n",
      "\n"
     ]
    }
   ],
   "source": [
    "## Load BERT model and tokenizer\n",
    "bert_tokenizer = BertTokenizer.from_pretrained('bert-base-uncased')\n",
    "bert_model = BertForMaskedLM.from_pretrained('bert-base-uncased')\n",
    "bert_model.eval()\n",
    "\n",
    "## Test BERT on various examples\n",
    "print(\"=\"*60)\n",
    "print(\"BERT: Masked Language Modeling\")\n",
    "print(\"=\"*60)\n",
    "\n",
    "predict_masked_token(\"The capital of France is [MASK].\", bert_model, bert_tokenizer)\n",
    "predict_masked_token(\"The cat sat on the [MASK].\", bert_model, bert_tokenizer)\n",
    "predict_masked_token(\"Natural [MASK] Processing is a subfield of AI.\", bert_model, bert_tokenizer)\n"
   ]
  },
  {
   "cell_type": "markdown",
   "metadata": {},
   "source": [
    "### 3.2 BERT for Text Classification"
   ]
  },
  {
   "cell_type": "code",
   "execution_count": null,
   "metadata": {},
   "outputs": [],
   "source": [
    "from tqdm import tqdm\n",
    "\n",
    "import torch\n",
    "import pytorch_lightning as pl\n",
    "from torch.utils.data import DataLoader, TensorDataset\n",
    "from transformers import BertTokenizer, BertForSequenceClassification\n",
    "from pytorch_lightning.callbacks import ModelCheckpoint"
   ]
  },
  {
   "cell_type": "code",
   "execution_count": null,
   "metadata": {},
   "outputs": [],
   "source": [
    "dataset = load_dataset(\"imdb\", split=\"train\")  ## Subset for faster training\n",
    "dataset = dataset.shuffle(seed=42)\n",
    "\n",
    "len_data = 10000\n",
    "data_subset = dataset.select(range(len_data))\n",
    "\n",
    "## split data into train and test using hugginface datasets functionalities\n",
    "split = data_subset.train_test_split(test_size=0.7, seed=42)\n",
    "train_txt = split['train']['text']\n",
    "test_txt = split['test']['text']\n",
    "\n",
    "train_labels = split['train']['label']\n",
    "test_labels = split['test']['label']"
   ]
  },
  {
   "cell_type": "code",
   "execution_count": null,
   "metadata": {},
   "outputs": [],
   "source": [
    "class BERTClassifier(pl.LightningModule):\n",
    "    def __init__(self, num_labels=2, freeze_bert=True, lr=2e-4):\n",
    "        super().__init__()\n",
    "        self.save_hyperparameters()\n",
    "        self.model = BertForSequenceClassification.from_pretrained('bert-base-uncased', num_labels=num_labels)\n",
    "        \n",
    "        ## Freeze BERT encoder\n",
    "        if freeze_bert:\n",
    "            for param in self.model.bert.parameters():\n",
    "                param.requires_grad = False\n",
    "        \n",
    "        self.loss_fn = torch.nn.CrossEntropyLoss()\n",
    "    \n",
    "    def forward(self, input_ids, attention_mask):\n",
    "        return self.model(input_ids=input_ids, attention_mask=attention_mask)\n",
    "    \n",
    "    def training_step(self, batch, batch_idx):\n",
    "        input_ids, attention_mask, labels = batch\n",
    "        outputs = self(input_ids, attention_mask)\n",
    "        loss = self.loss_fn(outputs.logits, labels)\n",
    "        \n",
    "        preds = outputs.logits.argmax(dim=1)\n",
    "        acc = (preds == labels).float().mean()\n",
    "        \n",
    "        self.log('train_loss', loss, prog_bar=True)\n",
    "        self.log('train_acc', acc, prog_bar=True)\n",
    "        return loss\n",
    "    \n",
    "    def validation_step(self, batch, batch_idx):\n",
    "        input_ids, attention_mask, labels = batch\n",
    "        outputs = self(input_ids, attention_mask)\n",
    "        loss = self.loss_fn(outputs.logits, labels)\n",
    "        \n",
    "        preds = outputs.logits.argmax(dim=1)\n",
    "        acc = (preds == labels).float().mean()\n",
    "        \n",
    "        self.log('val_loss', loss, prog_bar=True)\n",
    "        self.log('val_acc', acc, prog_bar=True)\n",
    "        return {'val_loss': loss, 'val_acc': acc}\n",
    "    \n",
    "    def test_step(self, batch, batch_idx):\n",
    "        input_ids, attention_mask, labels = batch\n",
    "        outputs = self(input_ids, attention_mask)\n",
    "        loss = self.loss_fn(outputs.logits, labels)\n",
    "        \n",
    "        preds = outputs.logits.argmax(dim=1)\n",
    "        acc = (preds == labels).float().mean()\n",
    "        \n",
    "        self.log('test_loss', loss, prog_bar=True)\n",
    "        self.log('test_acc', acc, prog_bar=True)\n",
    "        return {'test_loss': loss, 'test_acc': acc}\n",
    "\n",
    "    def configure_optimizers(self):\n",
    "        return torch.optim.Adam(self.model.classifier.parameters(), lr=self.hparams.lr)"
   ]
  },
  {
   "cell_type": "code",
   "execution_count": null,
   "metadata": {},
   "outputs": [],
   "source": [
    "def train_bert_classifier(train_loader, test_loader, epochs=2, lr=2e-4,\n",
    "                          num_labels=2, use_gpu=True, freeze_bert=True):\n",
    "    \"\"\"\n",
    "    Train a BERT text classifier with frozen encoder.\n",
    "    \n",
    "    Args:\n",
    "        train_loader: DataLoader for training data\n",
    "        test_loader: DataLoader for test data\n",
    "        epochs: Number of training epochs\n",
    "        lr: Learning rate\n",
    "        num_labels: Number of output classes\n",
    "        use_gpu: Whether to use GPU if available\n",
    "    \n",
    "    Returns:\n",
    "        Trained model\n",
    "    \"\"\"\n",
    "\n",
    "    \n",
    "    ## Initialize model\n",
    "    model = BERTClassifier(num_labels=num_labels, freeze_bert=freeze_bert)\n",
    "    \n",
    "    ## Trainer with optimizations\n",
    "    trainer = pl.Trainer(\n",
    "        max_epochs=epochs,\n",
    "        accelerator='gpu' if use_gpu and torch.cuda.is_available() else 'cpu',\n",
    "        precision='16-mixed' if use_gpu and torch.cuda.is_available() else 32,  ## Mixed precision for speed\n",
    "        gradient_clip_val=1.0,\n",
    "        log_every_n_steps=10,\n",
    "        enable_checkpointing=False,\n",
    "        logger=False  ## Disable default logger for simplicity\n",
    "    )\n",
    "    \n",
    "    ## Train\n",
    "    trainer.fit(model, train_loader, test_loader)\n",
    "    \n",
    "    ## Test\n",
    "    test_results = trainer.test(model, test_loader)\n",
    "    ## print(f\"\\nFinal Test Accuracy: {test_results[0]['val_acc']:.3f}\")\n",
    "    print(f\"\\nFinal Test Accuracy: {test_results[0]['test_acc']:.3f}\")\n",
    "    return model\n",
    "\n",
    "def prepare_data(train_txt, train_labels, test_txt, test_labels, max_length=64, batch_size=16):\n",
    "\n",
    "        ## Tokenize\n",
    "    tokenizer = BertTokenizer.from_pretrained('bert-base-uncased')\n",
    "    train_enc = tokenizer(train_txt, truncation=True, padding='max_length', \n",
    "                         max_length=max_length, return_tensors='pt')\n",
    "    test_enc = tokenizer(test_txt, truncation=True, padding='max_length',\n",
    "                        max_length=max_length, return_tensors='pt')\n",
    "    \n",
    "    ## Create datasets\n",
    "    train_dataset = TensorDataset(train_enc['input_ids'], train_enc['attention_mask'], \n",
    "                                  torch.tensor(train_labels))\n",
    "    test_dataset = TensorDataset(test_enc['input_ids'], test_enc['attention_mask'],\n",
    "                                torch.tensor(test_labels))\n",
    "    \n",
    "    ## DataLoaders\n",
    "    train_loader = DataLoader(train_dataset, batch_size=batch_size, shuffle=True, \n",
    "                             num_workers=4, pin_memory=True)\n",
    "    test_loader = DataLoader(test_dataset, batch_size=batch_size, num_workers=4,\n",
    "                            pin_memory=True)\n",
    "\n",
    "    return train_loader, test_loader\n",
    "\n"
   ]
  },
  {
   "cell_type": "code",
   "execution_count": null,
   "metadata": {},
   "outputs": [],
   "source": [
    "train_loader, test_loader = prepare_data(\n",
    "    train_txt, train_labels, test_txt, test_labels, max_length=64, batch_size=16\n",
    ")\n"
   ]
  },
  {
   "cell_type": "code",
   "execution_count": null,
   "metadata": {},
   "outputs": [
    {
     "name": "stderr",
     "output_type": "stream",
     "text": [
      "Some weights of BertForSequenceClassification were not initialized from the model checkpoint at bert-base-uncased and are newly initialized: ['classifier.bias', 'classifier.weight']\n",
      "You should probably TRAIN this model on a down-stream task to be able to use it for predictions and inference.\n",
      "Using 16bit Automatic Mixed Precision (AMP)\n",
      "GPU available: True (cuda), used: True\n",
      "TPU available: False, using: 0 TPU cores\n",
      "HPU available: False, using: 0 HPUs\n",
      "You are using a CUDA device ('NVIDIA RTX 2000 Ada Generation Laptop GPU') that has Tensor Cores. To properly utilize them, you should set `torch.set_float32_matmul_precision('medium' | 'high')` which will trade-off precision for performance. For more details, read https://pytorch.org/docs/stable/generated/torch.set_float32_matmul_precision.html#torch.set_float32_matmul_precision\n",
      "LOCAL_RANK: 0 - CUDA_VISIBLE_DEVICES: [0]\n",
      "\n",
      "  | Name    | Type                          | Params | Mode \n",
      "------------------------------------------------------------------\n",
      "0 | model   | BertForSequenceClassification | 109 M  | eval \n",
      "1 | loss_fn | CrossEntropyLoss              | 0      | train\n",
      "------------------------------------------------------------------\n",
      "109 M     Trainable params\n",
      "0         Non-trainable params\n",
      "109 M     Total params\n",
      "437.935   Total estimated model params size (MB)\n",
      "1         Modules in train mode\n",
      "231       Modules in eval mode\n"
     ]
    },
    {
     "data": {
      "application/vnd.jupyter.widget-view+json": {
       "model_id": "966c0502658d43a09b44a63664b35e25",
       "version_major": 2,
       "version_minor": 0
      },
      "text/plain": [
       "Sanity Checking: |          | 0/? [00:00<?, ?it/s]"
      ]
     },
     "metadata": {},
     "output_type": "display_data"
    },
    {
     "data": {
      "application/vnd.jupyter.widget-view+json": {
       "model_id": "b4551b2afae24a18add381897a3ab229",
       "version_major": 2,
       "version_minor": 0
      },
      "text/plain": [
       "Training: |          | 0/? [00:00<?, ?it/s]"
      ]
     },
     "metadata": {},
     "output_type": "display_data"
    },
    {
     "data": {
      "application/vnd.jupyter.widget-view+json": {
       "model_id": "d96b023893154e8f9426c0cf579bc06f",
       "version_major": 2,
       "version_minor": 0
      },
      "text/plain": [
       "Validation: |          | 0/? [00:00<?, ?it/s]"
      ]
     },
     "metadata": {},
     "output_type": "display_data"
    },
    {
     "data": {
      "application/vnd.jupyter.widget-view+json": {
       "model_id": "cd1c015d83c247a1b69028b942d39ad5",
       "version_major": 2,
       "version_minor": 0
      },
      "text/plain": [
       "Validation: |          | 0/? [00:00<?, ?it/s]"
      ]
     },
     "metadata": {},
     "output_type": "display_data"
    },
    {
     "data": {
      "application/vnd.jupyter.widget-view+json": {
       "model_id": "7bf0a3630a0a40fd83c3da007176925a",
       "version_major": 2,
       "version_minor": 0
      },
      "text/plain": [
       "Validation: |          | 0/? [00:00<?, ?it/s]"
      ]
     },
     "metadata": {},
     "output_type": "display_data"
    },
    {
     "data": {
      "application/vnd.jupyter.widget-view+json": {
       "model_id": "a08cb8e29d0449cf95684a943851e06b",
       "version_major": 2,
       "version_minor": 0
      },
      "text/plain": [
       "Validation: |          | 0/? [00:00<?, ?it/s]"
      ]
     },
     "metadata": {},
     "output_type": "display_data"
    },
    {
     "data": {
      "application/vnd.jupyter.widget-view+json": {
       "model_id": "edb4fb7cb4a94dfc9080b8cf9da0039b",
       "version_major": 2,
       "version_minor": 0
      },
      "text/plain": [
       "Validation: |          | 0/? [00:00<?, ?it/s]"
      ]
     },
     "metadata": {},
     "output_type": "display_data"
    },
    {
     "name": "stderr",
     "output_type": "stream",
     "text": [
      "`Trainer.fit` stopped: `max_epochs=5` reached.\n",
      "LOCAL_RANK: 0 - CUDA_VISIBLE_DEVICES: [0]\n"
     ]
    },
    {
     "data": {
      "application/vnd.jupyter.widget-view+json": {
       "model_id": "132b361673d14196a3f02e96b87132ac",
       "version_major": 2,
       "version_minor": 0
      },
      "text/plain": [
       "Testing: |          | 0/? [00:00<?, ?it/s]"
      ]
     },
     "metadata": {},
     "output_type": "display_data"
    },
    {
     "data": {
      "text/html": [
       "<pre style=\"white-space:pre;overflow-x:auto;line-height:normal;font-family:Menlo,'DejaVu Sans Mono',consolas,'Courier New',monospace\">┏━━━━━━━━━━━━━━━━━━━━━━━━━━━┳━━━━━━━━━━━━━━━━━━━━━━━━━━━┓\n",
       "┃<span style=\"font-weight: bold\">        Test metric        </span>┃<span style=\"font-weight: bold\">       DataLoader 0        </span>┃\n",
       "┡━━━━━━━━━━━━━━━━━━━━━━━━━━━╇━━━━━━━━━━━━━━━━━━━━━━━━━━━┩\n",
       "│<span style=\"color: #008080; text-decoration-color: #008080\">         test_acc          </span>│<span style=\"color: #800080; text-decoration-color: #800080\">    0.6324285864830017     </span>│\n",
       "│<span style=\"color: #008080; text-decoration-color: #008080\">         test_loss         </span>│<span style=\"color: #800080; text-decoration-color: #800080\">    0.6442899107933044     </span>│\n",
       "└───────────────────────────┴───────────────────────────┘\n",
       "</pre>\n"
      ],
      "text/plain": [
       "┏━━━━━━━━━━━━━━━━━━━━━━━━━━━┳━━━━━━━━━━━━━━━━━━━━━━━━━━━┓\n",
       "┃\u001b[1m \u001b[0m\u001b[1m       Test metric       \u001b[0m\u001b[1m \u001b[0m┃\u001b[1m \u001b[0m\u001b[1m      DataLoader 0       \u001b[0m\u001b[1m \u001b[0m┃\n",
       "┡━━━━━━━━━━━━━━━━━━━━━━━━━━━╇━━━━━━━━━━━━━━━━━━━━━━━━━━━┩\n",
       "│\u001b[36m \u001b[0m\u001b[36m        test_acc         \u001b[0m\u001b[36m \u001b[0m│\u001b[35m \u001b[0m\u001b[35m   0.6324285864830017    \u001b[0m\u001b[35m \u001b[0m│\n",
       "│\u001b[36m \u001b[0m\u001b[36m        test_loss        \u001b[0m\u001b[36m \u001b[0m│\u001b[35m \u001b[0m\u001b[35m   0.6442899107933044    \u001b[0m\u001b[35m \u001b[0m│\n",
       "└───────────────────────────┴───────────────────────────┘\n"
      ]
     },
     "metadata": {},
     "output_type": "display_data"
    },
    {
     "name": "stdout",
     "output_type": "stream",
     "text": [
      "\n",
      "Final Test Accuracy: 0.632\n"
     ]
    }
   ],
   "source": [
    "model = train_bert_classifier(\n",
    "    train_loader=train_loader,\n",
    "    test_loader=test_loader,\n",
    "    epochs=5,\n",
    "    lr=1e-5,\n",
    "    freeze_bert=False\n",
    ")"
   ]
  },
  {
   "cell_type": "markdown",
   "metadata": {},
   "source": [
    "### 3.2 GPT: Text Generation\n",
    " GPT (Generative Pre-trained Transformer) is a decoder-only model trained on causal language modeling. It can only see the left context when predicting the next token, making it suitable for text generation.\n",
    " One of the most popular AI models today, ChatGPT, is a type of Transformer Decoder.\n",
    " As you might have noticed when we generate text via a Decoder this is relatively slow. The reason for this is that for every \"forward pass\", the model only predicts the next token, which we then feed back to the input and make it predict the following token. In the example image below we start with an input we provide \"Hello, my name\", which are all fed to the input to predict the next token, where the model says \" is\". Now for the next word we need to feed the string \"Hello, my name is\" to the model, so it predicts \" James\". As you can see this takes a lot of iterations through the model. Through clever computing we can store some of the matrix multiplications that are happening inside the model so when we run `model.generate()` we don't have to redo the computations we could already store when we predicted previous tokens. \n",
    "\n",
    "\n",
    "\n",
    " <p align=\"center\">\n",
    "    <img src=\"https://www.researchgate.net/publication/363765406/figure/fig1/AS:11431281085833161@1663902465850/llustration-of-transformer-based-text-generation.png\" alt=\"gpt_generation\" style=\"max-width:50%;\">\n",
    "</p>"
   ]
  },
  {
   "cell_type": "code",
   "execution_count": null,
   "metadata": {},
   "outputs": [],
   "source": [
    "def generate_text_gpt(prompt, model, tokenizer, max_length=50, temperature=0.7):\n",
    "    \"\"\"Generate text from prompt\"\"\"\n",
    "    inputs = tokenizer(prompt, return_tensors='pt')\n",
    "    \n",
    "    with torch.no_grad():\n",
    "        outputs = model.generate(\n",
    "            inputs['input_ids'],\n",
    "            max_length=max_length,\n",
    "            temperature=temperature,\n",
    "            do_sample=True,\n",
    "            top_p=0.9,\n",
    "            pad_token_id=tokenizer.eos_token_id\n",
    "        )\n",
    "    \n",
    "    generated_text = tokenizer.decode(outputs[0], skip_special_tokens=True)\n",
    "    return generated_text"
   ]
  },
  {
   "cell_type": "code",
   "execution_count": null,
   "metadata": {},
   "outputs": [
    {
     "name": "stderr",
     "output_type": "stream",
     "text": [
      "The attention mask is not set and cannot be inferred from input because pad token is same as eos token. As a consequence, you may observe unexpected behavior. Please pass your input's `attention_mask` to obtain reliable results.\n"
     ]
    },
    {
     "name": "stdout",
     "output_type": "stream",
     "text": [
      "============================================================\n",
      "GPT-2: Text Generation\n",
      "============================================================\n",
      "\n",
      "Prompt: Natural language processing is\n",
      "Generated: Natural language processing is a powerful and valuable tool in the development of languages, but it is still limited to languages that are easy to understand and understand.\n",
      "\n",
      "There are currently no native languages that can\n",
      "------------------------------------------------------------\n",
      "\n",
      "Prompt: The transformer architecture revolutionized\n",
      "Generated: The transformer architecture revolutionized the way we make the electrical system. The power grid can be made of a single or multiple pieces of wire, but they all have a common core. The transformer's core\n",
      "------------------------------------------------------------\n",
      "\n",
      "Prompt: In the field of linguistics,\n",
      "Generated: In the field of linguistics, we often get the impression that language is more like a language than an object. As a result, we often get the impression that language is more like a language than\n",
      "------------------------------------------------------------\n"
     ]
    }
   ],
   "source": [
    "## Load GPT-2 model and tokenizer\n",
    "gpt_tokenizer = GPT2Tokenizer.from_pretrained('gpt2')\n",
    "gpt_model = GPT2LMHeadModel.from_pretrained('gpt2')\n",
    "gpt_model.eval()\n",
    "\n",
    "## Set pad token (GPT2 doesn't have one by default)\n",
    "gpt_tokenizer.pad_token = gpt_tokenizer.eos_token\n",
    "\n",
    "\n",
    "## Test GPT on various prompts\n",
    "print(\"=\"*60)\n",
    "print(\"GPT-2: Text Generation\")\n",
    "print(\"=\"*60)\n",
    "\n",
    "prompts = [\n",
    "    \"Natural language processing is\",\n",
    "    \"The transformer architecture revolutionized\",\n",
    "    \"In the field of linguistics,\"\n",
    "]\n",
    "\n",
    "for prompt in prompts:\n",
    "    print(f\"\\nPrompt: {prompt}\")\n",
    "    print(f\"Generated: {generate_text_gpt(prompt, gpt_model, gpt_tokenizer, max_length=40)}\")\n",
    "    print(\"-\" * 60)\n"
   ]
  },
  {
   "cell_type": "markdown",
   "metadata": {},
   "source": [
    "### 3.3 Key Differences: BERT vs GPT\n",
    "\n",
    " | Aspect | BERT | GPT |\n",
    " |--------|------|-----|\n",
    " | Architecture | Encoder-only | Decoder-only |\n",
    " | Attention | Bidirectional | Causal (left-to-right) |\n",
    " | Training Task | Masked Language Modeling | Next Token Prediction |\n",
    " | Best For | Understanding tasks (classification, NER) | Generation tasks |\n",
    " | Context | Sees full sentence | Sees only previous tokens |"
   ]
  },
  {
   "cell_type": "markdown",
   "metadata": {},
   "source": [
    "## 4. Summary\n",
    " In this notebook, we explored:\n",
    " 1. **Attention Mechanism**: The core innovation that allows transformers to weigh the importance of different parts of the input\n",
    " 2. **Multi-Head Attention**: Running multiple attention operations in parallel to capture different types of relationships\n",
    " 3. **Toy Experiments**: How transformers of different depths compare to n-gram baselines on next token prediction\n",
    " 4. **Pre-trained Models**:\n",
    "    - BERT for bidirectional context understanding (masked language modeling)\n",
    "    - GPT for text generation (causal language modeling)"
   ]
  },
  {
   "cell_type": "markdown",
   "metadata": {},
   "source": [
    "## References\n",
    " - Vaswani et al. (2017). \"Attention is All You Need\". NeurIPS.\n",
    " - Devlin et al. (2018). \"BERT: Pre-training of Deep Bidirectional Transformers for Language Understanding\". NAACL.\n",
    " - Radford et al. (2019). \"Language Models are Unsupervised Multitask Learners\" (GPT-2)."
   ]
  }
 ],
 "metadata": {
  "kernelspec": {
   "display_name": "base",
   "language": "python",
   "name": "python3"
  },
  "language_info": {
   "codemirror_mode": {
    "name": "ipython",
    "version": 3
   },
   "file_extension": ".py",
   "mimetype": "text/x-python",
   "name": "python",
   "nbconvert_exporter": "python",
   "pygments_lexer": "ipython3",
   "version": "3.11.5"
  }
 },
 "nbformat": 4,
 "nbformat_minor": 2
}
