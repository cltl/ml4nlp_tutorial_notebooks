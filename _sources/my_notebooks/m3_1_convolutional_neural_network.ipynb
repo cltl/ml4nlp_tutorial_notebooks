{
 "cells": [
  {
   "cell_type": "markdown",
   "metadata": {},
   "source": [
    " <!-- # Convolutional Neural Networks for Text Classification -->\n",
    "# M3.1 Convolutional Neural Network\n",
    " [![View notebooks on Github](https://img.shields.io/static/v1.svg?logo=github&label=Repo&message=View%20On%20Github&color=lightgrey)](https://github.com/cltl/ml4nlp_tutorial_notebooks/blob/main/my_notebooks/m3_1_convolutional_neural_network.ipynb)\n",
    "[![Open In Collab](https://colab.research.google.com/assets/colab-badge.svg)](https://colab.research.google.com/github/cltl/ml4nlp_tutorial_notebooks/blob/main/my_notebooks/m3_1_convolutional_neural_network.ipynb)  \n",
    "\n",
    "\n",
    " In this tutorial, we explore how Convolutional Neural Networks (CNNs), originally developed for computer vision, can be applied to text classification tasks.\n",
    "\n",
    "\n",
    "### Learning Objectives\n",
    "By working through this notebook, you will learn:\n",
    " - Tokenization: first use-case of tokenizing our data, transforming the input text into numbers\n",
    " - Use case of training a CNN model for sentiment classification\n",
    " - Ablation of the CNN parameters: kernel size and number of features\n",
    " - Toy Dataset experiments: how does CNN detect different N-grams?"
   ]
  },
  {
   "cell_type": "markdown",
   "metadata": {},
   "source": [
    "## 1. Introduction: Why CNNs for Text?\n",
    "\n",
    "CNNs were originally designed for images where detecting patterns (like edges or shapes) matters more than their exact position. This property is called **translation invariance**. In short a cat is a cat, if it is on the left of an image or not. In general this approximation does not hold for text, the meaning of a string \"this was an awesome movie\" can be completely changed if it is follwed by the text \"I would be lying if I said ...\". But again we follow the Machine Learning mantra and use this approximation, as it turns out to be a very useful one for many text applications. \n",
    "<p align=\"center\" >\n",
    "    <img src=\"https://gracewlindsay.com/wp-content/uploads/2018/05/fncom-08-00135-g001.jpg\" alt=\"cnn_humans_fig\" style=\"max-width:40%; background-color: white;\">\n",
    "</p>\n",
    "\n",
    "For text classification tasks like sentiment analysis, similar intuition applies. When determining if a review is positive or negative, certain phrases serve as strong indicators regardless of where they appear in the text:\n",
    "- \"absolutely amazing\"\n",
    "- \"bored to death\"\n",
    "- \"waste of time\"\n",
    "\n",
    "We care that these phrases occur, not their exact position. CNNs can learn to detect such n-gram patterns and use them for classification."
   ]
  },
  {
   "cell_type": "markdown",
   "metadata": {},
   "source": [
    "## 2. Building Blocks\n",
    "A typical CNN architecture for text classification consists of:\n",
    "1. **Embedding layer**: converts words to dense vectors\n",
    "2. **Convolutional layer**: detects n-gram patterns with sliding windows\n",
    "3. **Pooling layer**: aggregates pattern detections across positions\n",
    "4. **Dense layer**: performs final classification\n",
    "\n",
    "**Source**: Please see this blogpost for more information (also the source of many of the figures): https://lena-voita.github.io/nlp_course/models/convolutional.html\n",
    "\n",
    "<p align=\"center\" >\n",
    "    <img src=\"https://lena-voita.github.io/resources/lectures/models/cnn/typical_cnn_with_cat-min.png\" alt=\"cnn_main_fig\" style=\"max-width:40%; background-color: white;\">\n",
    "</p>"
   ]
  },
  {
   "cell_type": "markdown",
   "metadata": {},
   "source": [
    "### 2.1 Convolution for Text\n",
    "Unlike images (2D), text is 1-dimensional. A convolutional filter slides over word embeddings with a fixed window size (kernel size).\n",
    "- **Kernel size**: number of consecutive words the filter examines (e.g., 3 for trigrams)\n",
    "- **Number of filters**: how many different patterns to learn\n",
    "- Each filter acts as a pattern detector, computing similarity between its weights and the input window"
   ]
  },
  {
   "cell_type": "markdown",
   "metadata": {},
   "source": [
    "### 2.2 Pooling\n",
    "After convolution extracts features at each position, pooling aggregates them:\n",
    "- **Max pooling**: takes the maximum activation for each filter across all positions\n",
    "- **Global max pooling**: applies max pooling over the entire sequence\n",
    "This gives us a fixed-size representation regardless of input length, answering \"did this pattern occur anywhere?\""
   ]
  },
  {
   "cell_type": "markdown",
   "metadata": {},
   "source": [
    "### *Load Standard Packages*\n",
    "- We will load some other specific ones later in the document when we need them\n",
    "- For our machine learning packages we will again use `pytorch` or `torch`. For this notebook we will use the subpackage `nn`, so keep in mind that we import this from torch so you know where it came from.   \n",
    "    - FYI: The main machine learning package these days are indeed `pytorch` and `keras`, a package we will see for the next tutorial notebook about RNNs, but let's focus on torch for now."
   ]
  },
  {
   "cell_type": "code",
   "execution_count": 1,
   "metadata": {},
   "outputs": [
    {
     "name": "stdout",
     "output_type": "stream",
     "text": [
      "Using device: cuda\n"
     ]
    }
   ],
   "source": [
    "# ignore warning messages for cleaner output of the website\n",
    "import warnings\n",
    "warnings.filterwarnings('ignore')\n",
    "\n",
    "# Import necessary libraries\n",
    "import torch\n",
    "import torch.nn as nn\n",
    "import torch.optim as optim\n",
    "from torch.utils.data import Dataset, DataLoader\n",
    "from sklearn.model_selection import train_test_split\n",
    "\n",
    "from datasets import load_dataset\n",
    "import numpy as np\n",
    "import matplotlib.pyplot as plt\n",
    "from collections import Counter\n",
    "from tqdm import tqdm\n",
    "\n",
    "# Set random seeds for reproducibility\n",
    "torch.manual_seed(42)\n",
    "np.random.seed(42)\n",
    "\n",
    "# Check if GPU is available\n",
    "device = torch.device('cuda' if torch.cuda.is_available() else 'cpu')\n",
    "print(f\"Using device: {device}\")\n"
   ]
  },
  {
   "cell_type": "markdown",
   "metadata": {},
   "source": [
    " ## 3 Data Preparation: Building the Tokenizer\n",
    "\n",
    "Untill now we have seen three different ways to process text data:\n",
    "1. In a Bag-Of-Words (BOW) setup, where we just count the words to obtain a `DictVectorizer` (one-hot representation)\n",
    "2. Using pre-trained Word Embeddings (e.g. Word2Vec)\n",
    "\n",
    "We will now walk you through a more common approach, which does preserve the order of the words in a sentence (unlike the BOW setup).\n",
    "This approach contains the following steps:\n",
    "1. We preprocess the text to remove irrelevant parts of the data (for ease of computation, but newer models don't really do this anymore)\n",
    "2. We construct a `Tokenizer` for our corpus. While tokenization can mean many thing, in Machine Learning a tokenizer is basically a dictionary which maps each input word to a number (e.g. \"apple\" -> 42). However, a corpus often contains many words only once or sometimes twice, a phenomena known as [Zipf's Law](https://en.wikipedia.org/wiki/Zipf%27s_law) tells us that for many corpuses if we order all the words based on their frequency, the frequency of the n-th word (which we say has _rank_ n) is 1/n. As illustrated by the equation and plot below, we obtain a lot very uncommon words. Learning all these words will result in a lot of noise for our predictions (if we only have 1 case of a word, it's not a very reliable predictor), and it takes us way more computation to learn the relationship for all of them. Therefore a common practice for smaller models and datasets is to only keep the top N most frequent words, and replace the others with a special token `<UNK>`. \n",
    "\n",
    "$${\\displaystyle \\ {\\mathsf {word\\ frequency}}\\ \\propto \\ {\\frac {1}{\\ {\\mathsf {word\\ rank}}\\ }}~.}$$\n",
    "<p align=\"center\" >\n",
    "    <img src=\"https://www.researchgate.net/publication/282200883/figure/fig3/AS:647173804945438@1531309667829/A-Zipf-distribution-of-word-frequencies.png\" alt=\"zipfslaw_fig\" style=\"max-width:20%; background-color: white;\">\n",
    "</p>\n"
   ]
  },
  {
   "cell_type": "code",
   "execution_count": 2,
   "metadata": {},
   "outputs": [
    {
     "name": "stdout",
     "output_type": "stream",
     "text": [
      "Loading IMDB dataset...\n"
     ]
    }
   ],
   "source": [
    "# Load IMDB dataset\n",
    "print(\"Loading IMDB dataset...\")\n",
    "imdb_train_full = load_dataset('imdb', split='train')\n",
    "imdb_test = load_dataset('imdb', split='test')\n",
    "\n",
    "# shuffle data\n",
    "imdb_train_full.shuffle()\n",
    "imdb_test.shuffle()\n",
    "\n",
    "# Extract texts and labels\n",
    "X_train_full, y_train_full = imdb_train_full['text'], imdb_train_full['label']\n",
    "X_test, y_test = imdb_test['text'], imdb_test['label']\n",
    "\n",
    "\n",
    "X_train, X_val, y_train, y_val = train_test_split(\n",
    "    X_train_full, y_train_full, test_size=0.1, random_state=42\n",
    ")"
   ]
  },
  {
   "cell_type": "code",
   "execution_count": 3,
   "metadata": {},
   "outputs": [
    {
     "name": "stdout",
     "output_type": "stream",
     "text": [
      "Train samples: 22500\n",
      "Validation samples: 2500\n",
      "Test samples: 25000\n"
     ]
    }
   ],
   "source": [
    "print(f\"Train samples: {len(X_train)}\")\n",
    "print(f\"Validation samples: {len(X_val)}\")\n",
    "print(f\"Test samples: {len(X_test)}\")\n"
   ]
  },
  {
   "cell_type": "markdown",
   "metadata": {},
   "source": [
    "#### Preprocess the data and tokenize\n",
    "- Preprocess data\n",
    "- Create a Tokenizer"
   ]
  },
  {
   "cell_type": "code",
   "execution_count": 4,
   "metadata": {},
   "outputs": [],
   "source": [
    "import string\n",
    "import nltk\n",
    "from nltk.corpus import stopwords\n",
    "\n",
    "nltk.download('stopwords', quiet=True)\n",
    "STOPWORDS_SET = set(stopwords.words('english'))"
   ]
  },
  {
   "cell_type": "code",
   "execution_count": 5,
   "metadata": {},
   "outputs": [
    {
     "name": "stdout",
     "output_type": "stream",
     "text": [
      "Original vocabulary size (unique words): 114321 - so we only keep 8.75%\n",
      "Vocabulary size: 10000\n"
     ]
    }
   ],
   "source": [
    "\n",
    "def preprocess_data(text, remove_stopwords=False):\n",
    "    # Convert to lowercase\n",
    "    text = text.lower()\n",
    "    # Remove punctuation (simple version)\n",
    "    text = ''.join([ch for ch in text if ch not in string.punctuation])\n",
    "\n",
    "    #  We don't do this right now but common options are:\n",
    "    if remove_stopwords:\n",
    "        words = text.split()\n",
    "        words = [w for w in words if w not in STOPWORDS_SET]\n",
    "        text = ' '.join(words)\n",
    "\n",
    "    return text\n",
    "\n",
    "# Build vocabulary from training data\n",
    "def build_vocab(texts, max_vocab_size=10000):\n",
    "    \"\"\"Build vocabulary from texts.\"\"\"\n",
    "    word_counts = Counter()\n",
    "    for text in texts:\n",
    "        text = preprocess_data(text)\n",
    "        words = text.split()\n",
    "        word_counts.update(words)\n",
    "    \n",
    "    # Print original number of unique words\n",
    "    print(f\"Original vocabulary size (unique words): {len(word_counts)} - so we only keep {100 * max_vocab_size / len(word_counts):.2f}%\")\n",
    "    \n",
    "    # Keep most common words\n",
    "    most_common = word_counts.most_common(max_vocab_size - 2)  # -2 for PAD and UNK\n",
    "    \n",
    "    # Create word to index mapping\n",
    "    word2idx = {'<PAD>': 0, '<UNK>': 1}\n",
    "    for word, _ in most_common:\n",
    "        word2idx[word] = len(word2idx)\n",
    "    \n",
    "    return word2idx\n",
    "\n",
    "# Build vocabulary\n",
    "vocab = build_vocab(X_train, max_vocab_size=10000)\n",
    "index2word = {idx: word for word, idx in vocab.items()}\n",
    "print(f\"Vocabulary size: {len(vocab)}\")\n"
   ]
  },
  {
   "cell_type": "code",
   "execution_count": 6,
   "metadata": {},
   "outputs": [
    {
     "name": "stdout",
     "output_type": "stream",
     "text": [
      "Training sequences shape: (22500, 256)\n",
      "Test sequences shape: (25000, 256)\n"
     ]
    }
   ],
   "source": [
    "def texts_to_sequences(texts, word2idx, max_length=256):\n",
    "    \"\"\"Convert texts to sequences of indices.\"\"\"\n",
    "    sequences = []\n",
    "    for text in texts:\n",
    "        # words = text.lower().split()\n",
    "        words = preprocess_data(text).split()\n",
    "        seq = [word2idx.get(word, word2idx['<UNK>']) for word in words]\n",
    "        # Truncate or pad\n",
    "        if len(seq) > max_length:\n",
    "            seq = seq[:max_length]\n",
    "        else:\n",
    "            seq = seq + [word2idx['<PAD>']] * (max_length - len(seq))\n",
    "        sequences.append(seq)\n",
    "    return np.array(sequences)\n",
    "\n",
    "# Convert to sequences\n",
    "MAX_LENGTH = 256\n",
    "X_train_seq = texts_to_sequences(X_train, vocab, MAX_LENGTH)\n",
    "X_test_seq = texts_to_sequences(X_test, vocab, MAX_LENGTH)\n",
    "X_val_seq = texts_to_sequences(X_val, vocab, MAX_LENGTH)\n",
    "\n",
    "print(f\"Training sequences shape: {X_train_seq.shape}\")\n",
    "print(f\"Test sequences shape: {X_test_seq.shape}\")\n"
   ]
  },
  {
   "cell_type": "code",
   "execution_count": 7,
   "metadata": {},
   "outputs": [
    {
     "name": "stdout",
     "output_type": "stream",
     "text": [
      "========================================\n",
      "Example sequence (first training example):\n",
      "- Input string (original):\n",
      "I was p***ed when I couldn't see this one when it was screening at the Philly Film Fest last year, s...\n",
      " - First 10 words:                        \"I, was, p***ed, when, I, couldn't, see, this, one, when\"\n",
      " - Sequence indices (first 10):           10, 14, 1, 51, 10, 404, 66, 11, 29, 51\n",
      " - Recasted words from indices (first 10): i, was, <UNK>, when, i, couldnt, see, this, one, when\n",
      "========================================\n"
     ]
    }
   ],
   "source": [
    "sample_idx = 0\n",
    "max_words = 10\n",
    "\n",
    "x_train_samlple = X_train[sample_idx]\n",
    "X_train_seq_sample = X_train_seq[sample_idx]\n",
    "x_train_recast = [index2word[idx] for idx in X_train_seq_sample]\n",
    "\n",
    "print(\"=\"*40)\n",
    "print(\"Example sequence (first training example):\")\n",
    "print(\"- Input string (original):\")\n",
    "print(x_train_samlple[:min(100, len(x_train_samlple))] + \"...\")  # Show first 100 chars\n",
    "print(\" - First 10 words:                       \", repr(\", \".join(x_train_samlple.split()[:max_words])))\n",
    "print(\" - Sequence indices (first 10):          \", \", \".join(str(idx) for idx in X_train_seq_sample[:max_words]))\n",
    "print(\" - Recasted words from indices (first 10):\", \", \".join(x_train_recast[:max_words]))\n",
    "print(\"=\"*40)"
   ]
  },
  {
   "cell_type": "markdown",
   "metadata": {},
   "source": [
    "**Observation:** In the above example we see an example of an input sentence, which is tokenized to numbers, and then using the tokenizer back into words. We see that in this process some information has been lost (purposefully). Namely we don't know if a word was uppercase or lowercase before, and some words such as \"CURIOUS-YELLOW\" are replaced by our unknown token symbol `<UNK>`. "
   ]
  },
  {
   "cell_type": "code",
   "execution_count": 8,
   "metadata": {},
   "outputs": [],
   "source": [
    "# Create PyTorch datasets class\n",
    "class TextDataset(Dataset):\n",
    "    def __init__(self, sequences, labels):\n",
    "        self.sequences = torch.LongTensor(sequences)\n",
    "        self.labels = torch.LongTensor(labels)\n",
    "    \n",
    "    def __len__(self):\n",
    "        return len(self.sequences)\n",
    "    \n",
    "    def __getitem__(self, idx):\n",
    "        return self.sequences[idx], self.labels[idx]\n",
    "\n",
    "train_dataset = TextDataset(X_train_seq, y_train)\n",
    "test_dataset = TextDataset(X_test_seq, y_test)\n",
    "val_dataset =  TextDataset(X_val_seq, y_val)\n"
   ]
  },
  {
   "cell_type": "markdown",
   "metadata": {},
   "source": [
    "**Note:** For the next experiments we only use the three dataset variables. Pytorch makes it very easy for us to train a model for a dataset, but it does ask of us that we present our dataset first in a dataset class, which is why we create the small dataset class above."
   ]
  },
  {
   "cell_type": "markdown",
   "metadata": {},
   "source": [
    " ## 4. CNN Model for Sentiment Classification"
   ]
  },
  {
   "cell_type": "markdown",
   "metadata": {},
   "source": [
    "\n",
    "---\n",
    " ### 4.1 Model Architecture\n",
    " - The important components for the CNN layer are `nn.Conv1d()` from pytorch, which takes care of most of the complicated parts for us. Check out the documentation here to understand what parameters we can give it."
   ]
  },
  {
   "cell_type": "code",
   "execution_count": 9,
   "metadata": {},
   "outputs": [
    {
     "name": "stdout",
     "output_type": "stream",
     "text": [
      "TextCNN(\n",
      "  (embedding): Embedding(10000, 100, padding_idx=0)\n",
      "  (conv): Conv1d(100, 100, kernel_size=(3,), stride=(1,))\n",
      "  (relu): ReLU()\n",
      "  (fc): Linear(in_features=100, out_features=2, bias=True)\n",
      ")\n"
     ]
    }
   ],
   "source": [
    "class TextCNN(nn.Module):\n",
    "    \"\"\"CNN for text classification.\"\"\"\n",
    "    \n",
    "    def __init__(self, vocab_size, embedding_dim, num_filters, kernel_size, num_classes):\n",
    "        super(TextCNN, self).__init__()\n",
    "        \n",
    "        # Embedding layer\n",
    "        self.embedding = nn.Embedding(vocab_size, embedding_dim, padding_idx=0)\n",
    "        \n",
    "        # Convolutional layer\n",
    "        # Input: (batch, embedding_dim, sequence_length)\n",
    "        # Output: (batch, num_filters, sequence_length - kernel_size + 1)\n",
    "        self.conv = nn.Conv1d(\n",
    "            in_channels=embedding_dim,\n",
    "            out_channels=num_filters,\n",
    "            kernel_size=kernel_size\n",
    "        )\n",
    "        \n",
    "        # Activation function and Classifica\n",
    "        self.relu = nn.ReLU()\n",
    "        self.fc = nn.Linear(num_filters, num_classes) # Classification layer\n",
    "        \n",
    "        # we set the pooling function here as a variable. Note the lack of brackets \"()\" at the end, which means we are not calling the function yet\n",
    "        # we could later also add another pooling function and switch between them\n",
    "        self.pool = self.max_pool1d\n",
    "    \n",
    "    def max_pool1d(self, x):\n",
    "        return torch.max(x, dim=2)[0]\n",
    "    \n",
    "    def forward(self, x):\n",
    "        # convert each token_id to an embedding (vector)\n",
    "        embedded = self.embedding(x)           # (batch, seq_len, embed_dim)\n",
    "        embedded = embedded.transpose(1, 2)    # (batch, embed_dim, seq_len)\n",
    "        \n",
    "        #  Apply convolutional layer and pooling\n",
    "        conv_out = self.conv(embedded)         # (batch, num_filters, conv_seq_len)\n",
    "        activated = self.relu(conv_out)        # (batch, num_filters, conv_seq_len)\n",
    "        pooled = self.pool(activated)\n",
    "\n",
    "        # Output predicted class (0 or 1), input is the number of filters)\n",
    "        output = self.fc(pooled)               # (batch, num_classes)\n",
    "        return output\n",
    "    \n",
    "\n",
    "# Create model\n",
    "model = TextCNN(\n",
    "    vocab_size=len(vocab),\n",
    "    embedding_dim=100,\n",
    "    num_filters=100,\n",
    "    kernel_size=3,\n",
    "    num_classes=2\n",
    ").to(device)\n",
    "\n",
    "print(model)\n"
   ]
  },
  {
   "cell_type": "markdown",
   "metadata": {},
   "source": [
    "---\n",
    "### 4.2 Training and Evaluation\n",
    "\n",
    " Some training specifications:\n",
    " - As discussed in tutorial notebook  M2.3 Neural Networks, when we train a neural network, we need to specify a loss function, and an optimizer. \n",
    "    -  We use the `Adam` optimizer, which is currently one of the most widely used optimizer (and invented by a guy from the UvA, called Max Welling and some other dude named Kingma). The `Adam` is a tad more fancy optimizer than the classical `Stochastic Gradient Descent` (SGD). The main benefit of `Adam` is that it is more stable (i.e. we optimize it in the best possible way to get the best model).\n",
    "    - For classification tasks a typical loss function is the `CrossEntropyLoss()`, see the previous tutorial notebooks for more info."
   ]
  },
  {
   "cell_type": "code",
   "execution_count": 52,
   "metadata": {},
   "outputs": [
    {
     "name": "stderr",
     "output_type": "stream",
     "text": [
      "Epoch 1/5: 100%|██████████| 352/352 [00:01<00:00, 321.17it/s]\n"
     ]
    },
    {
     "name": "stdout",
     "output_type": "stream",
     "text": [
      "Epoch 1: Train Loss=0.5244, Train Acc=0.7348, Val Acc=0.7892\n"
     ]
    },
    {
     "name": "stderr",
     "output_type": "stream",
     "text": [
      "Epoch 2/5: 100%|██████████| 352/352 [00:00<00:00, 458.21it/s]\n"
     ]
    },
    {
     "name": "stdout",
     "output_type": "stream",
     "text": [
      "Epoch 2: Train Loss=0.3502, Train Acc=0.8522, Val Acc=0.8460\n"
     ]
    },
    {
     "name": "stderr",
     "output_type": "stream",
     "text": [
      "Epoch 3/5: 100%|██████████| 352/352 [00:00<00:00, 474.34it/s]\n"
     ]
    },
    {
     "name": "stdout",
     "output_type": "stream",
     "text": [
      "Epoch 3: Train Loss=0.2653, Train Acc=0.8953, Val Acc=0.8556\n"
     ]
    },
    {
     "name": "stderr",
     "output_type": "stream",
     "text": [
      "Epoch 4/5: 100%|██████████| 352/352 [00:00<00:00, 478.11it/s]\n"
     ]
    },
    {
     "name": "stdout",
     "output_type": "stream",
     "text": [
      "Epoch 4: Train Loss=0.1962, Train Acc=0.9304, Val Acc=0.8420\n"
     ]
    },
    {
     "name": "stderr",
     "output_type": "stream",
     "text": [
      "Epoch 5/5: 100%|██████████| 352/352 [00:00<00:00, 457.64it/s]\n"
     ]
    },
    {
     "name": "stdout",
     "output_type": "stream",
     "text": [
      "Epoch 5: Train Loss=0.1416, Train Acc=0.9546, Val Acc=0.8652\n",
      "Loading best model from epoch 5 with Val Acc=0.8652\n",
      "Test Accuracy (best model): 0.8574\n"
     ]
    }
   ],
   "source": [
    "def train_model(model, train_dataset, val_dataset, test_dataset, epochs=5, batch_size=64, lr=0.001, verbose=True):\n",
    "    train_loader = DataLoader(train_dataset, batch_size=batch_size, shuffle=True)\n",
    "    val_loader = DataLoader(val_dataset, batch_size=batch_size)\n",
    "    test_loader = DataLoader(test_dataset, batch_size=batch_size)\n",
    "\n",
    "    criterion = nn.CrossEntropyLoss()\n",
    "    optimizer = optim.Adam(model.parameters(), lr=lr)\n",
    "\n",
    "    history = {'train_loss': [], 'train_acc': [], 'val_acc': []}\n",
    "    best_val_acc = 0.0\n",
    "    best_epoch = 0\n",
    "    best_model_path = \"best_model.pt\"\n",
    "\n",
    "    for epoch in range(epochs):\n",
    "        model.train()\n",
    "        train_loss = 0\n",
    "        train_correct = 0\n",
    "        train_total = 0\n",
    "\n",
    "        for sequences, labels in tqdm(train_loader, desc=f\"Epoch {epoch+1}/{epochs}\", disable=not verbose):\n",
    "            sequences, labels = sequences.to(device), labels.to(device)\n",
    "            optimizer.zero_grad()\n",
    "            outputs = model(sequences)\n",
    "            loss = criterion(outputs, labels)\n",
    "            loss.backward()\n",
    "            optimizer.step()\n",
    "\n",
    "            train_loss += loss.item()\n",
    "            _, predicted = torch.max(outputs, 1)\n",
    "            train_total += labels.size(0)\n",
    "            train_correct += (predicted == labels).sum().item()\n",
    "\n",
    "        train_acc = train_correct / train_total\n",
    "        avg_train_loss = train_loss / len(train_loader)\n",
    "\n",
    "        # Validation\n",
    "        model.eval()\n",
    "        val_correct = 0\n",
    "        val_total = 0\n",
    "        with torch.no_grad():\n",
    "            for sequences, labels in val_loader:\n",
    "                sequences, labels = sequences.to(device), labels.to(device)\n",
    "                outputs = model(sequences)\n",
    "                _, predicted = torch.max(outputs, 1)\n",
    "                val_total += labels.size(0)\n",
    "                val_correct += (predicted == labels).sum().item()\n",
    "        val_acc = val_correct / val_total\n",
    "\n",
    "        history['train_loss'].append(avg_train_loss)\n",
    "        history['train_acc'].append(train_acc)\n",
    "        history['val_acc'].append(val_acc)\n",
    "\n",
    "        if val_acc > best_val_acc:\n",
    "            best_val_acc = val_acc\n",
    "            best_epoch = epoch\n",
    "            torch.save(model.state_dict(), best_model_path)\n",
    "\n",
    "        if verbose:\n",
    "            print(f\"Epoch {epoch+1}: Train Loss={avg_train_loss:.4f}, Train Acc={train_acc:.4f}, Val Acc={val_acc:.4f}\")\n",
    "\n",
    "    # Load best model\n",
    "    if verbose:\n",
    "        print(f\"Loading best model from epoch {best_epoch+1} with Val Acc={best_val_acc:.4f}\")\n",
    "    model.load_state_dict(torch.load(best_model_path))\n",
    "\n",
    "    # Test set evaluation\n",
    "    test_correct = 0\n",
    "    test_total = 0\n",
    "    model.eval()\n",
    "    with torch.no_grad():\n",
    "        for sequences, labels in test_loader:\n",
    "            sequences, labels = sequences.to(device), labels.to(device)\n",
    "            outputs = model(sequences)\n",
    "            _, predicted = torch.max(outputs, 1)\n",
    "            test_total += labels.size(0)\n",
    "            test_correct += (predicted == labels).sum().item()\n",
    "    test_acc = test_correct / test_total\n",
    "\n",
    "    return history, test_acc\n",
    "\n",
    "# Create model\n",
    "model = TextCNN(\n",
    "    vocab_size=len(vocab),\n",
    "    embedding_dim=100,\n",
    "    num_filters=100,\n",
    "    kernel_size=2,\n",
    "    num_classes=2\n",
    ").to(device)\n",
    "\n",
    "# Train the model\n",
    "history, test_acc = train_model(model, train_dataset, val_dataset, test_dataset, epochs=5, batch_size=64, verbose=True)\n",
    "print(f\"Test Accuracy (best model): {test_acc:.4f}\")\n"
   ]
  },
  {
   "cell_type": "code",
   "execution_count": 53,
   "metadata": {},
   "outputs": [
    {
     "data": {
      "image/png": "[encoded data removed]",
      "text/plain": [
       "<Figure size 1200x400 with 2 Axes>"
      ]
     },
     "metadata": {},
     "output_type": "display_data"
    }
   ],
   "source": [
    "# Visualize training progress\n",
    "plt.figure(figsize=(12, 4))\n",
    "\n",
    "plt.subplot(1, 2, 1)\n",
    "plt.plot(history['train_loss'])\n",
    "plt.title('Training Loss')\n",
    "plt.xlabel('Epoch')\n",
    "plt.ylabel('Loss')\n",
    "plt.grid(True)\n",
    "\n",
    "plt.subplot(1, 2, 2)\n",
    "plt.plot(history['train_acc'], label='Train')\n",
    "plt.plot(history['val_acc'], label='Validation')\n",
    "plt.title('Accuracy')\n",
    "plt.xlabel('Epoch')\n",
    "plt.ylabel('Accuracy')\n",
    "plt.legend()\n",
    "plt.grid(True)\n",
    "\n",
    "plt.tight_layout()\n",
    "plt.show()\n"
   ]
  },
  {
   "cell_type": "markdown",
   "metadata": {},
   "source": [
    "**Observations**:\n",
    "When inspecting the accuracy per epoch we notice a few important things. The first one is that the accuracy for both the train and the test split is pretty good, so since it is increasing and higher than 50\\% (which would be random guessing), we notice that the model has learned something.  Moreover, the accuracy for both datasets seems to be increasing still after 5 epochs, so normally this tells us we should train the model longer so that we have the optimal performance, however, for now we leave it at this and explore some more parameters of the model."
   ]
  },
  {
   "cell_type": "markdown",
   "metadata": {},
   "source": [
    "--- \n",
    "\n",
    "## 5. Parameter Exploration\n",
    "We now systematically vary key hyperparameters to understand their effect on performance."
   ]
  },
  {
   "cell_type": "markdown",
   "metadata": {},
   "source": [
    " ### 5.1 Effect of Kernel Size\n",
    "\n",
    " <p align=\"center\" >\n",
    "    <img src=\"https://lena-voita.github.io/resources/lectures/models/cnn/kernel_size-min.png\" alt=\"cnn_kernelsize_fig\" style=\"max-width:80%; background-color: white;\">\n",
    "</p>"
   ]
  },
  {
   "cell_type": "code",
   "execution_count": 54,
   "metadata": {},
   "outputs": [
    {
     "name": "stderr",
     "output_type": "stream",
     "text": [
      "100%|██████████| 5/5 [00:20<00:00,  4.14s/it]\n"
     ]
    }
   ],
   "source": [
    "def evaluate_model(model, test_dataset, batch_size=64):\n",
    "    \"\"\"Evaluate model and return accuracy.\"\"\"\n",
    "    test_loader = DataLoader(test_dataset, batch_size=batch_size)\n",
    "    model.eval()\n",
    "    correct = 0\n",
    "    total = 0\n",
    "    \n",
    "    with torch.no_grad():\n",
    "        for sequences, labels in test_loader:\n",
    "            sequences, labels = sequences.to(device), labels.to(device)\n",
    "            outputs = model(sequences)\n",
    "            _, predicted = torch.max(outputs, 1)\n",
    "            total += labels.size(0)\n",
    "            correct += (predicted == labels).sum().item()\n",
    "    \n",
    "    return correct / total\n",
    "\n",
    "# Test different kernel sizes\n",
    "kernel_sizes = [1, 2, 3, 4, 5]\n",
    "kernel_results = []\n",
    "\n",
    "# print(\"Testing different kernel sizes...\")\n",
    "for k_size in tqdm(kernel_sizes):    \n",
    "    model = TextCNN(\n",
    "        vocab_size=len(vocab),\n",
    "        embedding_dim=100,\n",
    "        num_filters=100,\n",
    "        kernel_size=k_size,\n",
    "        num_classes=2\n",
    "    ).to(device)\n",
    "    \n",
    "    history, final_acc = train_model(model, train_dataset, val_dataset, test_dataset, epochs=5, batch_size=64, verbose=False)\n",
    "    kernel_results.append(final_acc)\n"
   ]
  },
  {
   "cell_type": "code",
   "execution_count": 55,
   "metadata": {},
   "outputs": [
    {
     "data": {
      "image/png": "[encoded data removed]",
      "text/plain": [
       "<Figure size 600x300 with 1 Axes>"
      ]
     },
     "metadata": {},
     "output_type": "display_data"
    }
   ],
   "source": [
    "def plot_tuning_results(x_values, y_values, x_axis_label, title='Hyperparameter Tuning', marker='o', color='b', y_plot_delta=0.0005, return_fig=False):\n",
    "    plt.figure(figsize=(6, 3))\n",
    "    plt.plot(x_values, y_values, marker=marker, linestyle='-', color=color)\n",
    "    plt.xlabel(x_axis_label)\n",
    "    plt.ylabel('Test Accuracy')\n",
    "    plt.title(title)\n",
    "    plt.xticks(x_values)\n",
    "    plt.grid(True, axis='y', alpha=0.3)\n",
    "\n",
    "    ax = plt.gca()\n",
    "    ax.spines['top'].set_visible(False)\n",
    "    ax.spines['right'].set_visible(False)\n",
    "\n",
    "    for i, acc in enumerate(y_values):\n",
    "        plt.text(x_values[i], acc + y_plot_delta, f'{acc:.3f}', ha='center')\n",
    "\n",
    "    if return_fig:\n",
    "        return plt.gcf()\n",
    "    else:\n",
    "        plt.tight_layout()\n",
    "        plt.show()\n",
    "\n",
    "plot_tuning_results(kernel_sizes, kernel_results, x_axis_label='Kernel Size', title='Effect of Kernel Size on Test Accuracy')"
   ]
  },
  {
   "cell_type": "markdown",
   "metadata": {},
   "source": [
    "**Observation:** We see that the accuracy for kernel size 2 achieves the best test accuracy. One likely reason is that increasing the kernel size increases the complexity of the task as well (there are many more tri-grams, than bi-grams to learn). "
   ]
  },
  {
   "cell_type": "markdown",
   "metadata": {},
   "source": [
    "### 5.2 Effect of Number of Filters\n",
    "- The number of filters determines the numbmer of features we obtain at the end. In simple terms it increases the computational power of our model. \n",
    "\n",
    "However, like before with more computational power we obtain the classical trade-off: \n",
    "- The computational complexity increase: we need better hardware and longer training time to train our models\n",
    "- We have higher risk of overfitting: the model might memorize the training data, causing very high accuracy on the training split, but obtaining bad accurcy on the test and validation splits.\n",
    "  <p align=\"center\" >\n",
    "    <img src=\"https://lena-voita.github.io/resources/lectures/models/cnn/several_filters-min.png\" alt=\"cnn_stride_fig\" style=\"max-width:20%; background-color: white;\">\n",
    "</p>"
   ]
  },
  {
   "cell_type": "code",
   "execution_count": 56,
   "metadata": {},
   "outputs": [
    {
     "name": "stdout",
     "output_type": "stream",
     "text": [
      "Testing different numbers of filters...\n"
     ]
    },
    {
     "name": "stderr",
     "output_type": "stream",
     "text": [
      "100%|██████████| 5/5 [00:13<00:00,  2.61s/it]"
     ]
    },
    {
     "name": "stdout",
     "output_type": "stream",
     "text": [
      "Parameter counts for each num_filters: [1001517, 1007577, 1015152, 1030302, 1060602]\n"
     ]
    },
    {
     "name": "stderr",
     "output_type": "stream",
     "text": [
      "\n"
     ]
    }
   ],
   "source": [
    "# Test different numbers of filters and store parameter counts\n",
    "num_filters_list = [5, 25, 50, 100, 200]\n",
    "filter_results = []\n",
    "param_counts = []\n",
    "\n",
    "print(\"Testing different numbers of filters...\")\n",
    "for num_f in tqdm(num_filters_list):\n",
    "    model = TextCNN(\n",
    "        vocab_size=len(vocab),\n",
    "        embedding_dim=100,\n",
    "        num_filters=num_f,\n",
    "        kernel_size=3,\n",
    "        num_classes=2\n",
    "    ).to(device)\n",
    "    \n",
    "    # Store total number of parameters\n",
    "    param_counts.append(sum(p.numel() for p in model.parameters()))\n",
    "    \n",
    "    history, final_acc = train_model(model, train_dataset, val_dataset, test_dataset, epochs=3, batch_size=64, verbose=False)\n",
    "    filter_results.append(final_acc)\n",
    "\n",
    "print(\"Parameter counts for each num_filters:\", param_counts)\n",
    "\n"
   ]
  },
  {
   "cell_type": "code",
   "execution_count": 57,
   "metadata": {},
   "outputs": [
    {
     "data": {
      "image/png": "[encoded data removed]",
      "text/plain": [
       "<Figure size 600x300 with 1 Axes>"
      ]
     },
     "metadata": {},
     "output_type": "display_data"
    }
   ],
   "source": [
    "plot_tuning_results(num_filters_list, filter_results, x_axis_label='Number of Filters', title='Effect of Number of Filters on Test Accuracy', y_plot_delta=0.0002)\n",
    "\n",
    "# plot number of parameters\n",
    "# plot_tuning_results(num_filters_list, param_counts, x_axis_label='Number of Parameters', title='Effect of Number of Parameters on Test Accuracy', y_plot_delta=0.0002)"
   ]
  },
  {
   "cell_type": "markdown",
   "metadata": {},
   "source": [
    "**Observation**: \n",
    "- We see that the number of filters helps us a lot and increases the accuracy reliably up to 200 filters. However, the improvement in accuracy does result in diminishing returns, as doubling the number of filters from 100 to 200 only increases the test accuracy by 7%.\n",
    "<!-- but after after 100 filters this patter stops. As usual the model has likely learned to _overfit_ on the training data. -->"
   ]
  },
  {
   "cell_type": "markdown",
   "metadata": {},
   "source": [
    "### 5.3 [TODO] Stride\n",
    " - Improves efficiency (run with timing)\n",
    " - But also if we use a stride higher than 1, we miss some tri-gram information. \n",
    "\n",
    " <p align=\"center\" >\n",
    "    <img src=\"https://lena-voita.github.io/resources/lectures/models/cnn/stride-min.png\" alt=\"cnn_stride_fig\" style=\"max-width:80%; background-color: white;\">\n",
    "</p>"
   ]
  },
  {
   "cell_type": "markdown",
   "metadata": {},
   "source": [
    " ### 5.4 Multiple Kernel Sizes (Parallel Convolutions)\n",
    "- We can also use a combination of different kernelsizes to obtain further improve our model.\n",
    "<!-- - Following Kim (2014), we can use multiple convolutions with different kernel sizes in parallel and concatenate their outputs. -->"
   ]
  },
  {
   "cell_type": "code",
   "execution_count": 58,
   "metadata": {},
   "outputs": [
    {
     "name": "stdout",
     "output_type": "stream",
     "text": [
      "Training multi-kernel CNN...\n",
      "Multi-kernel final accuracy: 0.8611\n"
     ]
    }
   ],
   "source": [
    "class MultiKernelCNN(nn.Module):\n",
    "    \"\"\"CNN with multiple kernel sizes in parallel.\"\"\"\n",
    "    \n",
    "    def __init__(self, vocab_size, embedding_dim, num_filters, kernel_sizes, num_classes):\n",
    "        super(MultiKernelCNN, self).__init__()\n",
    "        \n",
    "        self.embedding = nn.Embedding(vocab_size, embedding_dim, padding_idx=0)\n",
    "        \n",
    "        # Multiple convolutional layers with different kernel sizes\n",
    "        self.convs = nn.ModuleList([\n",
    "            nn.Conv1d(embedding_dim, num_filters, k)\n",
    "            for k in kernel_sizes\n",
    "        ])\n",
    "        \n",
    "        self.relu = nn.ReLU()\n",
    "        \n",
    "        # Output size is num_filters * number of kernels\n",
    "        self.fc = nn.Linear(num_filters * len(kernel_sizes), num_classes)\n",
    "        \n",
    "    def forward(self, x):\n",
    "        # Embedding\n",
    "        embedded = self.embedding(x)\n",
    "        embedded = embedded.transpose(1, 2)\n",
    "        \n",
    "        # Apply each convolution and pool\n",
    "        conv_outputs = []\n",
    "        for conv in self.convs:\n",
    "            conv_out = self.relu(conv(embedded))\n",
    "            pooled = torch.max(conv_out, dim=2)[0]\n",
    "            conv_outputs.append(pooled)\n",
    "        \n",
    "        # Concatenate all pooled outputs\n",
    "        concatenated = torch.cat(conv_outputs, dim=1)\n",
    "        \n",
    "        # Classification\n",
    "        output = self.fc(concatenated)\n",
    "        \n",
    "        return output\n",
    "\n",
    "# Train multi-kernel model\n",
    "print(\"Training multi-kernel CNN...\")\n",
    "multi_model = MultiKernelCNN(\n",
    "    vocab_size=len(vocab),\n",
    "    embedding_dim=100,\n",
    "    num_filters=100,\n",
    "    kernel_sizes=[2, 3, 4],\n",
    "    num_classes=2\n",
    ").to(device)\n",
    "\n",
    "multi_history, final_acc = train_model(multi_model, train_dataset, val_dataset, test_dataset, epochs=5, batch_size=64, verbose=False)\n",
    "print(f\"Multi-kernel final accuracy: {final_acc:.4f}\")\n"
   ]
  },
  {
   "cell_type": "markdown",
   "metadata": {},
   "source": [
    "**Observation**: We see that increasing the number of filters can help us more with classification. But do note that for each kernel, we get num_filters of filters, so effectively we just have set the number of filters to 300."
   ]
  },
  {
   "cell_type": "markdown",
   "metadata": {},
   "source": [
    "\n",
    "---\n",
    "## 6. Toy Dataset: Understanding Limitations\n",
    "We create a synthetic dataset to demonstrate that a CNN with kernel size k cannot capture patterns longer than k tokens."
   ]
  },
  {
   "cell_type": "markdown",
   "metadata": {},
   "source": [
    "####  6.1✨ N-Gram Statistics ✨\n",
    "- To understand how CNNs are related to kernel size, we inspect sample patterns below.\n",
    "- CNN filters with kernel size N can examine at most N consecutive tokens at a time."
   ]
  },
  {
   "cell_type": "code",
   "execution_count": 59,
   "metadata": {},
   "outputs": [],
   "source": [
    "# Our Patterns\n",
    "positive_pattern = \"A B A C A\"\n",
    "negative_pattern = \"A C A B A\""
   ]
  },
  {
   "cell_type": "code",
   "execution_count": 60,
   "metadata": {},
   "outputs": [
    {
     "name": "stdout",
     "output_type": "stream",
     "text": [
      "1-gram (unigram) statistics:\n"
     ]
    },
    {
     "data": {
      "text/html": [
       "<div>\n",
       "<style scoped>\n",
       "    .dataframe tbody tr th:only-of-type {\n",
       "        vertical-align: middle;\n",
       "    }\n",
       "\n",
       "    .dataframe tbody tr th {\n",
       "        vertical-align: top;\n",
       "    }\n",
       "\n",
       "    .dataframe thead th {\n",
       "        text-align: right;\n",
       "    }\n",
       "</style>\n",
       "<table border=\"1\" class=\"dataframe\">\n",
       "  <thead>\n",
       "    <tr style=\"text-align: right;\">\n",
       "      <th></th>\n",
       "      <th>Positive</th>\n",
       "      <th>Negative</th>\n",
       "    </tr>\n",
       "  </thead>\n",
       "  <tbody>\n",
       "    <tr>\n",
       "      <th>(A,)</th>\n",
       "      <td>3</td>\n",
       "      <td>3</td>\n",
       "    </tr>\n",
       "    <tr>\n",
       "      <th>(B,)</th>\n",
       "      <td>1</td>\n",
       "      <td>1</td>\n",
       "    </tr>\n",
       "    <tr>\n",
       "      <th>(C,)</th>\n",
       "      <td>1</td>\n",
       "      <td>1</td>\n",
       "    </tr>\n",
       "  </tbody>\n",
       "</table>\n",
       "</div>"
      ],
      "text/plain": [
       "      Positive  Negative\n",
       "(A,)         3         3\n",
       "(B,)         1         1\n",
       "(C,)         1         1"
      ]
     },
     "metadata": {},
     "output_type": "display_data"
    }
   ],
   "source": [
    "import pandas as pd\n",
    "from IPython.display import HTML\n",
    "\n",
    "def compute_ngram_stats(positive_pattern, negative_pattern, n):\n",
    "    \"\"\"\n",
    "    Compute n-gram statistics for two patterns.\n",
    "    \n",
    "    Args:\n",
    "        positive_pattern: String of space-separated tokens (e.g., \"A B A C A\")\n",
    "        negative_pattern: String of space-separated tokens (e.g., \"A C A B A\")\n",
    "        n: n-gram size (e.g., 1 for unigrams, 2 for bigrams)\n",
    "    \n",
    "    Returns:\n",
    "        DataFrame with Positive and Negative count columns\n",
    "    \"\"\"\n",
    "    def extract_ngrams(pattern_str, n):\n",
    "        tokens = pattern_str.split()\n",
    "        return [tuple(tokens[i:i+n]) for i in range(len(tokens)-n+1)]\n",
    "    \n",
    "    # Extract n-grams\n",
    "    grams_pos = extract_ngrams(positive_pattern, n)\n",
    "    grams_neg = extract_ngrams(negative_pattern, n)\n",
    "    \n",
    "    # Count occurrences\n",
    "    counts_pos = pd.Series(grams_pos).value_counts().sort_index()\n",
    "    counts_neg = pd.Series(grams_neg).value_counts().sort_index()\n",
    "    \n",
    "    # Combine into single DataFrame\n",
    "    df = pd.DataFrame({\n",
    "        'Positive': counts_pos,\n",
    "        'Negative': counts_neg\n",
    "    }).fillna(0).astype(int)\n",
    "    \n",
    "    return df\n",
    "\n",
    "# Display unigram statistics\n",
    "unigram_df = compute_ngram_stats(positive_pattern, negative_pattern, n=1)\n",
    "print(\"1-gram (unigram) statistics:\")\n",
    "display(unigram_df)\n"
   ]
  },
  {
   "cell_type": "markdown",
   "metadata": {},
   "source": [
    "#### Calculate: N-gram statistics for N=1,2,3,4"
   ]
  },
  {
   "cell_type": "code",
   "execution_count": 61,
   "metadata": {},
   "outputs": [
    {
     "data": {
      "text/html": [
       "<div style=\"display:flex\"><div style=\"margin-right: 32px\"><h4 style=\"text-align: center;\">1-gram</h4><table border=\"1\" class=\"dataframe\">\n",
       "  <thead>\n",
       "    <tr style=\"text-align: right;\">\n",
       "      <th></th>\n",
       "      <th>Positive</th>\n",
       "      <th>Negative</th>\n",
       "    </tr>\n",
       "  </thead>\n",
       "  <tbody>\n",
       "    <tr>\n",
       "      <th>(A,)</th>\n",
       "      <td>3</td>\n",
       "      <td>3</td>\n",
       "    </tr>\n",
       "    <tr>\n",
       "      <th>(B,)</th>\n",
       "      <td>1</td>\n",
       "      <td>1</td>\n",
       "    </tr>\n",
       "    <tr>\n",
       "      <th>(C,)</th>\n",
       "      <td>1</td>\n",
       "      <td>1</td>\n",
       "    </tr>\n",
       "  </tbody>\n",
       "</table></div><div style=\"margin-right: 32px\"><h4 style=\"text-align: center;\">2-gram</h4><table border=\"1\" class=\"dataframe\">\n",
       "  <thead>\n",
       "    <tr style=\"text-align: right;\">\n",
       "      <th></th>\n",
       "      <th>Positive</th>\n",
       "      <th>Negative</th>\n",
       "    </tr>\n",
       "  </thead>\n",
       "  <tbody>\n",
       "    <tr>\n",
       "      <th>(A, B)</th>\n",
       "      <td>1</td>\n",
       "      <td>1</td>\n",
       "    </tr>\n",
       "    <tr>\n",
       "      <th>(A, C)</th>\n",
       "      <td>1</td>\n",
       "      <td>1</td>\n",
       "    </tr>\n",
       "    <tr>\n",
       "      <th>(B, A)</th>\n",
       "      <td>1</td>\n",
       "      <td>1</td>\n",
       "    </tr>\n",
       "    <tr>\n",
       "      <th>(C, A)</th>\n",
       "      <td>1</td>\n",
       "      <td>1</td>\n",
       "    </tr>\n",
       "  </tbody>\n",
       "</table></div><div style=\"margin-right: 32px\"><h4 style=\"text-align: center;\">3-gram</h4><table border=\"1\" class=\"dataframe\">\n",
       "  <thead>\n",
       "    <tr style=\"text-align: right;\">\n",
       "      <th></th>\n",
       "      <th>Positive</th>\n",
       "      <th>Negative</th>\n",
       "    </tr>\n",
       "  </thead>\n",
       "  <tbody>\n",
       "    <tr>\n",
       "      <th>(A, B, A)</th>\n",
       "      <td>1</td>\n",
       "      <td>1</td>\n",
       "    </tr>\n",
       "    <tr>\n",
       "      <th>(A, C, A)</th>\n",
       "      <td>1</td>\n",
       "      <td>1</td>\n",
       "    </tr>\n",
       "    <tr>\n",
       "      <th>(B, A, C)</th>\n",
       "      <td>1</td>\n",
       "      <td>0</td>\n",
       "    </tr>\n",
       "    <tr>\n",
       "      <th>(C, A, B)</th>\n",
       "      <td>0</td>\n",
       "      <td>1</td>\n",
       "    </tr>\n",
       "  </tbody>\n",
       "</table></div><div style=\"margin-right: 32px\"><h4 style=\"text-align: center;\">4-gram</h4><table border=\"1\" class=\"dataframe\">\n",
       "  <thead>\n",
       "    <tr style=\"text-align: right;\">\n",
       "      <th></th>\n",
       "      <th>Positive</th>\n",
       "      <th>Negative</th>\n",
       "    </tr>\n",
       "  </thead>\n",
       "  <tbody>\n",
       "    <tr>\n",
       "      <th>(A, B, A, C)</th>\n",
       "      <td>1</td>\n",
       "      <td>0</td>\n",
       "    </tr>\n",
       "    <tr>\n",
       "      <th>(A, C, A, B)</th>\n",
       "      <td>0</td>\n",
       "      <td>1</td>\n",
       "    </tr>\n",
       "    <tr>\n",
       "      <th>(B, A, C, A)</th>\n",
       "      <td>1</td>\n",
       "      <td>0</td>\n",
       "    </tr>\n",
       "    <tr>\n",
       "      <th>(C, A, B, A)</th>\n",
       "      <td>0</td>\n",
       "      <td>1</td>\n",
       "    </tr>\n",
       "  </tbody>\n",
       "</table></div></div>"
      ],
      "text/plain": [
       "<IPython.core.display.HTML object>"
      ]
     },
     "metadata": {},
     "output_type": "display_data"
    }
   ],
   "source": [
    "# Display all n-grams (1 through 4) side by side\n",
    "def display_ngrams_horizontal(positive_pattern, negative_pattern, n_range):\n",
    "    \"\"\"\n",
    "    Display multiple n-gram statistics side by side.\n",
    "    \n",
    "    Args:\n",
    "        positive_pattern: List of tokens for positive pattern\n",
    "        negative_pattern: List of tokens for negative pattern\n",
    "        n_range: Iterable of n values (e.g., range(1, 5) for 1-4 grams)\n",
    "    \"\"\"\n",
    "    # Compute all n-gram dataframes\n",
    "    dfs = []\n",
    "    titles = []\n",
    "    for n in n_range:\n",
    "        df = compute_ngram_stats(positive_pattern, negative_pattern, n)\n",
    "        dfs.append(df)\n",
    "        titles.append(f'{n}-gram')\n",
    "    \n",
    "    # Fancy trick; Build HTML for side-by-side display (we could also skip them and do diplay(df) one by one, but this takes up more vertical space)\n",
    "    html = '<div style=\"display:flex\">'\n",
    "    for df, title in zip(dfs, titles):\n",
    "        html += '<div style=\"margin-right: 32px\">'\n",
    "        html += f'<h4 style=\"text-align: center;\">{title}</h4>'\n",
    "        html += df.to_html()\n",
    "        html += '</div>'\n",
    "    html += '</div>'\n",
    "    \n",
    "    display(HTML(html))\n",
    "\n",
    "# Display 1-grams through 4-grams side by side\n",
    "display_ngrams_horizontal(positive_pattern, negative_pattern, range(1, 5))"
   ]
  },
  {
   "cell_type": "markdown",
   "metadata": {},
   "source": [
    "**Observations**:\n",
    "- We see that for our sample patterns, the unigram and bigram statistics are exactly the same. From the tri-gram statistics the patterns are distinguishable. The subpattern \"B A C\" is in the positive pattern, and the subpattern \"C A B\" is only in the negative pattern. Do keep in mind that for our dataset we insert this pattern into a random string of letters, so it could always be the case that one of these patterns appears by chance in a sample. This is very similar to real machine learning situations, where many patterns give us probabilities of a class, but can may also appear in the counter correlated class too. "
   ]
  },
  {
   "cell_type": "markdown",
   "metadata": {},
   "source": [
    "### Generate Toy Dataset"
   ]
  },
  {
   "cell_type": "code",
   "execution_count": 62,
   "metadata": {},
   "outputs": [],
   "source": [
    "from termcolor import colored\n",
    "\n",
    "def pretty_print(full_string, sub_string, color='red'):\n",
    "    \"\"\"\n",
    "    Print full_string with sub_string highlighted in the specified color.\n",
    "    Supports basic colors: red, blue, green, yellow, magenta, cyan, white, grey.\n",
    "    \"\"\"\n",
    "    full_tokens = full_string.split()\n",
    "    sub_tokens = sub_string.split()\n",
    "    n = len(sub_tokens)\n",
    "    for i in range(len(full_tokens) - n + 1):\n",
    "        if full_tokens[i:i+n] == sub_tokens:\n",
    "            before = ' '.join(full_tokens[:i])\n",
    "            highlight = colored(' '.join(full_tokens[i:i+n]), color)\n",
    "            after = ' '.join(full_tokens[i+n:])\n",
    "            print(f\"{before} {highlight} {after}\".strip())\n",
    "            return\n",
    "    print(full_string)"
   ]
  },
  {
   "cell_type": "code",
   "execution_count": 63,
   "metadata": {},
   "outputs": [
    {
     "name": "stdout",
     "output_type": "stream",
     "text": [
      "Example sequence (with positive pattern highlighted) - Label 1 (1 is positive):\n",
      "W K T \u001b[32mA B A C A\u001b[0m Y V E U R P H D D X D Q\n",
      "\n",
      "Example sequence (with negative pattern highlighted) - Label 0 (0 is negative):\n",
      "J A \u001b[31mA C A B A\u001b[0m P D X R U K H A V B U Q T\n"
     ]
    }
   ],
   "source": [
    "def generate_ngram_data_letters(pos_pattern, neg_pattern, n_samples=1000, vocab_size=26, seq_length=20):\n",
    "    \"\"\"\n",
    "    Generate synthetic text data as strings of letters.\n",
    "    Labels alternate deterministically: 1, 0, 1, 0, ...\n",
    "    \"\"\"\n",
    "    X = []\n",
    "    y = []\n",
    "    import string\n",
    "    vocab = list(string.ascii_uppercase[:vocab_size])\n",
    "    for i in range(n_samples):\n",
    "        seq = np.random.choice(vocab, size=seq_length, replace=True)\n",
    "        label = 1 if i % 2 == 0 else 0\n",
    "        if label == 1:\n",
    "            pos = np.random.randint(0, seq_length - len(pos_pattern.split()) + 1)\n",
    "            seq[pos:pos + len(pos_pattern.split())] = pos_pattern.split()\n",
    "        else:\n",
    "            pos = np.random.randint(0, seq_length - len(neg_pattern.split()) + 1)\n",
    "            seq[pos:pos + len(neg_pattern.split())] = neg_pattern.split()\n",
    "        X.append(' '.join(seq))\n",
    "        y.append(label)\n",
    "    return X, np.array(y)\n",
    "\n",
    "\n",
    "# Generate synthetic text data with letter patterns as strings\n",
    "X_train_toy_letters, y_train_toy = generate_ngram_data_letters(n_samples=2000, pos_pattern=positive_pattern, neg_pattern=negative_pattern)\n",
    "X_test_toy_letters, y_test_toy = generate_ngram_data_letters(n_samples=500, pos_pattern=positive_pattern, neg_pattern=negative_pattern)\n",
    "\n",
    "print(f\"Example sequence (with positive pattern highlighted) - Label {y_train_toy[0]} (1 is positive):\")\n",
    "pretty_print(X_train_toy_letters[0], positive_pattern, color='green')\n",
    "\n",
    "# now print second example which is negative\n",
    "print(f\"\\nExample sequence (with negative pattern highlighted) - Label {y_train_toy[1]} (0 is negative):\")\n",
    "pretty_print(X_train_toy_letters[1], negative_pattern, color='red')"
   ]
  },
  {
   "cell_type": "markdown",
   "metadata": {},
   "source": [
    "**Observation:** Make sure you understand what the data looks like at this point. In the above example we have colored the subpattern in a different way to help you find it. "
   ]
  },
  {
   "cell_type": "markdown",
   "metadata": {},
   "source": [
    "#### Convert Data: strings to list of numbers\n",
    "- Similar to the tokenizer from before, we convert the input text to numbers. In this case the \"tokenizer\" just gives us which letter of the alphabet a letter is. "
   ]
  },
  {
   "cell_type": "code",
   "execution_count": 64,
   "metadata": {},
   "outputs": [
    {
     "name": "stdout",
     "output_type": "stream",
     "text": [
      "Original sequence: W K T A B A C A Y V E U R P H D D X D Q\n",
      "Converted to indices: [22 10 19  0  1  0  2  0 24 21  4 20 17 15  7  3  3 23  3 16]\n"
     ]
    }
   ],
   "source": [
    "def convert_data_to_numb(X, vocab=None):\n",
    "    \"\"\"\n",
    "    Convert list of letter strings to list of indices.\n",
    "    \"\"\"\n",
    "    import string\n",
    "    if vocab is None:\n",
    "        vocab = {char: idx for idx, char in enumerate(string.ascii_uppercase)}\n",
    "    X_numb = []\n",
    "    for seq in X:\n",
    "        tokens = seq.split()\n",
    "        indices = [vocab.get(token, 0) for token in tokens]\n",
    "        X_numb.append(indices)\n",
    "    return np.array(X_numb)\n",
    "\n",
    "\n",
    "# # Convert the data to indices\n",
    "toy_vocab = {char: idx for idx, char in enumerate('ABCDEFGHIJKLMNOPQRSTUVWXYZ')}\n",
    "X_train_toy = convert_data_to_numb(X_train_toy_letters, vocab=toy_vocab)\n",
    "X_test_toy = convert_data_to_numb(X_test_toy_letters, vocab=toy_vocab)\n",
    "\n",
    "print(f\"Original sequence: {X_train_toy_letters[0]}\")\n",
    "print(f\"Converted to indices: {X_train_toy[0]}\")\n",
    "\n",
    "\n",
    "# # Create datasets\n",
    "toy_train_dataset = TextDataset(X_train_toy, y_train_toy)\n",
    "toy_test_dataset = TextDataset(X_test_toy, y_test_toy)"
   ]
  },
  {
   "cell_type": "markdown",
   "metadata": {},
   "source": [
    " ### 6.2 Experiment with Kernel Sizes\n",
    "\n",
    " We test whether models with different kernel sizes can learn the trigram pattern."
   ]
  },
  {
   "cell_type": "code",
   "execution_count": 65,
   "metadata": {},
   "outputs": [
    {
     "name": "stdout",
     "output_type": "stream",
     "text": [
      "Testing kernel sizes on letter pattern data...\n"
     ]
    },
    {
     "name": "stderr",
     "output_type": "stream",
     "text": [
      "100%|██████████| 5/5 [00:05<00:00,  1.04s/it]\n"
     ]
    }
   ],
   "source": [
    "# Test kernel sizes on toy data\n",
    "toy_kernel_sizes = [1, 2, 3, 4, 5]\n",
    "toy_results = []\n",
    "\n",
    "print(\"Testing kernel sizes on letter pattern data...\")\n",
    "for k_size in tqdm(toy_kernel_sizes):\n",
    "    # print(f\"\\nKernel size: {k_size}\")\n",
    "    \n",
    "    toy_model = TextCNN(\n",
    "        vocab_size=26,  # A-Z alphabet\n",
    "        embedding_dim=16,\n",
    "        num_filters=32,\n",
    "        kernel_size=k_size,\n",
    "        num_classes=2\n",
    "    ).to(device)\n",
    "    \n",
    "    # Train for more epochs on toy data (it's smaller)\n",
    "    # Use test as validation for now. Since we don't really check val acc here.\n",
    "    toy_history, final_acc = train_model(toy_model, toy_train_dataset, toy_test_dataset, toy_test_dataset, \n",
    "                               epochs=10, batch_size=32, lr=0.01, verbose=False)\n",
    "    toy_results.append(final_acc)\n"
   ]
  },
  {
   "cell_type": "code",
   "execution_count": 66,
   "metadata": {},
   "outputs": [
    {
     "data": {
      "image/png": "[encoded data removed]",
      "text/plain": [
       "<Figure size 600x300 with 1 Axes>"
      ]
     },
     "metadata": {},
     "output_type": "display_data"
    }
   ],
   "source": [
    "plot_tuning_results(\n",
    "    toy_kernel_sizes,\n",
    "    toy_results,\n",
    "    x_axis_label='Kernel Size',\n",
    "    title='Kernel Size Effect on Letter Pattern Detection',\n",
    "    y_plot_delta=0.01\n",
    ")\n"
   ]
  },
  {
   "cell_type": "markdown",
   "metadata": {},
   "source": [
    " **Observation**: The model with smaller kernel sizes cannot learn the 5-gram pattern (`A B A C A` vs `A C A B A`), achieving near-random accuracy. Only models with kernel size ≥ 5 can successfully learn to distinguish these patterns, demonstrating that CNNs require sufficient kernel size to capture the complete n-gram patterns. This mirrors real NLP scenarios where certain phrases or word sequences are only meaningful when captured in full."
   ]
  },
  {
   "cell_type": "markdown",
   "metadata": {},
   "source": [
    " <!-- ## 7. Summary\n",
    " ### Key Takeaways\n",
    " 1. **CNNs detect position-invariant patterns**: Through convolution and global pooling, CNNs identify whether specific n-gram patterns occur anywhere in the text, making them suitable for tasks where pattern presence matters more than position.\n",
    " 2. **Kernel size determines receptive field**: The kernel size must be at least as large as the patterns you want to detect. A kernel size of k can only capture up to k-grams.\n",
    " 3. **Multiple kernel sizes improve robustness**: Using parallel convolutions with different kernel sizes (2, 3, 4) allows the model to capture various n-gram lengths simultaneously.\n",
    " 4. **Efficiency and simplicity**: CNNs are computationally efficient compared to recurrent models, as all convolutions can be computed in parallel. -->\n",
    "\n"
   ]
  },
  {
   "cell_type": "markdown",
   "metadata": {},
   "source": [
    "## 7. Self-Check Questions\n",
    "- What does the kernel size in a CNN determine when applied to text?\n",
    "- Why might global max pooling cause loss of positional information?\n",
    "- How can using multiple kernel sizes in parallel benefit text classification?\n",
    "- In what scenarios are CNNs preferable Neural Networks?\n",
    "- What are some limitations of CNNs for modeling long-range dependencies in text?"
   ]
  },
  {
   "cell_type": "markdown",
   "metadata": {},
   "source": [
    "<!-- \n",
    " ### Limitations\n",
    " - **Fixed receptive field**: Even with stacked layers, CNNs have limited ability to model long-range dependencies\n",
    " - **No sequential modeling**: Unlike RNNs, CNNs don't explicitly model word order beyond the kernel window\n",
    " - **Position information loss**: Global pooling discards positional information, which may be important for some tasks\n",
    "\n",
    " ### When to Use CNNs for Text\n",
    " CNNs work well when:\n",
    " - Local n-gram patterns are strong indicators (sentiment analysis, topic classification)\n",
    " - Speed and efficiency are important\n",
    " - Input lengths are moderate -->"
   ]
  }
 ],
 "metadata": {
  "kernelspec": {
   "display_name": "base",
   "language": "python",
   "name": "python3"
  },
  "language_info": {
   "codemirror_mode": {
    "name": "ipython",
    "version": 3
   },
   "file_extension": ".py",
   "mimetype": "text/x-python",
   "name": "python",
   "nbconvert_exporter": "python",
   "pygments_lexer": "ipython3",
   "version": "3.11.5"
  }
 },
 "nbformat": 4,
 "nbformat_minor": 2
}
