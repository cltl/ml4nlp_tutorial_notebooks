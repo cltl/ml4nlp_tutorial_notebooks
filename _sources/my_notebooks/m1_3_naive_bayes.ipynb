{
 "cells": [
  {
   "cell_type": "markdown",
   "metadata": {},
   "source": [
    "# M1.3 Naive Bayes Classifier\n",
    " [![View notebooks on Github](https://img.shields.io/static/v1.svg?logo=github&label=Repo&message=View%20On%20Github&color=lightgrey)](https://github.com/cltl/ml4nlp_tutorial_notebooks/blob/main/my_notebooks/m1_3_naive_bayes.ipynb)\n",
    "[![Open In Collab](https://colab.research.google.com/assets/colab-badge.svg)](https://colab.research.google.com/github/cltl/ml4nlp_tutorial_notebooks/blob/main/my_notebooks/m1_3_naive_bayes.ipynb)  \n",
    "\n",
    "\n",
    "\n",
    "### Learning Objectives\n",
    "By working through this notebook, you will learn:\n",
    "1. Basics of probability theory: prior probabilities, conditional probabilities\n",
    "2. What Bayes' theorem is and how to use it to calculate the likelihood of an event \n",
    "3. What the naive bayes assumption is\n",
    "2. How we can construct a Naive Bayes' Classifier and use it for text classification"
   ]
  },
  {
   "cell_type": "markdown",
   "metadata": {},
   "source": [
    "### Load general packages"
   ]
  },
  {
   "cell_type": "code",
   "execution_count": 1,
   "metadata": {},
   "outputs": [],
   "source": [
    "# ignore warning messages for cleaner output of the website\n",
    "import warnings\n",
    "warnings.filterwarnings('ignore')\n",
    "\n",
    "# import necessary libraries\n",
    "import pandas as pd\n",
    "import numpy as np\n",
    "import matplotlib.pyplot as plt\n",
    "\n",
    "# Counter is a useful package takes as input a list of elements (e.g. a list of words in a text) and \n",
    "#  returns a dictionary how many times each element occurs with key (e.g. \"apple\" ): value ( e.g. 5) .\n",
    "from collections import Counter, defaultdict\n",
    "from datasets import load_dataset"
   ]
  },
  {
   "cell_type": "markdown",
   "metadata": {},
   "source": [
    "## 1. Introduction\n",
    "\n",
    "Machine Learning often boiles down to simply learning the statistics of our datasets. For many especially for classification tasks, we want to know: \n",
    "\n",
    "What is the probability that:\n",
    "1. This sentiment of this review is positive/negative?\n",
    "2. That this email is spam?\n",
    "3. This social media post contains hate speech?\n",
    "\n",
    "Luckily we don't need to reinvent the wheel and can borrow much theory from probability theory. \n",
    "In this notebook we will walk through the steps of computing probabilities, discuss a few different type of probabilities and finally use it to constructe an algorithm we can use for classification, the **Naive Bayes Classifier**. Despite its simplicity, Naive Bayes often performs remarkably well for NLP tasks like spam detection, sentiment analysis, and document categorization.\n",
    "\n"
   ]
  },
  {
   "cell_type": "markdown",
   "metadata": {},
   "source": [
    "---\n",
    "## 2. Understanding Probabilities & Bayes' Theorem \n",
    "\n",
    "Imagine you receive an email with the words: \"winner\", \"free\", \"click\", \"now\".\n",
    "Your intuition probably tells you this is spam! Why? Because you've learned from experience that these words appear much more frequently in spam than in legitimate emails.\n",
    "Naive Bayes formalizes this intuition using probability theory.\n",
    "\n",
    "**Core Question:** Given a text document, we want to answer: **What is the probability that this document belongs to class C?**"
   ]
  },
  {
   "cell_type": "markdown",
   "metadata": {},
   "source": [
    "### 2.1 Task Formalization\n",
    "\n",
    "Let's say we have a list of documents: \n",
    "- The **Evidence**: `Documents = [document_1, document_2, ..., document_3]`. \n",
    "- The **Classes**: `Classes = [spam, not_spam]`\n",
    "\n",
    "#### Bag-Of-Words (BOW)\n",
    "- For now also let's assume that each document is represented as a **Bag-Of-Words (BOW)** \n",
    "- In the BOW we neglect the order of the words in a document and only count for each word in the document how often it appears. As you may realize we loose a lot of information this way, but it makes it very easy to process text for simple machine learning models. \n",
    "\n",
    "![bow_fig](https://miro.medium.com/v2/0*cf1wq8eIix-Z2qIf.png)"
   ]
  },
  {
   "cell_type": "code",
   "execution_count": 2,
   "metadata": {},
   "outputs": [
    {
     "name": "stdout",
     "output_type": "stream",
     "text": [
      "Counter({'the': 8, 'and': 6, 'i': 5, 'you': 4, 'be': 4, 'were': 3, 'see': 3, 'we': 2, 'my': 2, 'on': 2, 'a': 2, \"i'll\": 2, 'both': 1, 'young': 1, 'when': 1, 'first': 1, 'saw': 1, 'close': 1, 'eyes': 1, 'flashback': 1, 'starts': 1, \"i'm\": 1, 'standing': 1, 'there': 1, 'balcony': 1, 'in': 1, 'summer': 1, 'air': 1, 'lights,': 1, 'party,': 1, 'ball': 1, 'gowns': 1, 'make': 1, 'your': 1, 'way': 1, 'through': 1, 'crowd': 1, 'say': 1, 'hello': 1, 'little': 1, 'did': 1, 'know': 1, 'that': 1, 'romeo,': 1, 'throwing': 1, 'pebbles': 1, 'daddy': 1, 'said,': 1, \"'stay\": 1, 'away': 1, 'from': 1, \"juliet'\": 1, 'was': 1, 'crying': 1, 'staircase': 1, 'begging': 1, 'you,': 1, \"'please\": 1, \"don't\": 1, \"go,'\": 1, 'said': 1, \"'romeo,\": 1, 'take': 1, 'me': 1, 'somewhere': 1, 'can': 1, 'alone': 1, 'waiting,': 1, 'all': 1, \"that's\": 1, 'left': 1, 'to': 1, 'do': 1, 'is': 1, 'run': 1, \"you'll\": 1, 'prince': 1, 'princess': 1, \"it's\": 1, 'love': 1, 'story,': 1, 'baby,': 1, 'just': 1, 'say,': 1, \"'yes''\": 1})\n"
     ]
    },
    {
     "data": {
      "image/png": "[encoded data removed]",
      "text/plain": [
       "<Figure size 600x300 with 1 Axes>"
      ]
     },
     "metadata": {},
     "output_type": "display_data"
    }
   ],
   "source": [
    "def get_bag_of_words(text):\n",
    "    \"\"\" We want to count how many words there are in the text\"\"\"\n",
    "    words = text.strip().lower().split()\n",
    "    return Counter(words)\n",
    "\n",
    "# Example text: biggest pop song of all time\n",
    "example_text = \"We were both young when I first saw you \\n I close my eyes and the flashback starts \\n I'm standing there \\n On a balcony in summer air\\n See the lights, see the party, the ball gowns \\n See you make your way through the crowd \\n And say hello \\n Little did I know \\n That you were Romeo, you were throwing pebbles \\n And my daddy said, 'Stay away from Juliet' \\n And I was crying on the staircase \\n Begging you, 'Please don't go,' and I said \\n 'Romeo, take me somewhere we can be alone \\n I'll be waiting, all that's left to do is run \\n You'll be the prince and I'll be the princess \\n It's a love story, baby, just say, 'Yes''\"\n",
    "print(get_bag_of_words(example_text))\n",
    "\n",
    "def plot_top_counts(counter, N=10):\n",
    "    \"\"\"Plot the counts of the top N elements in a Counter object.\"\"\"\n",
    "    top_items = counter.most_common(N)\n",
    "    labels, counts = zip(*top_items)\n",
    "    plt.figure(figsize=(6, 3))\n",
    "    plt.bar(labels, counts)\n",
    "    plt.xticks(rotation=45)\n",
    "    plt.xlabel('Word')\n",
    "    plt.ylabel('Count')\n",
    "    plt.title(f'Top {N} Word Counts in Love Story Excerpt')\n",
    "    plt.tight_layout()\n",
    "    plt.show()\n",
    "\n",
    "# Example (thought the word count distribution is a bit boring here since the text is so short):\n",
    "word_counts = get_bag_of_words(example_text)\n",
    "plot_top_counts(word_counts, N=10)"
   ]
  },
  {
   "cell_type": "markdown",
   "metadata": {},
   "source": [
    "### 2.2 Types of probabilities\n",
    "\n",
    "Imagine we have a tiny dataset of 10 emails: 2 are spam, 8 are legitimate.\n",
    "\n",
    "**Prior Probability P(Class):** The baseline probability of a class before seeing any evidence.\n",
    "- P(spam) = 6/10 = 0.2\n",
    "- P(not spam) = 4/10 = 0.8\n",
    "\n",
    "These tell us: \"Without reading the email, what are the chances it's spam?\"\n",
    "\n",
    "Another type of probabilities are  **Conditional Probabilities**, written as P(A|B), what is the probability of A _given_ I already know B to be true.\n",
    "For NB classification we distinghuish between two types of conditional probabilities, as they tell us something different for classification. While it is good to understand these terms know that probability theory does not really care what values we are talking about, it can just be any abstract A or B. For classifcation though we want to predict the probability of a _Class_, given the observed _Evidence_ . \n",
    "\n",
    "Thus we disthinghuish between the two conditional probabilities:\n",
    "1. **Likelihood P(Evidence | Class):** How likely is our evidence if we know the class?\n",
    "    - So if we see the word \"FREE\" in an email, we ask: \"How often does 'FREE' appear in spam (or in non-spam emails)?\"\n",
    "2. **Posterior Probability P(Class | Evidence):** What we actually want! Given the evidence (the email content), what's the probability of each class?\n"
   ]
  },
  {
   "cell_type": "markdown",
   "metadata": {},
   "source": [
    "### 2.3 Bayes' Theorem\n"
   ]
  },
  {
   "cell_type": "markdown",
   "metadata": {},
   "source": [
    "\n",
    "Bayes' Theorem lets us flip conditional probabilities:\n",
    "\n",
    "$$\n",
    "P(\\text{Class} \\mid \\text{Evidence}) = \\frac{P(\\text{Evidence} \\mid \\text{Class}) \\times P(\\text{Class})}{P(\\text{Evidence})}\n",
    "$$\n",
    "\n",
    "In plain English: \n",
    "> The probability of spam given this email = (How likely this email is if it's spam × How common spam is) / How common this email is in general\n",
    "\n",
    "Since we're comparing classes, $P(\\text{Evidence})$ is the same for both, so we can ignore it:\n",
    "\n",
    "$$\n",
    "P(\\text{Class} \\mid \\text{Evidence}) \\propto P(\\text{Evidence} \\mid \\text{Class}) \\times P(\\text{Class})\n",
    "$$\n",
    "\n",
    "**The \"Naive\" Assumption:** To make this practical, we assume all words are independent. For an email with words $w_1, w_2, ..., w_n$:\n",
    "\n",
    "$$\n",
    "P(\\text{Email} \\mid \\text{Class}) = P(w_1 \\mid \\text{Class}) \\times P(w_2 \\mid \\text{Class}) \\times \\ldots \\times P(w_n \\mid \\text{Class})\n",
    "$$\n",
    "\n",
    "This is clearly false in reality (for example if you see \"free\" you're more likely to see \"prize\"), but it works surprisingly well!\n",
    "\n"
   ]
  },
  {
   "cell_type": "markdown",
   "metadata": {},
   "source": [
    "### 2.4. A Manual Example of applying Bayes' Theorem \n",
    "It is good to work out some of these examples on paper to really understand what is happening. Check [this website](https://www.lesswrong.com/w/bayes-rule?lens=high-speed-intro-to-bayes-s-rule) for some further material and examples. I copied one example below, if you don't get the answer immidiately that totally normal. Give yourself some time to work it out. \n",
    "\n",
    "\n",
    "Suppose you're screening a set of patients for a disease, which we'll call Diseasitis.[1] Your initial test is a tongue depressor containing a chemical strip, which usually turns black if the patient has Diseasitis.\n",
    "\n",
    "- Based on prior epidemiology, you expect that around 20% of patients in the screening population have Diseasitis.\n",
    "- Among patients with Diseasitis, 90% turn the tongue depressor black.\n",
    "- 30% of the patients without Diseasitis will also turn the tongue depressor black.\n",
    "\n",
    "What fraction of patients with black tongue depressors have Diseasitis?\n",
    "\n",
    "\n",
    "\n",
    " <!-- <details open> -->\n",
    " <details>\n",
    "   <summary><b>Answer</b>: Don't look without coming up with your own solution first </summary>\n",
    "\n",
    "3/7 or 43%, quickly obtainable as follows: In the screened population, there's 1 sick patient for 4 healthy patients. Sick patients are 3 times more likely to turn the tongue depressor black than healthy patients. (1:4)⋅(3:1)=(3:4) or 3 sick patients to 4 healthy patients among those that turn the tongue depressor black, corresponding to a probability of 3/7=43% that the patient is sick.\n",
    "\n",
    " </details>\n"
   ]
  },
  {
   "cell_type": "markdown",
   "metadata": {},
   "source": [
    "\n",
    "---\n",
    "## 3: Naive Bayes' Classifier for Spam detection dataset"
   ]
  },
  {
   "cell_type": "markdown",
   "metadata": {},
   "source": [
    "### 3.1 Load & Process Dataset: Bag-of-Words"
   ]
  },
  {
   "cell_type": "code",
   "execution_count": 3,
   "metadata": {},
   "outputs": [
    {
     "name": "stdout",
     "output_type": "stream",
     "text": [
      "\n",
      "Dataset loaded! Number of examples: 8175\n",
      "\n",
      "Number of examples after selection: 100\n"
     ]
    }
   ],
   "source": [
    "# Load a spam detection dataset from huggingface datasets. \n",
    "# Again URL is obtained from link in load_dataset: https://huggingface.co/datasets/Deysi/spam-detection-dataset\n",
    "full_dataset = load_dataset('Deysi/spam-detection-dataset', split='train')  # Load only first 100 examples for speed\n",
    "print(f\"\\nDataset loaded! Number of examples: {len(full_dataset)}\")\n",
    "\n",
    "# shuffle and take the first 1000 examples for quicker processing\n",
    "full_dataset = full_dataset.shuffle(seed=42)\n",
    "dataset = full_dataset.select(range(100))\n",
    "\n",
    "print(f\"\\nNumber of examples after selection: {len(dataset)}\")\n",
    "\n",
    "labels = [item['label'] for item in dataset]  # labelse are \"spam\" or \"not_spam\"\n",
    "text_data = [item['text'] for item in dataset]"
   ]
  },
  {
   "cell_type": "code",
   "execution_count": 4,
   "metadata": {},
   "outputs": [
    {
     "name": "stdout",
     "output_type": "stream",
     "text": [
      "## Example text and label:\n",
      "- Example text:\n",
      " \"\"\"Looking for quick cash? Look no further!\n",
      " Join our exclusive money-making community and start earning thousands today.\n",
      " All you need is a computer and internet connection!\n",
      " Don't miss out on this amazing opportunity.\n",
      "\"\"\"\n",
      "- Example label: spam\n"
     ]
    }
   ],
   "source": [
    "example = dataset[0]\n",
    "\n",
    "# we can also print it as is, but this is a bit easier to read (put all sentences below each other)\n",
    "example_text = example['text']\n",
    "example_text_formatted = example_text.strip().replace('.', '.\\n').replace('!', '!\\n')\n",
    "print(\"## Example text and label:\")\n",
    "print(f\"- Example text:\\n \\\"\\\"\\\"{example_text_formatted}\\\"\\\"\\\"\")\n",
    "print(f\"- Example label: {example['label']}\")  "
   ]
  },
  {
   "cell_type": "markdown",
   "metadata": {},
   "source": [
    "### 3.2 Computing Prior Probabilities `P(Class)` \n",
    "<!-- ## Probabilities step 1: Prior Probabilities `P(Class)`  -->\n",
    "\n",
    "`P(Class)` allows us to say for each class its probability. Specifically this means what is the frequency of this class in the dataset. While we write it here as the general variable `Class`, when we write it for a specific instance we write it as `P(Class=\"spam\")`, or if it is clear for which variable the instance is we can just say `P(\"spam\")`.\n",
    "- To compute the prior probability of the \"spam\" class, we count the number of spam documents and divide by the total number of documents:\n",
    "\n",
    "$$\n",
    "P(\\text{Class} = \\text{spam}) = \\frac{\\# \\text{Spam documents}}{\\#\\text{Spam documents} + \\# \\text{Non spam documents}}\n",
    "$$\n",
    "- Notation remark: Sometimes we can use \"#\" as an abbreviation for \"Number of\", and as this reads easier (and I am lazy), I write it us such.\n",
    "\n",
    " <!-- <details open> -->\n",
    " <details>\n",
    "   <summary><b>Remark</b>: Calculating P(Document) - issues </summary>\n",
    "\n",
    "**Computing `P(Document)`**\n",
    "\n",
    "For our Naive Bayes Classifier we don't need the prior pobability of a Document but it is nevertheless good to note what it would mean. \n",
    "So for the BOW model the probability of a document would be the combined probability of the individual words.\n",
    "This computes P(Document) based purely on the overall word distribution in the dataset, without considering class labels.\n",
    "\n",
    "$$\n",
    "P(\\text{word}_i) = \\frac{\\# \\text{word}_i \\text{ across all documents}}{\\# \\text{ word instances (so not just unique) across all documents}}\n",
    "$$\n",
    "\n",
    "Then, assuming independence between words (the Naive Bayes assumption), the probability of a document is the product of the probabilities of its words:\n",
    "$$\n",
    "P(\\text{Document}) = \\prod_{i=1}^{n} P(\\text{word}_i)^{c_i}\n",
    "$$\n",
    "\n",
    "where $c_i$ is the count of word $i$ in the document, and $n$ is the size of our vocabulary.\n",
    "\n",
    "**Note:** In practice, this probability will be extremely small, so we often work with log probabilities instead.\n",
    "\n",
    "$$\n",
    "log (P(\\text{Document}) )= \\sum_{i=1}^{n} log(P(\\text{word}_i)^{c_i})\n",
    "$$\n",
    "\n",
    " </details>"
   ]
  },
  {
   "cell_type": "code",
   "execution_count": 5,
   "metadata": {},
   "outputs": [
    {
     "name": "stdout",
     "output_type": "stream",
     "text": [
      "\n",
      "Prior probability of spam: P(spam) = 0.500\n",
      "Prior probability of not spam: P(not spam) = 0.500\n"
     ]
    }
   ],
   "source": [
    "labels_bin = [int(item['label'] == \"spam\") for item in dataset]  # 1 for spam, 0 for not_spam\n",
    "prob_spam = sum(labels_bin) / len(labels)\n",
    "prob_not_spam = 1 - prob_spam\n",
    "\n",
    "print(f\"\\nPrior probability of spam: P(spam) = {prob_spam:.3f}\")\n",
    "print(f\"Prior probability of not spam: P(not spam) = {prob_not_spam:.3f}\")"
   ]
  },
  {
   "cell_type": "markdown",
   "metadata": {},
   "source": [
    "**Observation:** In this case we see that the dataset is well balanced, which is great! But as you can imagine for many real tasks we will work with very imbalanced datasets. In such imbalanced cases the impact of Naive Bayes really shows it's imporance (remember the manual example in section 3). Interestingly, I just found out that our 50/50 class split is not as unrealistic, as [this source ](https://www.statista.com/statistics/420400/spam-email-traffic-share-annual/)mentions spam is about 45% of all email traffic. "
   ]
  },
  {
   "cell_type": "markdown",
   "metadata": {},
   "source": [
    "### 3.3 Computing Likelihood Probabilities\n",
    "\n",
    "Here's where the \"naive\" part comes in. We assume that **all words in a document are independent** given the class. Of course in the real world this is not true, for example if a review contains a negative word like \"awful\" it is much more likely that other negative words will be in that review than positive words. However, like all things in science, this method offers approximation of the truth (the probability of a class in this case), which it turns out is very useful so we keep using it, but do be aware of this limitation.\n",
    "\n",
    "For a document with words w₁, w₂, ..., wₙ:\n",
    "\n",
    "```\n",
    "P(Document | Class) = P(w₁ | Class) × P(w₂ | Class) × ... × P(wₙ | Class)\n",
    "```\n",
    "\n",
    "This probability function is a Conditional Probability, as we are computing: what is the probability of having this document, knowing that it belongs to class X (e.g. spam). So if this document looks nothing like other spam documents its probability will be very low. \n",
    "\n",
    "For our case we can just count how often each word in our vocabulary appears in each of the class, then we can calculate the probability of w1 given class=\"spam\", by counting how often w1 appears in all the spam documents, and normalizing (dividing) by the total words in that class.\n",
    "\n",
    "\n",
    "<!-- $$\n",
    " P(\\text{word}_i | Class=\\text{\"spam\"}) = \\frac{\\text{\\# Occurences word}_i \\text{ in all spam documents}}{\\text{\\# Occurences of word instances (so not just unique) in all spam documents}}\n",
    "$$ -->\n",
    "\n",
    "$$\n",
    "P(\\text{word}_i\\,|\\,\\text{Class=spam}) = \\frac{\\#\\text{times word}_i \\text{ in all spam documents}}{\\#\\text{total words in all spam documents}}\n",
    "$$\n"
   ]
  },
  {
   "cell_type": "markdown",
   "metadata": {},
   "source": [
    "#### Practically with Naive Bayes we count the frequencies of each word\n",
    "Practical training steps:\n",
    "1. **Count word frequencies** in each class\n",
    "2. **Calculate probabilities**:\n",
    "   - P(Class): How common is each class?\n",
    "   - P(word | Class): How often does each word appear in each class?\n",
    "3. **Apply smoothing** to handle unseen words\n",
    "\n",
    "\n",
    "For Prediction:\n",
    "1. **For each class**, calculate: P(Class) × ∏ P(word | Class) for all words\n",
    "2. **Choose the class** with the highest probability\n"
   ]
  },
  {
   "cell_type": "markdown",
   "metadata": {},
   "source": [
    "#### Coding implementation:"
   ]
  },
  {
   "cell_type": "code",
   "execution_count": 6,
   "metadata": {},
   "outputs": [
    {
     "name": "stdout",
     "output_type": "stream",
     "text": [
      "Dataset shape: (100, 2)\n",
      "\n",
      "Class distribution:\n",
      "label\n",
      "spam        50\n",
      "not_spam    50\n",
      "Name: count, dtype: int64\n",
      "\n",
      "First few examples:\n",
      "                                                text     label\n",
      "0  Looking for quick cash? Look no further! Join ...      spam\n",
      "1  Our DaaS platform Quandl is a free and open in...  not_spam\n",
      "2  Should I worry about having a good IQ to becom...  not_spam\n",
      "3  Hi all,\\nworking on a research project to iden...  not_spam\n",
      "4  Does anyone know the sources for raw data?\\n\\n...  not_spam\n"
     ]
    }
   ],
   "source": [
    "train_data = list(zip(text_data, labels))\n",
    "train_df = pd.DataFrame(train_data, columns=['text', 'label'])\n",
    "print(f\"Dataset shape: {train_df.shape}\")\n",
    "print(f\"\\nClass distribution:\")\n",
    "print(train_df['label'].value_counts())\n",
    "print(f\"\\nFirst few examples:\")\n",
    "print(train_df.head())"
   ]
  },
  {
   "cell_type": "markdown",
   "metadata": {},
   "source": [
    "##### Step 1: Tokenization and Vocabulary Building"
   ]
  },
  {
   "cell_type": "code",
   "execution_count": 7,
   "metadata": {},
   "outputs": [
    {
     "name": "stdout",
     "output_type": "stream",
     "text": [
      "\n",
      "Vocabulary size: 2073\n",
      "First 20 words in vocabulary: ['\"', '\"buy', '\"dataisbeautiful\"', '\"friends\"', '\"get', '\"hey', '\"hoarding\",', '\"howdy', '\"inappropriate', '\"lose', '\"spam', '\"upgrade', '\"urgent!', '\"want', '#', '##', '#baliadventure', '#beachbody', '#fitness', '#followers4life']\n"
     ]
    }
   ],
   "source": [
    "def tokenize(text):\n",
    "    \"\"\"Simple tokenization: lowercase and split by spaces\"\"\"\n",
    "    return text.lower().split()\n",
    "\n",
    "# Build vocabulary\n",
    "vocabulary = set()\n",
    "for text, _ in train_data:\n",
    "    vocabulary.update(tokenize(text))\n",
    "\n",
    "print(f\"\\nVocabulary size: {len(vocabulary)}\")\n",
    "print(f\"First 20 words in vocabulary: {sorted(list(vocabulary))[:20]}\")"
   ]
  },
  {
   "cell_type": "markdown",
   "metadata": {},
   "source": [
    "##### Step 2: Count Word Frequencies per Class\n"
   ]
  },
  {
   "cell_type": "code",
   "execution_count": 8,
   "metadata": {},
   "outputs": [
    {
     "name": "stdout",
     "output_type": "stream",
     "text": [
      "\n",
      "Class distribution:\n",
      "  spam: 50 documents\n",
      "  not_spam: 50 documents\n",
      "\n",
      "Word counts per class:\n",
      "\n",
      "spam:\n",
      "  'and': 120\n",
      "  'you': 91\n",
      "  'to': 73\n",
      "  'our': 70\n",
      "  'the': 67\n",
      "\n",
      "not_spam:\n",
      "  'to': 95\n",
      "  'the': 94\n",
      "  'i': 91\n",
      "  'a': 86\n",
      "  'of': 78\n"
     ]
    }
   ],
   "source": [
    "# Count documents per class\n",
    "class_counts = Counter([label for _, label in train_data])\n",
    "total_docs = len(train_data)\n",
    "\n",
    "print(\"\\nClass distribution:\")\n",
    "for cls, count in class_counts.items():\n",
    "    print(f\"  {cls}: {count} documents\")\n",
    "\n",
    "# Count word frequencies per class\n",
    "word_counts = defaultdict(lambda: defaultdict(int))\n",
    "total_words = defaultdict(int)\n",
    "\n",
    "for text, label in train_data:\n",
    "    words = tokenize(text)\n",
    "    for word in words:\n",
    "        word_counts[label][word] += 1\n",
    "        total_words[label] += 1\n",
    "\n",
    "print(\"\\nWord counts per class:\")\n",
    "for label in ['spam', 'not_spam']:\n",
    "    print(f\"\\n{label}:\")\n",
    "    # Show only top 5 most common words per class (since vocabulary is much larger)\n",
    "    label_word_counts = word_counts[label]\n",
    "    top_words = sorted(label_word_counts.items(), key=lambda x: x[1], reverse=True)[:5]\n",
    "    for word, count in top_words:\n",
    "        print(f\"  '{word}': {count}\")"
   ]
  },
  {
   "cell_type": "markdown",
   "metadata": {},
   "source": [
    "##### Step 3: Calculate Probabilities\n",
    "**Prior probabilities** (P(Class)):"
   ]
  },
  {
   "cell_type": "code",
   "execution_count": 9,
   "metadata": {},
   "outputs": [
    {
     "name": "stdout",
     "output_type": "stream",
     "text": [
      "P(spam) = 50/100 = 0.500\n",
      "P(not_spam) = 50/100 = 0.500\n"
     ]
    }
   ],
   "source": [
    "\n",
    "# Prior probabilities\n",
    "priors = {}\n",
    "for cls, count in class_counts.items():\n",
    "    priors[cls] = count / total_docs\n",
    "    print(f\"P({cls}) = {count}/{total_docs} = {priors[cls]:.3f}\")"
   ]
  },
  {
   "cell_type": "markdown",
   "metadata": {},
   "source": [
    "##### Likelihood probabilities ($P(\\text{word} \\mid \\text{Class})$) -  **Smoothing**\n",
    "\n",
    "The basic likelihood probability $P(\\text{word} \\mid \\text{Class})$, which provides the likelihood of word $\\text{word}$ in a document given that we are in class $\\text{Class}$, is:\n",
    "\n",
    "$$\n",
    "P(\\text{word} \\mid \\text{class}) = \\frac{\\text{count}(\\text{word}, \\text{class})}{\\text{total words in class}}\n",
    "$$\n",
    "\n",
    "However, since a word can also appear $0$ times for a specific class, to avoid zero probabilities for unseen words, we use **Laplace smoothing** (add-one smoothing):\n",
    "\n",
    "$$\n",
    "P(\\text{word} \\mid \\text{class}) = \\frac{\\text{count}(\\text{word}, \\text{class}) + \\alpha}{\\text{total words in class} + \\text{vocabulary size}*\\alpha}\n",
    "$$\n",
    "\n",
    "For our case we use $\\alpha = 1$ for simplicity (though keep in mind that varying this parameter might be relevant in other cases)"
   ]
  },
  {
   "cell_type": "code",
   "execution_count": 10,
   "metadata": {},
   "outputs": [
    {
     "name": "stdout",
     "output_type": "stream",
     "text": [
      "\n",
      "Likelihood probabilities P(word | class):\n",
      "\n",
      "Vocabulary size: 2073\n",
      "\n",
      "Total words in spam: 2909\n",
      "Examples for spam:\n",
      "  P('free' | spam) = (8 + 1) / (2909 + 2073) = 0.001807\n",
      "  P('call' | spam) = (0 + 1) / (2909 + 2073) = 0.000201\n",
      "  P('win' | spam) = (8 + 1) / (2909 + 2073) = 0.001807\n",
      "  P('click' | spam) = (5 + 1) / (2909 + 2073) = 0.001204\n",
      "  P('urgent' | spam) = (1 + 1) / (2909 + 2073) = 0.000401\n",
      "\n",
      "Total words in not_spam: 3339\n",
      "Examples for not_spam:\n",
      "  P('free' | not_spam) = (5 + 1) / (3339 + 2073) = 0.001109\n",
      "  P('call' | not_spam) = (0 + 1) / (3339 + 2073) = 0.000185\n",
      "  P('win' | not_spam) = (0 + 1) / (3339 + 2073) = 0.000185\n",
      "  P('click' | not_spam) = (0 + 1) / (3339 + 2073) = 0.000185\n",
      "  P('urgent' | not_spam) = (0 + 1) / (3339 + 2073) = 0.000185\n"
     ]
    }
   ],
   "source": [
    "# Likelihood probabilities with Laplace smoothing\n",
    "alpha = 1  # Smoothing parameter\n",
    "vocab_size = len(vocabulary)\n",
    "\n",
    "def calculate_likelihood(word, cls):\n",
    "    \"\"\"Calculate P(word | class) with Laplace smoothing\"\"\"\n",
    "    word_count = word_counts[cls][word]\n",
    "    total = total_words[cls]\n",
    "    return (word_count + alpha) / (total + alpha * vocab_size)\n",
    "\n",
    "# Show some examples\n",
    "print(\"\\nLikelihood probabilities P(word | class):\")\n",
    "print(f\"\\nVocabulary size: {vocab_size}\")\n",
    "\n",
    "# Pick some characteristic spam/not_spam words for examples\n",
    "example_words = ['free', 'call', 'win', 'click', 'urgent']\n",
    "\n",
    "for label in ['spam', 'not_spam']:\n",
    "    print(f\"\\nTotal words in {label}: {total_words[label]}\")\n",
    "    print(f\"Examples for {label}:\")\n",
    "    for word in example_words:\n",
    "        prob = calculate_likelihood(word, label)\n",
    "        count = word_counts[label][word]\n",
    "        print(f\"  P('{word}' | {label}) = ({count} + 1) / ({total_words[label]} + {vocab_size}) = {prob:.6f}\")"
   ]
  },
  {
   "cell_type": "markdown",
   "metadata": {},
   "source": [
    "### 3.4 Making Predictions\n",
    "\n",
    "<!-- ### Step 4: Make Predictions -->\n",
    "\n",
    "Now let's classify some new emails!"
   ]
  },
  {
   "cell_type": "code",
   "execution_count": 11,
   "metadata": {},
   "outputs": [
    {
     "name": "stdout",
     "output_type": "stream",
     "text": [
      "\n",
      "============================================================\n",
      "PREDICTIONS\n",
      "============================================================\n",
      "\n",
      "Message: 'Congratulations! You won a free prize. Click here now!'\n",
      "Log probabilities:\n",
      "  spam: -61.54\n",
      "  not_spam: -67.06\n",
      "Predicted: spam\n",
      "\n",
      "Message: 'Hi, are we still meeting for lunch tomorrow?'\n",
      "Log probabilities:\n",
      "  spam: -59.18\n",
      "  not_spam: -58.89\n",
      "Predicted: not_spam\n",
      "\n",
      "Message: 'URGENT: Your account will be closed. Call immediately!'\n",
      "Log probabilities:\n",
      "  spam: -59.67\n",
      "  not_spam: -64.41\n",
      "Predicted: spam\n",
      "\n",
      "Message: 'Thanks for the document you sent yesterday'\n",
      "Log probabilities:\n",
      "  spam: -47.91\n",
      "  not_spam: -47.01\n",
      "Predicted: not_spam\n"
     ]
    }
   ],
   "source": [
    "def predict_naive_bayes(text):\n",
    "    \"\"\"Predict the class for a text message\"\"\"\n",
    "    words = tokenize(text)\n",
    "    \n",
    "    scores = {}\n",
    "    for cls in ['spam', 'not_spam']:\n",
    "        # Start with prior probability (in log space to avoid underflow)\n",
    "        score = np.log(priors[cls])\n",
    "        \n",
    "        # Multiply by likelihood of each word (add in log space)\n",
    "        for word in words:\n",
    "            if word in vocabulary:\n",
    "                score += np.log(calculate_likelihood(word, cls))\n",
    "            else:\n",
    "                # Unseen word: use smoothing\n",
    "                score += np.log(alpha / (total_words[cls] + alpha * vocab_size))\n",
    "        \n",
    "        scores[cls] = score\n",
    "    \n",
    "    # Return class with highest score\n",
    "    predicted_class = max(scores, key=scores.get)\n",
    "    return predicted_class, scores\n",
    "\n",
    "# Test on new messages\n",
    "test_messages = [\n",
    "    \"Congratulations! You won a free prize. Click here now!\",\n",
    "    \"Hi, are we still meeting for lunch tomorrow?\",\n",
    "    \"URGENT: Your account will be closed. Call immediately!\",\n",
    "    \"Thanks for the document you sent yesterday\"\n",
    "]\n",
    "\n",
    "print(\"\\n\" + \"=\"*60)\n",
    "print(\"PREDICTIONS\")\n",
    "print(\"=\"*60)\n",
    "\n",
    "for message in test_messages:\n",
    "    predicted_class, scores = predict_naive_bayes(message)\n",
    "    print(f\"\\nMessage: '{message}'\")\n",
    "    print(f\"Log probabilities:\")\n",
    "    for cls, score in scores.items():\n",
    "        print(f\"  {cls}: {score:.2f}\")\n",
    "    print(f\"Predicted: {predicted_class}\")"
   ]
  },
  {
   "cell_type": "markdown",
   "metadata": {},
   "source": [
    "\n",
    "---\n",
    "\n",
    "<!-- ## 5. Implementation with scikit-learn -->\n",
    "### 3.5 Using existing package: scikit-learn\n",
    "While building our own Naive Bayes classifier from scratch is valuable for understanding, in practice we use well-tested libraries like **scikit-learn**. Let's see how the professional version compares to our handmade one.\n",
    "\n",
    "The scikit-learn implementation involves three components working together:\n",
    "\n",
    "**CountVectorizer** handles all the messy text preprocessing for us. It takes raw text and converts it into a matrix of word counts—exactly the Bag-of-Words representation we built manually. When you call `fit()`, it builds a vocabulary from your training data, then `transform()` converts any text into counts using that vocabulary. It returns a sparse matrix, which is important: if your vocabulary has 10,000 words but a document only contains 50 unique words, why store 9,950 zeros?\n",
    "\n",
    "**MultinomialNB** is scikit-learn's Naive Bayes for count data. Under the hood, it's doing exactly what we coded earlier: calculating P(Class) and P(word|Class) for every word in the vocabulary, with Laplace smoothing (controlled by the `alpha` parameter, defaulting to 1.0). The \"Multinomial\" refers to the statistical distribution it assumes for word counts.\n",
    "\n",
    "**Pipeline** chains these steps together elegantly. Think of it as a recipe: \"First vectorize the text, then classify it.\" This has a subtle but important benefit—when you call `fit()` on the pipeline, it learns the vocabulary from training data only. When you call `predict()`, it uses that same vocabulary, ensuring train-test consistency. Without a pipeline, you might accidentally introduce data leakage by letting test data influence your vocabulary.\n",
    "\n",
    "Here's how it all works together:\n"
   ]
  },
  {
   "cell_type": "code",
   "execution_count": 12,
   "metadata": {},
   "outputs": [],
   "source": [
    "from sklearn.feature_extraction.text import CountVectorizer\n",
    "from sklearn.naive_bayes import MultinomialNB, BernoulliNB\n",
    "from sklearn.pipeline import Pipeline\n"
   ]
  },
  {
   "cell_type": "code",
   "execution_count": 13,
   "metadata": {},
   "outputs": [
    {
     "name": "stdout",
     "output_type": "stream",
     "text": [
      "\n",
      "============================================================\n",
      "SCIKIT-LEARN PREDICTIONS\n",
      "============================================================\n",
      "\n",
      "Message: 'Congratulations! You won a free prize. Click here now!'\n",
      "Probabilities: not_spam=0.000, spam=1.000\n",
      "\n",
      "Message: 'Hi, are we still meeting for lunch tomorrow?'\n",
      "Probabilities: not_spam=0.860, spam=0.140\n",
      "\n",
      "Message: 'URGENT: Your account will be closed. Call immediately!'\n",
      "Probabilities: not_spam=0.002, spam=0.998\n",
      "\n",
      "Message: 'Thanks for the document you sent yesterday'\n",
      "Probabilities: not_spam=0.817, spam=0.183\n"
     ]
    }
   ],
   "source": [
    "\n",
    "# Prepare data\n",
    "X_train = [text for text, _ in train_data]\n",
    "y_train = [label for _, label in train_data]\n",
    "\n",
    "# Create a pipeline\n",
    "model = Pipeline([\n",
    "    ('vectorizer', CountVectorizer()),\n",
    "    ('classifier', MultinomialNB(alpha=1.0))\n",
    "])\n",
    "\n",
    "# Train\n",
    "model.fit(X_train, y_train)\n",
    "\n",
    "# Predict on the same test messages\n",
    "test_messages_sklearn = [\n",
    "    \"Congratulations! You won a free prize. Click here now!\",\n",
    "    \"Hi, are we still meeting for lunch tomorrow?\",\n",
    "    \"URGENT: Your account will be closed. Call immediately!\",\n",
    "    \"Thanks for the document you sent yesterday\"\n",
    "]\n",
    "\n",
    "predictions = model.predict(test_messages_sklearn)\n",
    "probabilities = model.predict_proba(test_messages_sklearn)\n",
    "\n",
    "print(\"\\n\" + \"=\"*60)\n",
    "print(\"SCIKIT-LEARN PREDICTIONS\")\n",
    "print(\"=\"*60)\n",
    "\n",
    "for message, pred, probs in zip(test_messages_sklearn, predictions, probabilities):\n",
    "    print(f\"\\nMessage: '{message}'\")\n",
    "    # Note: class order is alphabetically sorted in sklearn\n",
    "    class_labels = model.classes_\n",
    "    prob_str = ', '.join([f\"{label}={prob:.3f}\" for label, prob in zip(class_labels, probs)])\n",
    "    print(f\"Probabilities: {prob_str}\")"
   ]
  },
  {
   "cell_type": "markdown",
   "metadata": {},
   "source": [
    "#### Test on the test set\n"
   ]
  },
  {
   "cell_type": "code",
   "execution_count": 14,
   "metadata": {},
   "outputs": [
    {
     "name": "stdout",
     "output_type": "stream",
     "text": [
      "\n",
      "Number of examples after selection: 2725\n"
     ]
    }
   ],
   "source": [
    "#  Load the test set\n",
    "full_dataset_test = load_dataset('Deysi/spam-detection-dataset', split='test')  # Load only first 100 examples for speed\n",
    "\n",
    "full_dataset_test = full_dataset_test.shuffle(seed=42)\n",
    "# dataset_test = full_dataset_test.select(range(100)) # If you want use a subset for speed\n",
    "dataset_test = full_dataset_test\n",
    "print(f\"\\nNumber of examples after selection: {len(dataset_test)}\")\n",
    "\n",
    "labels_test = [item['label'] == \"spam\" for item in dataset_test]  # 1 for spam, 0 for not_spam\n",
    "text_data_test = [item['text'] for item in dataset_test]"
   ]
  },
  {
   "cell_type": "code",
   "execution_count": 15,
   "metadata": {},
   "outputs": [
    {
     "name": "stdout",
     "output_type": "stream",
     "text": [
      "\n",
      "============================================================\n",
      "TEST SET EVALUATION\n",
      "============================================================\n",
      "Test Accuracy: 99.41% (2709/2725 correct)\n"
     ]
    }
   ],
   "source": [
    "def calculate_test_accuracy(model, text_data_test, labels_test):\n",
    "\n",
    "    # Convert boolean labels to string labels if needed\n",
    "    y_test = ['spam' if label else 'not_spam' for label in labels_test]\n",
    "    \n",
    "    # Make predictions\n",
    "    y_pred = model.predict(text_data_test)\n",
    "    \n",
    "    # Calculate accuracy\n",
    "    correct = sum(pred == true for pred, true in zip(y_pred, y_test))\n",
    "    accuracy = correct / len(y_test)\n",
    "    \n",
    "    return accuracy, y_pred, y_test\n",
    "\n",
    "# Calculate test accuracy\n",
    "accuracy, y_pred, y_test = calculate_test_accuracy(model, text_data_test, labels_test)\n",
    "\n",
    "print(\"\\n\" + \"=\"*60)\n",
    "print(\"TEST SET EVALUATION\")\n",
    "print(\"=\"*60)\n",
    "print(f\"Test Accuracy: {accuracy:.2%} ({int(accuracy * len(y_test))}/{len(y_test)} correct)\")\n"
   ]
  },
  {
   "cell_type": "markdown",
   "metadata": {},
   "source": [
    "**Observation:** \n",
    "- Wow! we see that for this dataset the model already obtains nearly perfect accuracy on the test set (2709 example), while the NB classifier is only trained on 100 example.\n",
    "- Likely this dataset is fairly simple though. Potential follow-up experiments: 1. Which words are most indicative of a specific class? If we only evaluated 10 or a 100 words in our vocabulator, what would the test accuracy be? "
   ]
  },
  {
   "cell_type": "markdown",
   "metadata": {},
   "source": [
    "\n",
    "---\n",
    "\n",
    "## 4. Extra Material\n",
    "If you walked through all the above material and feel comfortable implementing similar systems your self this is already great! Below are some extra code samples to help you get familiar with additional tasks and other classifiers."
   ]
  },
  {
   "cell_type": "markdown",
   "metadata": {},
   "source": [
    "### 4.1. Another classification task: Sentiment Analysis\n",
    "While the spam dataset we used was a nice toy example, it is not a very popular dataset, nor very challenging if our Naive Bayes classifier already has 100% accuracy when trained on only 100 examples. \n",
    "\n",
    "Let's try with more data to see realistic performance:"
   ]
  },
  {
   "cell_type": "code",
   "execution_count": 16,
   "metadata": {},
   "outputs": [
    {
     "name": "stdout",
     "output_type": "stream",
     "text": [
      "\n",
      "============================================================\n",
      "IMDB SENTIMENT CLASSIFICATION\n",
      "============================================================\n",
      "Training samples: 25000\n",
      "Test samples: 25000\n",
      "Test Accuracy: 82.34%\n",
      "\n",
      "### Example predictions:\n",
      "\n",
      "Review: 'This movie was absolutely fantastic! Great acting and story....'\n",
      "Predicted: positive (confidence: 78.95%)\n",
      "\n",
      "Review: 'Terrible film, waste of time and money....'\n",
      "Predicted: negative (confidence: 99.21%)\n"
     ]
    }
   ],
   "source": [
    "# Load IMDB dataset and train Naive Bayes classifier\n",
    "imdb_dataset = load_dataset('imdb', split='train')  # Use 5000 samples for speed\n",
    "imdb_test = load_dataset('imdb', split='test')  # Use 1000 test samples\n",
    "\n",
    "# Prepare data\n",
    "X_train_imdb = imdb_dataset['text']\n",
    "y_train_imdb = ['positive' if label == 1 else 'negative' for label in imdb_dataset['label']]\n",
    "X_test_imdb = imdb_test['text']\n",
    "y_test_imdb = ['positive' if label == 1 else 'negative' for label in imdb_test['label']]\n",
    "\n",
    "# Train model\n",
    "mn_nb_model_imdb = Pipeline([\n",
    "    ('vectorizer', CountVectorizer(max_features=5000)),  # Limit features for speed\n",
    "    ('classifier', MultinomialNB(alpha=1.0))\n",
    "])\n",
    "\n",
    "mn_nb_model_imdb.fit(X_train_imdb, y_train_imdb)\n",
    "\n",
    "# Calculate test accuracy\n",
    "y_pred_imdb_mn = mn_nb_model_imdb.predict(X_test_imdb)\n",
    "accuracy_imdb_mn = sum(pred == true for pred, true in zip(y_pred_imdb_mn, y_test_imdb)) / len(y_test_imdb)\n",
    "\n",
    "print(\"\\n\" + \"=\"*60)\n",
    "print(\"IMDB SENTIMENT CLASSIFICATION\")\n",
    "print(\"=\"*60)\n",
    "print(f\"Training samples: {len(X_train_imdb)}\")\n",
    "print(f\"Test samples: {len(X_test_imdb)}\")\n",
    "print(f\"Test Accuracy: {accuracy_imdb_mn:.2%}\")\n",
    "\n",
    "# Show example predictions\n",
    "test_examples = [\n",
    "    \"This movie was absolutely fantastic! Great acting and story.\",\n",
    "    \"Terrible film, waste of time and money.\"\n",
    "]\n",
    "\n",
    "print(\"\\n### Example predictions:\")\n",
    "for text in test_examples:\n",
    "    pred = mn_nb_model_imdb.predict([text])[0]\n",
    "    probs = mn_nb_model_imdb.predict_proba([text])[0]\n",
    "    print(f\"\\nReview: '{text[:60]}...'\")\n",
    "    print(f\"Predicted: {pred} (confidence: {max(probs):.2%})\")"
   ]
  },
  {
   "cell_type": "markdown",
   "metadata": {},
   "source": [
    "\n",
    "### 4.2. Variants of Naive Bayes\n",
    "\n",
    "There are different variants depending on the type of features:\n",
    "\n",
    "#### MultinomialNB (What we used)\n",
    "- For **count data** (word frequencies)\n",
    "- Best for text classification\n",
    "- Assumes features follow a multinomial distribution\n",
    "\n",
    "#### BernoulliNB\n",
    "- For **binary features** (word present/absent)\n",
    "- Can work well with short documents\n",
    "- Assumes features are binary\n",
    "\n",
    "#### GaussianNB\n",
    "- For **continuous features**\n",
    "- Assumes features follow a Gaussian (normal) distribution\n",
    "- Not typically used for text , very compute heavy as well"
   ]
  },
  {
   "cell_type": "code",
   "execution_count": 17,
   "metadata": {},
   "outputs": [
    {
     "name": "stdout",
     "output_type": "stream",
     "text": [
      "\n",
      "Test Accuracy Comparison:\n",
      "MultinomialNB: 82.34%\n",
      "BernoulliNB  : 82.60%\n"
     ]
    }
   ],
   "source": [
    "# BernoulliNB\n",
    "bernoulli_model = Pipeline([\n",
    "    ('vectorizer', CountVectorizer(binary=True)),\n",
    "    ('classifier', BernoulliNB(alpha=1.0))\n",
    "])\n",
    "bernoulli_model.fit(X_train_imdb, y_train_imdb)\n",
    "bernoulli_pred = bernoulli_model.predict(X_test_imdb)\n",
    "accuracy_bernoulli = np.mean(bernoulli_pred == y_test_imdb)\n",
    "\n",
    "\n",
    "print(\"\\nTest Accuracy Comparison:\")\n",
    "print(f\"MultinomialNB: {accuracy_imdb_mn:.2%}\")\n",
    "print(f\"BernoulliNB  : {accuracy_bernoulli:.2%}\")"
   ]
  },
  {
   "cell_type": "markdown",
   "metadata": {},
   "source": [
    "### 4.3. (optional) Exercise \n",
    "\n",
    "**Task**: Use the Naive Bayes classifier to build a language identifier!\n",
    "\n",
    "Given the following training data of sentences in different languages, train a classifier to identify the language of new sentences.\n"
   ]
  },
  {
   "cell_type": "code",
   "execution_count": 18,
   "metadata": {},
   "outputs": [
    {
     "name": "stdout",
     "output_type": "stream",
     "text": [
      "\n",
      "============================================================\n",
      "LANGUAGE IDENTIFICATION\n",
      "============================================================\n",
      "'hello world' → english\n",
      "'buenos amigos' → spanish\n",
      "'bonjour monde' → french\n"
     ]
    }
   ],
   "source": [
    "\n",
    "\n",
    "# Training data: (sentence, language)\n",
    "language_data = [\n",
    "    (\"hello how are you\", \"english\"),\n",
    "    (\"good morning everyone\", \"english\"),\n",
    "    (\"bonjour comment allez vous\", \"french\"),\n",
    "    (\"bonne journée à tous\", \"french\"),\n",
    "    (\"hola cómo estás\", \"spanish\"),\n",
    "    (\"buenos días a todos\", \"spanish\"),\n",
    "]\n",
    "\n",
    "# Your code here:\n",
    "# 1. Split into X_train and y_train\n",
    "# 2. Create and train a Naive Bayes classifier\n",
    "# 3. Test on new sentences: \"hello world\", \"buenos amigos\", \"bonjour monde\"\n",
    "\n",
    "# Solution (try yourself first!)\n",
    "X_lang = [sent for sent, _ in language_data]\n",
    "y_lang = [lang for _, lang in language_data]\n",
    "\n",
    "lang_model = Pipeline([\n",
    "    ('vectorizer', CountVectorizer(analyzer='char', ngram_range=(2, 3))),\n",
    "    ('classifier', MultinomialNB())\n",
    "])\n",
    "\n",
    "lang_model.fit(X_lang, y_lang)\n",
    "\n",
    "test_sentences = [\"hello world\", \"buenos amigos\", \"bonjour monde\"]\n",
    "lang_predictions = lang_model.predict(test_sentences)\n",
    "\n",
    "print(\"\\n\" + \"=\"*60)\n",
    "print(\"LANGUAGE IDENTIFICATION\")\n",
    "print(\"=\"*60)\n",
    "\n",
    "for sentence, lang in zip(test_sentences, lang_predictions):\n",
    "    print(f\"'{sentence}' → {lang}\")"
   ]
  },
  {
   "cell_type": "markdown",
   "metadata": {},
   "source": [
    "---\n",
    "\n",
    "## Self-Check Questions\n",
    "\n",
    "Test your understanding of Naive Bayes and its application in this notebook:\n",
    "\n",
    "1.  What does the \"naive\" assumption in Naive Bayes refer to? Why is it important for the algorithm? \n",
    "2.  How do you compute the prior probability $P(\\text{Class})$ from a labeled dataset? \n",
    "3.  Explain how Laplace (add-one) smoothing helps when calculating $P(\\text{word} \\mid \\text{Class})$. \n",
    "4.  Given a new email, describe the steps Naive Bayes uses to predict whether it is spam or not. \n",
    "5.  Why do we often use log probabilities instead of multiplying raw probabilities directly? \n",
    "6.  What are some limitations of Naive Bayes for text classification? \n",
    "7.  How does the Bag-of-Words representation affect the information available to the classifier? \n",
    "8.  How does the vocabulary size influence the likelihood calculations and smoothing? \n",
    "9.  If a word in a test document was never seen in training, how does Naive Bayes handle it? \n",
    "\n",
    "---\n",
    "\n",
    "### Further Reading\n",
    "\n",
    "- [Scikit-learn Naive Bayes Documentation](https://scikit-learn.org/stable/modules/naive_bayes.html)\n",
    "- Jurafsky & Martin, \"Speech and Language Processing\" (Chapter on Text Classification)\n",
    "- Manning et al., \"Introduction to Information Retrieval\" (Chapter 13)\n"
   ]
  }
 ],
 "metadata": {
  "kernelspec": {
   "display_name": "base",
   "language": "python",
   "name": "python3"
  },
  "language_info": {
   "codemirror_mode": {
    "name": "ipython",
    "version": 3
   },
   "file_extension": ".py",
   "mimetype": "text/x-python",
   "name": "python",
   "nbconvert_exporter": "python",
   "pygments_lexer": "ipython3",
   "version": "3.11.5"
  }
 },
 "nbformat": 4,
 "nbformat_minor": 2
}
