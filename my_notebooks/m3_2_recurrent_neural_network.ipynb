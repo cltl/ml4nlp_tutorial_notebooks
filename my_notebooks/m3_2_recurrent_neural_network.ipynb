{
 "cells": [
  {
   "cell_type": "markdown",
   "metadata": {},
   "source": [
    " # M3.2 Recurrent Neural Networks and LSTMs\n",
    "\n",
    " [![View notebooks on Github](https://img.shields.io/static/v1.svg?logo=github&label=Repo&message=View%20On%20Github&color=lightgrey)](https://github.com/watermeleon/ml4nlp_docs_web/blob/main/my_notebooks/m3_2_recurrent_neural_network.ipynb)\n",
    "[![Open In Collab](https://colab.research.google.com/assets/colab-badge.svg)](https://colab.research.google.com/github/watermeleon/ml4nlp_docs_web/blob/main/my_notebooks/m3_2_recurrent_neural_network.ipynb)  \n",
    "\n",
    "\n",
    "\n",
    "### Learning Objectives\n",
    "By working through this notebook, you will learn:\n",
    "- What an RNN is and important aspects of it's architecture\n",
    "- What different type of RNN setups there are\n",
    "- How to train each of the RNN variants for a representative task.\n",
    "    - Including: Sentiment Classification, POS tagging, Sequence inversion\n",
    "- What an LSTM is, what components it has\n",
    "- How to train an LSTM for classification and text generation: New Shakespear Bot :)"
   ]
  },
  {
   "cell_type": "markdown",
   "metadata": {},
   "source": [
    " ### Setup and Imports"
   ]
  },
  {
   "cell_type": "code",
   "execution_count": null,
   "metadata": {},
   "outputs": [
    {
     "name": "stdout",
     "output_type": "stream",
     "text": [
      "TensorFlow version: 2.14.0\n"
     ]
    }
   ],
   "source": [
    "# ignore warning messages for cleaner output of the website\n",
    "import warnings\n",
    "import os\n",
    "warnings.filterwarnings('ignore')\n",
    "os.environ['TF_CPP_MIN_LOG_LEVEL'] = '3'  #  Prevent Tensorflow from printing messages \n",
    "\n",
    "# Import necessary libraries\n",
    "import numpy as np\n",
    "import tensorflow as tf\n",
    "from tensorflow import keras\n",
    "from tensorflow.keras import layers\n",
    "from tensorflow.keras.preprocessing.text import Tokenizer\n",
    "from tensorflow.keras.preprocessing.sequence import pad_sequences\n",
    "from datasets import load_dataset\n",
    "import matplotlib.pyplot as plt\n",
    "from sklearn.model_selection import train_test_split\n",
    "\n",
    "# Set random seeds\n",
    "np.random.seed(42)\n",
    "tf.random.set_seed(42)\n",
    "\n",
    "print(f\"TensorFlow version: {tf.__version__}\")"
   ]
  },
  {
   "cell_type": "markdown",
   "metadata": {},
   "source": [
    " ## 1. Recurrent Neural Networks\n",
    "\n",
    " ### 1.1 What is an RNN?\n",
    "\n",
    " A Recurrent Neural Network (RNN) is a type of neural network designed to process sequential data. Unlike feedforward networks, RNNs have connections that form cycles, allowing information to persist.\n",
    "\n",
    " ### Mathematical Formulation\n",
    " At each time step $t$, an RNN computes:\n",
    " $$h_t = \\tanh(W_{hh} h_{t-1} + W_{xh} x_t + b_h)$$\n",
    " $$y_t = W_{hy} h_t + b_y$$\n",
    " Where:\n",
    " - $x_t$ is the input at time $t$\n",
    " - $h_t$ is the hidden state at time $t$\n",
    " - $y_t$ is the output at time $t$\n",
    " - $W_{hh}, W_{xh}, W_{hy}$ are weight matrices\n",
    " - $b_h, b_y$ are bias vectors\n",
    "\n",
    " The key property is that $h_t$ depends on $h_{t-1}$, allowing the network to maintain a \"memory\" of previous inputs."
   ]
  },
  {
   "cell_type": "markdown",
   "metadata": {},
   "source": [
    " ### 1.2 Training RNNs: Backpropagation Through Time\n",
    " RNNs are trained using **Backpropagation Through Time (BPTT)**, which unfolds the network across time steps and applies standard backpropagation. The gradient is computed by summing contributions from all time steps.\n",
    "\n",
    " **Challenge:** Gradients can vanish or explode when backpropagated through many time steps, making it difficult to learn long-range dependencies. This motivates architectures like LSTM and GRU."
   ]
  },
  {
   "cell_type": "markdown",
   "metadata": {},
   "source": [
    "## 2. RNN Application Types\n",
    "\n",
    "RNNs can be configured in different architectures depending on the task:\n",
    "1. **Acceptor**: Many-to-one (sequence → single output)\n",
    "2. **Transducer**: Many-to-many, same length (sequence → sequence)\n",
    "3. **Encoder-Decoder**: Many-to-many, different length (sequence → sequence)\n",
    "4. **Bidirectional RNN**: Process sequence in both directions"
   ]
  },
  {
   "cell_type": "markdown",
   "metadata": {},
   "source": [
    " ### 2.1 Acceptor: Sequence Classification\n",
    "\n",
    "<!-- ![acceptor_fig](./figures/rnn_figs/acceptor.png) -->\n",
    "\n",
    "<p align=\"center\">\n",
    "    <img src=\"https://raw.githubusercontent.com/watermeleon/ml4nlp_docs_web/refs/heads/main/figures/rnn_figs/acceptor.png\" alt=\"acceptor_fig\" style=\"max-width:40%;\">\n",
    "</p>\n",
    "\n",
    "- **Use case:** Sentiment analysis, topic classification\n",
    "- **Architecture:** Process entire sequence and output a single prediction\n",
    "- **Example:** Binary sentiment classification on movie reviews"
   ]
  },
  {
   "cell_type": "code",
   "execution_count": 2,
   "metadata": {},
   "outputs": [
    {
     "name": "stdout",
     "output_type": "stream",
     "text": [
      "Loading IMDb dataset...\n",
      "Training samples: 20000\n",
      "Validation samples: 5000\n"
     ]
    }
   ],
   "source": [
    "# Load IMDb dataset for sentiment classification\n",
    "print(\"Loading IMDb dataset...\")\n",
    "dataset = load_dataset(\"imdb\", split=\"train\")  # Subset for faster training\n",
    "# shuffle and select a smaller subset for quick demonstration\n",
    "# dataset = dataset.shuffle(seed=42).select(range(5000))\n",
    "dataset = dataset.shuffle(seed=42)\n",
    "\n",
    "texts = dataset[\"text\"]\n",
    "labels = dataset[\"label\"]\n",
    "\n",
    "# Split data\n",
    "X_train, X_val, y_train, y_val = train_test_split(\n",
    "    texts, labels, test_size=0.2, random_state=42\n",
    ")\n",
    "\n",
    "print(f\"Training samples: {len(X_train)}\")\n",
    "print(f\"Validation samples: {len(X_val)}\")\n"
   ]
  },
  {
   "cell_type": "markdown",
   "metadata": {},
   "source": [
    " #### Text Preprocessing"
   ]
  },
  {
   "cell_type": "code",
   "execution_count": 9,
   "metadata": {},
   "outputs": [
    {
     "name": "stdout",
     "output_type": "stream",
     "text": [
      "Vocabulary size: 79991\n",
      "Padded sequence shape: (20000, 100)\n"
     ]
    }
   ],
   "source": [
    "# Tokenization\n",
    "max_words = 3000\n",
    "max_len = 100\n",
    "\n",
    "tokenizer = Tokenizer(num_words=max_words, oov_token=\"<OOV>\")\n",
    "tokenizer.fit_on_texts(X_train)\n",
    "\n",
    "# Convert texts to sequences\n",
    "X_train_seq = tokenizer.texts_to_sequences(X_train)\n",
    "X_val_seq = tokenizer.texts_to_sequences(X_val)\n",
    "\n",
    "# Pad sequences to same length\n",
    "X_train_pad = pad_sequences(X_train_seq, maxlen=max_len, padding=\"post\", truncating=\"post\")\n",
    "X_val_pad = pad_sequences(X_val_seq, maxlen=max_len, padding=\"post\", truncating=\"post\")\n",
    "\n",
    "y_train = np.array(y_train)\n",
    "y_val = np.array(y_val)\n",
    "\n",
    "print(f\"Vocabulary size: {len(tokenizer.word_index)}\")\n",
    "print(f\"Padded sequence shape: {X_train_pad.shape}\")\n"
   ]
  },
  {
   "cell_type": "markdown",
   "metadata": {},
   "source": [
    "#### Build RNN Acceptor Model\n",
    "- The key RNN part of the model pipeline is `layers.SimpleRNN()`. Note that for the acceptor model we only care about the final output so we set `return_sequences=False`.\n",
    "- Similar to the previous notebooks, we first take an embedding layer, which creates word embeddings for each word in our dataset. As usual the last layer is a dense linear layer to create a prediction over the number of output classes.  "
   ]
  },
  {
   "cell_type": "code",
   "execution_count": 10,
   "metadata": {},
   "outputs": [
    {
     "name": "stdout",
     "output_type": "stream",
     "text": [
      "Model: \"sequential_2\"\n",
      "_________________________________________________________________\n",
      " Layer (type)                Output Shape              Param #   \n",
      "=================================================================\n",
      " embedding_2 (Embedding)     (None, 100, 64)           192000    \n",
      "                                                                 \n",
      " simple_rnn_2 (SimpleRNN)    (None, 64)                8256      \n",
      "                                                                 \n",
      " dropout_2 (Dropout)         (None, 64)                0         \n",
      "                                                                 \n",
      " dense_2 (Dense)             (None, 1)                 65        \n",
      "                                                                 \n",
      "=================================================================\n",
      "Total params: 200321 (782.50 KB)\n",
      "Trainable params: 200321 (782.50 KB)\n",
      "Non-trainable params: 0 (0.00 Byte)\n",
      "_________________________________________________________________\n"
     ]
    }
   ],
   "source": [
    "# RNN model for binary classification\n",
    "model_acceptor = keras.Sequential([\n",
    "    layers.Embedding(input_dim=max_words, output_dim=64, input_length=max_len),\n",
    "    layers.SimpleRNN(64, return_sequences=False),  # Return only final hidden state\n",
    "    layers.Dropout(0.3),\n",
    "    layers.Dense(1, activation=\"sigmoid\")\n",
    "])\n",
    "\n",
    "model_acceptor.compile(\n",
    "    optimizer=\"adam\",\n",
    "    loss=\"binary_crossentropy\",\n",
    "    metrics=[\"accuracy\"]\n",
    ")\n",
    "\n",
    "model_acceptor.summary()\n"
   ]
  },
  {
   "cell_type": "markdown",
   "metadata": {},
   "source": [
    "#### Train the Acceptor"
   ]
  },
  {
   "cell_type": "code",
   "execution_count": 11,
   "metadata": {},
   "outputs": [
    {
     "name": "stdout",
     "output_type": "stream",
     "text": [
      "Epoch 1/5\n",
      "625/625 [==============================] - 13s 20ms/step - loss: 0.7089 - accuracy: 0.5089 - val_loss: 0.6948 - val_accuracy: 0.5040\n",
      "Epoch 2/5\n",
      "625/625 [==============================] - 12s 19ms/step - loss: 0.7057 - accuracy: 0.5064 - val_loss: 0.6908 - val_accuracy: 0.5268\n",
      "Epoch 3/5\n",
      "625/625 [==============================] - 12s 19ms/step - loss: 0.6896 - accuracy: 0.5393 - val_loss: 0.6750 - val_accuracy: 0.5880\n",
      "Epoch 4/5\n",
      "625/625 [==============================] - 12s 19ms/step - loss: 0.6698 - accuracy: 0.5867 - val_loss: 0.6751 - val_accuracy: 0.5760\n",
      "Epoch 5/5\n",
      "625/625 [==============================] - 12s 19ms/step - loss: 0.6160 - accuracy: 0.6757 - val_loss: 0.5843 - val_accuracy: 0.7150\n"
     ]
    }
   ],
   "source": [
    "history_acceptor = model_acceptor.fit(\n",
    "    X_train_pad, y_train,\n",
    "    epochs=5,\n",
    "    batch_size=32,\n",
    "    validation_data=(X_val_pad, y_val),\n",
    "    verbose=1\n",
    ")"
   ]
  },
  {
   "cell_type": "markdown",
   "metadata": {},
   "source": [
    "**Analysis:**\n",
    "- We see that the model performs the task with around 70% accuracy in this toy setup, which shows us that the model does learn to perform better on the task but it's still much less thatn the range of ~80% we have seen using the other simpler model such as Naive Bayes Classification. The main reason is that the hyperparameters we have set are likely not optimal for this setup.\n",
    "For better performance we should apply hyper parameter optimization of:\n",
    "- `max_words`  : how many words should our vocabulary have? To few words and we lose information, too many words and it becomes very difficult to learn all of them (remember zipfs law!), and we also risk overfitting\n",
    "- `max_len` : How many words long should we allow the input reviews to be? Currently we say max 100 words which is not that long.\n",
    "- `hidden_dim` of the RNN: What should the hidden dimension of the RNN be? If it is too small, we can't learn much, if it is too large, it becomes much harder to learn.\n",
    " "
   ]
  },
  {
   "cell_type": "markdown",
   "metadata": {},
   "source": [
    "#### Test Prediction"
   ]
  },
  {
   "cell_type": "code",
   "execution_count": 13,
   "metadata": {},
   "outputs": [
    {
     "name": "stdout",
     "output_type": "stream",
     "text": [
      "\n",
      "Sentiment Predictions:\n",
      "------------------------------------------------------------\n",
      "Text: This movie was absolutely wonderful! I loved it....\n",
      "Prediction: Positive (score: 0.7540)\n",
      "\n",
      "Text: Terrible film. Complete waste of time....\n",
      "Prediction: Negative (score: 0.2836)\n",
      "\n",
      "Text: It was okay, nothing special....\n",
      "Prediction: Negative (score: 0.2935)\n",
      "\n"
     ]
    }
   ],
   "source": [
    "def predict_sentiment(text, model, tokenizer, max_len):\n",
    "    \"\"\"Predict sentiment of a text.\"\"\"\n",
    "    seq = tokenizer.texts_to_sequences([text])\n",
    "    padded = pad_sequences(seq, maxlen=max_len, padding=\"post\", truncating=\"post\")\n",
    "    pred = model.predict(padded, verbose=0)[0][0]\n",
    "    sentiment = \"Positive\" if pred > 0.5 else \"Negative\"\n",
    "    return sentiment, pred\n",
    "\n",
    "# Test examples\n",
    "test_examples = [\n",
    "    \"This movie was absolutely wonderful! I loved it.\",\n",
    "    \"Terrible film. Complete waste of time.\",\n",
    "    \"It was okay, nothing special.\"\n",
    "]\n",
    "\n",
    "print(\"\\nSentiment Predictions:\")\n",
    "print(\"-\" * 60)\n",
    "for text in test_examples:\n",
    "    sentiment, score = predict_sentiment(text, model_acceptor, tokenizer, max_len)\n",
    "    print(f\"Text: {text[:50]}...\")\n",
    "    print(f\"Prediction: {sentiment} (score: {score:.4f})\\n\")\n"
   ]
  },
  {
   "cell_type": "markdown",
   "metadata": {},
   "source": [
    "### 2.2 Transducer: Sequence Labeling\n",
    "\n",
    "<p align=\"center\">\n",
    "    <img src=\"https://raw.githubusercontent.com/watermeleon/ml4nlp_docs_web/refs/heads/main/figures/rnn_figs/transducer_rrn.png\" alt=\"transducor_fig\" style=\"max-width:40%;\">\n",
    "</p>\n",
    "\n",
    "- **Use case:** Part-of-speech tagging, Named Entity Recognition\n",
    "- **Architecture:** Output a label for each input token (same length)\n",
    "- **Example:** Part-of-Speech (POS) Tagging\n",
    "\n",
    "Package for installation: `pip install conllu` \n",
    "\n",
    "\n",
    " <!-- ```bash\n",
    " pip install conllu\n",
    " ``` -->"
   ]
  },
  {
   "cell_type": "code",
   "execution_count": 53,
   "metadata": {},
   "outputs": [
    {
     "name": "stdout",
     "output_type": "stream",
     "text": [
      "Loading Universal Dependencies POS dataset...\n",
      " Total samples in POS dataset: 12543\n",
      "Number of sequences: 12543\n",
      "POS tags: ['ADJ', 'ADP', 'ADV', 'AUX', 'CCONJ', 'DET', 'INTJ', 'NOUN', 'NUM', 'PART', 'PRON', 'PROPN', 'PUNCT', 'SCONJ', 'SYM', 'VERB', 'X']\n",
      "Total tags (including padding): 18\n"
     ]
    }
   ],
   "source": [
    "# Load Universal Dependencies POS tagging dataset\n",
    "print(\"Loading Universal Dependencies POS dataset...\")\n",
    "pos_dataset = load_dataset(\"universal_dependencies\", \"en_ewt\", split=\"train\")\n",
    "print(f\" Total samples in POS dataset: {len(pos_dataset)}\")\n",
    "\n",
    "# shuffle and get the first 5000 samples for quick demonstration\n",
    "pos_dataset = pos_dataset.shuffle(seed=42)\n",
    "# .select(range(5000))\n",
    "\n",
    "\n",
    "# Extract tokens and POS tags\n",
    "tokens_list = pos_dataset[\"tokens\"]\n",
    "pos_tags_list = pos_dataset[\"upos\"]\n",
    "\n",
    "# Universal POS tags\n",
    "pos_labels = [\"ADJ\", \"ADP\", \"ADV\", \"AUX\", \"CCONJ\", \"DET\", \"INTJ\", \"NOUN\", \n",
    "              \"NUM\", \"PART\", \"PRON\", \"PROPN\", \"PUNCT\", \"SCONJ\", \"SYM\", \"VERB\", \"X\"]\n",
    "# Create tag to index mapping\n",
    "tag2idx = {tag: idx + 1 for idx, tag in enumerate(pos_labels)}  # Reserve 0 for padding\n",
    "tag2idx[\"<PAD>\"] = 0\n",
    "idx2tag = {idx: tag for tag, idx in tag2idx.items()}\n",
    "\n",
    "num_tags = len(tag2idx)\n",
    "\n",
    "print(f\"Number of sequences: {len(tokens_list)}\")\n",
    "print(f\"POS tags: {pos_labels}\")\n",
    "print(f\"Total tags (including padding): {num_tags}\")"
   ]
  },
  {
   "cell_type": "markdown",
   "metadata": {},
   "source": [
    "#### Prepare POS Tagging Data"
   ]
  },
  {
   "cell_type": "code",
   "execution_count": 54,
   "metadata": {},
   "outputs": [
    {
     "name": "stdout",
     "output_type": "stream",
     "text": [
      "Loading Universal Dependencies POS dataset...\n",
      "Actual POS labels from dataset: ['NOUN', 'PUNCT', 'ADP', 'NUM', 'SYM', 'SCONJ', 'ADJ', 'PART', 'DET', 'CCONJ', 'PROPN', 'PRON', 'X', '_', 'ADV', 'INTJ', 'VERB', 'AUX']\n",
      "Number of sequences: 2000\n",
      "Total tags (including padding): 19\n",
      "\n",
      "Example:\n",
      "Tokens: ['Al', '-', 'Zaman', ':', 'American', 'forces', 'killed', 'Shaikh', 'Abdullah', 'al', '-', 'Ani', ',', 'the', 'preacher', 'at', 'the', 'mosque', 'in', 'the', 'town', 'of', 'Qaim', ',', 'near', 'the', 'Syrian', 'border', '.']\n",
      "POS indices: [10, 1, 10, 1, 6, 0, 16, 10, 10, 10, 1, 10, 1, 8, 0, 2, 8, 0, 2, 8, 0, 2, 10, 1, 2, 8, 6, 0, 1]\n",
      "POS labels: ['PROPN', 'PUNCT', 'PROPN', 'PUNCT', 'ADJ', 'NOUN', 'VERB', 'PROPN', 'PROPN', 'PROPN', 'PUNCT', 'PROPN', 'PUNCT', 'DET', 'NOUN', 'ADP', 'DET', 'NOUN', 'ADP', 'DET', 'NOUN', 'ADP', 'PROPN', 'PUNCT', 'ADP', 'DET', 'ADJ', 'NOUN', 'PUNCT']\n",
      "Total tags (including padding): 20\n"
     ]
    }
   ],
   "source": [
    "from datasets import load_dataset\n",
    "\n",
    "# Load dataset\n",
    "print(\"Loading Universal Dependencies POS dataset...\")\n",
    "pos_dataset = load_dataset(\"universal_dependencies\", \"en_ewt\", split=\"train[:2000]\")\n",
    "\n",
    "# Get the actual label names from the dataset's features\n",
    "pos_labels = pos_dataset.features[\"upos\"].feature.names\n",
    "print(f\"Actual POS labels from dataset: {pos_labels}\")\n",
    "\n",
    "# Create tag to index mapping (dataset already uses 0-indexed labels)\n",
    "tag2idx = {tag: idx for idx, tag in enumerate(pos_labels)}\n",
    "tag2idx[\"<PAD>\"] = len(pos_labels)  # Add padding at the end\n",
    "idx2tag = {idx: tag for tag, idx in tag2idx.items()}\n",
    "\n",
    "# Extract tokens and POS tags\n",
    "tokens_list = pos_dataset[\"tokens\"]\n",
    "pos_tags_list = pos_dataset[\"upos\"]\n",
    "\n",
    "# If you want string labels instead of indices:\n",
    "pos_tags_strings = [[pos_labels[idx] for idx in seq] for seq in pos_tags_list]\n",
    "\n",
    "print(f\"Number of sequences: {len(tokens_list)}\")\n",
    "print(f\"Total tags (including padding): {len(tag2idx)}\")\n",
    "print(f\"\\nExample:\")\n",
    "print(f\"Tokens: {tokens_list[0]}\")\n",
    "print(f\"POS indices: {pos_tags_list[0]}\")\n",
    "print(f\"POS labels: {pos_tags_strings[0]}\")\n",
    "\n",
    "num_tags = len(pos_labels) + 2\n",
    "print(f\"Total tags (including padding): {num_tags}\")"
   ]
  },
  {
   "cell_type": "code",
   "execution_count": 55,
   "metadata": {},
   "outputs": [
    {
     "name": "stdout",
     "output_type": "stream",
     "text": [
      "Vocabulary size: 7088\n",
      "Training sequences: (1600, 50)\n",
      "Example sentence: ['Al', '-', 'Zaman', ':', 'American', 'forces', 'killed', 'Shaikh', 'Abdullah', 'al']\n",
      "Example POS tags (original indices): [10, 1, 10, 1, 6, 0, 16, 10, 10, 10]\n",
      "Example POS tags (shifted +1 for padding): [11, 2, 11, 2, 7, 1, 17, 11, 11, 11]\n"
     ]
    }
   ],
   "source": [
    "# Build word vocabulary\n",
    "all_words = [word for tokens in tokens_list for word in tokens]\n",
    "word_vocab = sorted(set(all_words))\n",
    "word2idx = {word: idx + 2 for idx, word in enumerate(word_vocab)}  # Reserve 0 for padding, 1 for UNK\n",
    "word2idx[\"<PAD>\"] = 0\n",
    "word2idx[\"<UNK>\"] = 1\n",
    "\n",
    "# Convert tokens and tags to indices\n",
    "max_seq_len = 50\n",
    "X_pos = []\n",
    "y_pos = []\n",
    "\n",
    "for tokens, tags in zip(tokens_list, pos_tags_list):\n",
    "    # Convert tokens to indices\n",
    "    token_ids = [word2idx.get(token, 1) for token in tokens]\n",
    "   \n",
    "    # Tags are already numeric indices from the dataset - use them directly\n",
    "    # Add 1 to all tag indices to reserve 0 for padding\n",
    "    tag_ids = [tag + 1 for tag in tags]\n",
    "   \n",
    "    # Pad or truncate\n",
    "    if len(token_ids) < max_seq_len:\n",
    "        token_ids += [0] * (max_seq_len - len(token_ids))\n",
    "        tag_ids += [0] * (max_seq_len - len(tag_ids))\n",
    "    else:\n",
    "        token_ids = token_ids[:max_seq_len]\n",
    "        tag_ids = tag_ids[:max_seq_len]\n",
    "   \n",
    "    X_pos.append(token_ids)\n",
    "    y_pos.append(tag_ids)\n",
    "\n",
    "X_pos = np.array(X_pos)\n",
    "y_pos = np.array(y_pos)\n",
    "\n",
    "# Split data\n",
    "X_pos_train, X_pos_val, y_pos_train, y_pos_val = train_test_split(\n",
    "    X_pos, y_pos, test_size=0.2, random_state=42\n",
    ")\n",
    "\n",
    "print(f\"Vocabulary size: {len(word2idx)}\")\n",
    "print(f\"Training sequences: {X_pos_train.shape}\")\n",
    "print(f\"Example sentence: {tokens_list[0][:10]}\")\n",
    "print(f\"Example POS tags (original indices): {pos_tags_list[0][:10]}\")\n",
    "print(f\"Example POS tags (shifted +1 for padding): {[tag + 1 for tag in pos_tags_list[0][:10]]}\")"
   ]
  },
  {
   "cell_type": "markdown",
   "metadata": {},
   "source": [
    "#### Build RNN Transducer Model for POS Tagging\n",
    "- The setup is very similar to that of the Acceptor but this time we do want the embedding outputs for each item in the sequence so we have to set `return_sequences=True` for the class `layers.SimpleRNN()`"
   ]
  },
  {
   "cell_type": "code",
   "execution_count": 58,
   "metadata": {},
   "outputs": [
    {
     "name": "stdout",
     "output_type": "stream",
     "text": [
      "Model: \"sequential_9\"\n",
      "_________________________________________________________________\n",
      " Layer (type)                Output Shape              Param #   \n",
      "=================================================================\n",
      " embedding_9 (Embedding)     (None, None, 64)          453632    \n",
      "                                                                 \n",
      " simple_rnn_9 (SimpleRNN)    (None, None, 64)          8256      \n",
      "                                                                 \n",
      " dense_9 (Dense)             (None, None, 20)          1300      \n",
      "                                                                 \n",
      "=================================================================\n",
      "Total params: 463188 (1.77 MB)\n",
      "Trainable params: 463188 (1.77 MB)\n",
      "Non-trainable params: 0 (0.00 Byte)\n",
      "_________________________________________________________________\n"
     ]
    }
   ],
   "source": [
    "# RNN model for POS tagging\n",
    "model_transducer = keras.Sequential([\n",
    "    layers.Embedding(input_dim=len(word2idx), output_dim=64, mask_zero=True),\n",
    "    layers.SimpleRNN(64, return_sequences=True),\n",
    "    layers.Dense(num_tags, activation=\"softmax\")  # Now has correct number of outputs\n",
    "])\n",
    "model_transducer.compile(\n",
    "    optimizer=\"adam\",\n",
    "    loss=\"sparse_categorical_crossentropy\",\n",
    "    metrics=[\"accuracy\"]\n",
    ")\n",
    "model_transducer.summary()\n",
    "\n"
   ]
  },
  {
   "cell_type": "markdown",
   "metadata": {},
   "source": [
    "#### Train the Transducer"
   ]
  },
  {
   "cell_type": "code",
   "execution_count": 59,
   "metadata": {},
   "outputs": [
    {
     "name": "stdout",
     "output_type": "stream",
     "text": [
      "Epoch 1/10\n",
      "50/50 [==============================] - 2s 24ms/step - loss: 2.6031 - accuracy: 0.2048 - val_loss: 2.3872 - val_accuracy: 0.2780\n",
      "Epoch 2/10\n",
      "50/50 [==============================] - 1s 18ms/step - loss: 2.0481 - accuracy: 0.4512 - val_loss: 1.6971 - val_accuracy: 0.5858\n",
      "Epoch 3/10\n",
      "50/50 [==============================] - 1s 17ms/step - loss: 1.3029 - accuracy: 0.6893 - val_loss: 1.0836 - val_accuracy: 0.7202\n",
      "Epoch 4/10\n",
      "50/50 [==============================] - 1s 17ms/step - loss: 0.8069 - accuracy: 0.8103 - val_loss: 0.7522 - val_accuracy: 0.8124\n",
      "Epoch 5/10\n",
      "50/50 [==============================] - 1s 19ms/step - loss: 0.5141 - accuracy: 0.8897 - val_loss: 0.5728 - val_accuracy: 0.8478\n",
      "Epoch 6/10\n",
      "50/50 [==============================] - 1s 17ms/step - loss: 0.3407 - accuracy: 0.9274 - val_loss: 0.4775 - val_accuracy: 0.8653\n",
      "Epoch 7/10\n",
      "50/50 [==============================] - 1s 18ms/step - loss: 0.2444 - accuracy: 0.9454 - val_loss: 0.4297 - val_accuracy: 0.8785\n",
      "Epoch 8/10\n",
      "50/50 [==============================] - 1s 19ms/step - loss: 0.1864 - accuracy: 0.9572 - val_loss: 0.4042 - val_accuracy: 0.8823\n",
      "Epoch 9/10\n",
      "50/50 [==============================] - 1s 21ms/step - loss: 0.1489 - accuracy: 0.9645 - val_loss: 0.3911 - val_accuracy: 0.8817\n",
      "Epoch 10/10\n",
      "50/50 [==============================] - 1s 18ms/step - loss: 0.1213 - accuracy: 0.9708 - val_loss: 0.3856 - val_accuracy: 0.8816\n"
     ]
    }
   ],
   "source": [
    "history_transducer = model_transducer.fit(\n",
    "    X_pos_train, y_pos_train,\n",
    "    epochs=10,\n",
    "    batch_size=32,\n",
    "    validation_data=(X_pos_val, y_pos_val),\n",
    "    verbose=1\n",
    ")"
   ]
  },
  {
   "cell_type": "code",
   "execution_count": 62,
   "metadata": {},
   "outputs": [
    {
     "name": "stdout",
     "output_type": "stream",
     "text": [
      "POS Tagging Example:\n",
      "------------------------------------------------------------\n",
      "Al              | Predicted: PROPN    | True: PROPN   \n",
      "-               | Predicted: PUNCT    | True: PUNCT   \n",
      "Zaman           | Predicted: PROPN    | True: PROPN   \n",
      ":               | Predicted: PUNCT    | True: PUNCT   \n",
      "American        | Predicted: ADJ      | True: ADJ     \n",
      "forces          | Predicted: NOUN     | True: NOUN    \n",
      "killed          | Predicted: VERB     | True: VERB    \n",
      "Shaikh          | Predicted: PROPN    | True: PROPN   \n",
      "Abdullah        | Predicted: PROPN    | True: PROPN   \n",
      "al              | Predicted: PROPN    | True: PROPN   \n"
     ]
    }
   ],
   "source": [
    "# Update idx2tag to match the shifted indices used in training\n",
    "# 0 = padding, 1-17 = actual POS tags\n",
    "idx2tag_shifted = {0: \"<PAD>\"}\n",
    "for idx, label in enumerate(pos_labels):\n",
    "    idx2tag_shifted[idx + 1] = label  # Shift by +1 to match training data\n",
    "\n",
    "# Example prediction\n",
    "sample_idx = 0\n",
    "sample_tokens = tokens_list[sample_idx][:10]  # First 10 tokens\n",
    "sample_input = X_pos[sample_idx:sample_idx+1]\n",
    "predictions = model_transducer.predict(sample_input, verbose=0)\n",
    "predicted_tags = np.argmax(predictions[0], axis=-1)\n",
    "\n",
    "print(\"POS Tagging Example:\")\n",
    "print(\"-\" * 60)\n",
    "for token, pred_idx, true_idx in zip(sample_tokens,\n",
    "                                      predicted_tags[:len(sample_tokens)],\n",
    "                                      pos_tags_list[sample_idx][:len(sample_tokens)]):\n",
    "    # pred_idx is shifted (0-17), so use idx2tag_shifted\n",
    "    pred_tag = idx2tag_shifted.get(pred_idx, \"UNK\")\n",
    "    \n",
    "    # true_idx is NOT shifted (0-16), so we need to get the label directly\n",
    "    true_tag = pos_labels[true_idx] if true_idx < len(pos_labels) else \"UNK\"\n",
    "    \n",
    "    print(f\"{token:15s} | Predicted: {pred_tag:8s} | True: {true_tag:8s}\")"
   ]
  },
  {
   "cell_type": "markdown",
   "metadata": {},
   "source": [
    "### 2.3 Encoder-Decoder: Sequence-to-Sequence\n",
    "<p align=\"center\" >\n",
    "    <img src=\"https://raw.githubusercontent.com/watermeleon/ml4nlp_docs_web/refs/heads/main/figures/rnn_figs/seq2seq_rnn.svg\" alt=\"seq2seq_fig\" style=\"max-width:40%; background-color: white;\">\n",
    "</p>\n",
    "\n",
    "- **Use case:** Machine translation, text summarization\n",
    "- **Architecture:** Encoder processes input sequence into a context vector, decoder generates output sequence\n",
    "- **Example:** Simple character-level sequence transformation\n"
   ]
  },
  {
   "cell_type": "markdown",
   "metadata": {},
   "source": [
    "#### Prepare Sequence-to-Sequence Data\n",
    "\n",
    "\n",
    "\n",
    " For demonstration, we'll create a simple task: reverse sequences"
   ]
  },
  {
   "cell_type": "code",
   "execution_count": null,
   "metadata": {},
   "outputs": [
    {
     "name": "stdout",
     "output_type": "stream",
     "text": [
      "Training samples: (1600, 10)\n",
      "Example input: [10 15  6 15  7  5  4 18  3 17]\n",
      "Example output: [17  3 18  4  5  7 15  6 15 10]\n"
     ]
    }
   ],
   "source": [
    "# Generate toy dataset: input sequence → reversed sequence\n",
    "def generate_seq2seq_data(num_samples=1000, seq_length=10, vocab_size=20):\n",
    "    \"\"\"Generate random sequences and their reversals.\"\"\"\n",
    "    X = np.random.randint(1, vocab_size, size=(num_samples, seq_length))\n",
    "    y = np.flip(X, axis=1)\n",
    "    return X, y\n",
    "\n",
    "vocab_size_s2s = 20\n",
    "seq_len_s2s = 10\n",
    "\n",
    "X_s2s, y_s2s = generate_seq2seq_data(num_samples=2000, seq_length=seq_len_s2s, vocab_size=vocab_size_s2s)\n",
    "\n",
    "# Split data\n",
    "X_s2s_train, X_s2s_val, y_s2s_train, y_s2s_val = train_test_split(\n",
    "    X_s2s, y_s2s, test_size=0.2, random_state=42\n",
    ")\n",
    "\n",
    "print(f\"Training samples: {X_s2s_train.shape}\")\n",
    "print(f\"Example input: {X_s2s_train[0]}\")\n",
    "print(f\"Example output: {y_s2s_train[0]}\")\n"
   ]
  },
  {
   "cell_type": "markdown",
   "metadata": {},
   "source": [
    "#### Build Encoder-Decoder Model\n",
    "- For the encoder-decoder model we create two different RNN implementations first and combine them using the line `keras.Model([first_model, second_model])`"
   ]
  },
  {
   "cell_type": "code",
   "execution_count": null,
   "metadata": {},
   "outputs": [
    {
     "name": "stdout",
     "output_type": "stream",
     "text": [
      "Model: \"model\"\n",
      "__________________________________________________________________________________________________\n",
      " Layer (type)                Output Shape                 Param #   Connected to                  \n",
      "==================================================================================================\n",
      " input_1 (InputLayer)        [(None, 10)]                 0         []                            \n",
      "                                                                                                  \n",
      " input_2 (InputLayer)        [(None, 10)]                 0         []                            \n",
      "                                                                                                  \n",
      " embedding_2 (Embedding)     (None, 10, 32)               640       ['input_1[0][0]']             \n",
      "                                                                                                  \n",
      " embedding_3 (Embedding)     (None, 10, 32)               640       ['input_2[0][0]']             \n",
      "                                                                                                  \n",
      " simple_rnn_2 (SimpleRNN)    [(None, 64),                 6208      ['embedding_2[0][0]']         \n",
      "                              (None, 64)]                                                         \n",
      "                                                                                                  \n",
      " simple_rnn_3 (SimpleRNN)    [(None, 10, 64),             6208      ['embedding_3[0][0]',         \n",
      "                              (None, 64)]                            'simple_rnn_2[0][1]']        \n",
      "                                                                                                  \n",
      " dense_2 (Dense)             (None, 10, 20)               1300      ['simple_rnn_3[0][0]']        \n",
      "                                                                                                  \n",
      "==================================================================================================\n",
      "Total params: 14996 (58.58 KB)\n",
      "Trainable params: 14996 (58.58 KB)\n",
      "Non-trainable params: 0 (0.00 Byte)\n",
      "__________________________________________________________________________________________________\n"
     ]
    }
   ],
   "source": [
    "# Encoder\n",
    "encoder_inputs = layers.Input(shape=(seq_len_s2s,))\n",
    "encoder_embedding = layers.Embedding(vocab_size_s2s, 32)(encoder_inputs)\n",
    "encoder_rnn = layers.SimpleRNN(64, return_state=True)\n",
    "encoder_outputs, encoder_state = encoder_rnn(encoder_embedding)\n",
    "\n",
    "# Decoder\n",
    "decoder_inputs = layers.Input(shape=(seq_len_s2s,))\n",
    "decoder_embedding = layers.Embedding(vocab_size_s2s, 32)(decoder_inputs)\n",
    "decoder_rnn = layers.SimpleRNN(64, return_sequences=True, return_state=True)\n",
    "decoder_outputs, _ = decoder_rnn(decoder_embedding, initial_state=encoder_state)\n",
    "decoder_dense = layers.Dense(vocab_size_s2s, activation=\"softmax\")\n",
    "decoder_outputs = decoder_dense(decoder_outputs)\n",
    "\n",
    "# Model\n",
    "model_seq2seq = keras.Model([encoder_inputs, decoder_inputs], decoder_outputs)\n",
    "\n",
    "model_seq2seq.compile(\n",
    "    optimizer=\"adam\",\n",
    "    loss=\"sparse_categorical_crossentropy\",\n",
    "    metrics=[\"accuracy\"]\n",
    ")\n",
    "\n",
    "model_seq2seq.summary()\n"
   ]
  },
  {
   "cell_type": "markdown",
   "metadata": {},
   "source": [
    "#### Train Encoder-Decoder"
   ]
  },
  {
   "cell_type": "code",
   "execution_count": null,
   "metadata": {},
   "outputs": [
    {
     "name": "stdout",
     "output_type": "stream",
     "text": [
      "Epoch 1/10\n",
      "50/50 [==============================] - 1s 10ms/step - loss: 2.8781 - accuracy: 0.1124 - val_loss: 2.6656 - val_accuracy: 0.1822\n",
      "Epoch 2/10\n",
      "50/50 [==============================] - 0s 6ms/step - loss: 2.4441 - accuracy: 0.2573 - val_loss: 2.3014 - val_accuracy: 0.2767\n",
      "Epoch 3/10\n",
      "50/50 [==============================] - 0s 5ms/step - loss: 2.1069 - accuracy: 0.3547 - val_loss: 1.9919 - val_accuracy: 0.3767\n",
      "Epoch 4/10\n",
      "50/50 [==============================] - 0s 5ms/step - loss: 1.7836 - accuracy: 0.4588 - val_loss: 1.6611 - val_accuracy: 0.5005\n",
      "Epoch 5/10\n",
      "50/50 [==============================] - 0s 5ms/step - loss: 1.4380 - accuracy: 0.5926 - val_loss: 1.3267 - val_accuracy: 0.6118\n",
      "Epoch 6/10\n",
      "50/50 [==============================] - 0s 5ms/step - loss: 1.1474 - accuracy: 0.7036 - val_loss: 1.0778 - val_accuracy: 0.7070\n",
      "Epoch 7/10\n",
      "50/50 [==============================] - 0s 6ms/step - loss: 0.9416 - accuracy: 0.7751 - val_loss: 0.9002 - val_accuracy: 0.7745\n",
      "Epoch 8/10\n",
      "50/50 [==============================] - 0s 6ms/step - loss: 0.7862 - accuracy: 0.8311 - val_loss: 0.7620 - val_accuracy: 0.8275\n",
      "Epoch 9/10\n",
      "50/50 [==============================] - 0s 5ms/step - loss: 0.6802 - accuracy: 0.8607 - val_loss: 0.6739 - val_accuracy: 0.8468\n",
      "Epoch 10/10\n",
      "50/50 [==============================] - 0s 6ms/step - loss: 0.5909 - accuracy: 0.8844 - val_loss: 0.5970 - val_accuracy: 0.8673\n"
     ]
    }
   ],
   "source": [
    "# Prepare decoder inputs (shifted target sequences)\n",
    "decoder_input_train = np.zeros_like(y_s2s_train)\n",
    "decoder_input_train[:, 1:] = y_s2s_train[:, :-1]\n",
    "\n",
    "decoder_input_val = np.zeros_like(y_s2s_val)\n",
    "decoder_input_val[:, 1:] = y_s2s_val[:, :-1]\n",
    "\n",
    "# Expand dimensions for sparse categorical crossentropy\n",
    "y_s2s_train_exp = np.expand_dims(y_s2s_train, -1)\n",
    "y_s2s_val_exp = np.expand_dims(y_s2s_val, -1)\n",
    "\n",
    "history_seq2seq = model_seq2seq.fit(\n",
    "    [X_s2s_train, decoder_input_train], y_s2s_train_exp,\n",
    "    epochs=10,\n",
    "    batch_size=32,\n",
    "    validation_data=([X_s2s_val, decoder_input_val], y_s2s_val_exp),\n",
    "    verbose=1\n",
    ")\n"
   ]
  },
  {
   "cell_type": "markdown",
   "metadata": {},
   "source": [
    "### 2.4 Bidirectional RNN\n",
    "<p align=\"center\" >\n",
    "    <img src=\"https://raw.githubusercontent.com/watermeleon/ml4nlp_docs_web/refs/heads/main/figures/rnn_figs/bi_rnn.png\" alt=\"bi_rnn_fig\" style=\"max-width:40%; background-color: white;\">\n",
    "</p>\n",
    "\n",
    "\n",
    "- **Use case:** Tasks where full sequence context improves performance\n",
    "- **Architecture:** Two RNNs process the sequence in opposite directions\n",
    "- **Advantage:** Access to both past and future context at each position\n",
    "- **Example:** Sentiment classification with bidirectional RNN"
   ]
  },
  {
   "cell_type": "markdown",
   "metadata": {},
   "source": [
    "To construct the model we can use the build in package from keras, and just use function `layers.Bidirectional()` and wrap it around the `SimpleRNN()`."
   ]
  },
  {
   "cell_type": "code",
   "execution_count": null,
   "metadata": {},
   "outputs": [
    {
     "name": "stdout",
     "output_type": "stream",
     "text": [
      "Model: \"sequential_4\"\n",
      "_________________________________________________________________\n",
      " Layer (type)                Output Shape              Param #   \n",
      "=================================================================\n",
      " embedding_4 (Embedding)     (None, 200, 64)           640000    \n",
      "                                                                 \n",
      " bidirectional (Bidirection  (None, 128)               16512     \n",
      " al)                                                             \n",
      "                                                                 \n",
      " dropout_4 (Dropout)         (None, 128)               0         \n",
      "                                                                 \n",
      " dense_4 (Dense)             (None, 1)                 129       \n",
      "                                                                 \n",
      "=================================================================\n",
      "Total params: 656641 (2.50 MB)\n",
      "Trainable params: 656641 (2.50 MB)\n",
      "Non-trainable params: 0 (0.00 Byte)\n",
      "_________________________________________________________________\n"
     ]
    }
   ],
   "source": [
    "# Build Bidirectional RNN model\n",
    "model_birnn = keras.Sequential([\n",
    "    layers.Embedding(input_dim=max_words, output_dim=64, input_length=max_len),\n",
    "    layers.Bidirectional(layers.SimpleRNN(64, return_sequences=False)),\n",
    "    layers.Dropout(0.3),\n",
    "    layers.Dense(1, activation=\"sigmoid\")\n",
    "])\n",
    "\n",
    "model_birnn.compile(\n",
    "    optimizer=\"adam\",\n",
    "    loss=\"binary_crossentropy\",\n",
    "    metrics=[\"accuracy\"]\n",
    ")\n",
    "\n",
    "model_birnn.summary()\n"
   ]
  },
  {
   "cell_type": "markdown",
   "metadata": {},
   "source": [
    "#### Train Bidirectional RNN"
   ]
  },
  {
   "cell_type": "code",
   "execution_count": null,
   "metadata": {},
   "outputs": [
    {
     "name": "stdout",
     "output_type": "stream",
     "text": [
      "Epoch 1/5\n",
      "125/125 [==============================] - 5s 37ms/step - loss: 0.7046 - accuracy: 0.5013 - val_loss: 0.6997 - val_accuracy: 0.4940\n",
      "Epoch 2/5\n",
      "125/125 [==============================] - 4s 35ms/step - loss: 0.6427 - accuracy: 0.6357 - val_loss: 0.6959 - val_accuracy: 0.5350\n",
      "Epoch 3/5\n",
      "125/125 [==============================] - 4s 35ms/step - loss: 0.5733 - accuracy: 0.7035 - val_loss: 0.6901 - val_accuracy: 0.5620\n",
      "Epoch 4/5\n",
      "125/125 [==============================] - 4s 36ms/step - loss: 0.3091 - accuracy: 0.8907 - val_loss: 0.8787 - val_accuracy: 0.5580\n",
      "Epoch 5/5\n",
      "125/125 [==============================] - 4s 34ms/step - loss: 0.1710 - accuracy: 0.9433 - val_loss: 0.9092 - val_accuracy: 0.5720\n"
     ]
    }
   ],
   "source": [
    "history_birnn = model_birnn.fit(\n",
    "    X_train_pad, y_train,\n",
    "    epochs=5,\n",
    "    batch_size=32,\n",
    "    validation_data=(X_val_pad, y_val),\n",
    "    verbose=1\n",
    ")\n"
   ]
  },
  {
   "cell_type": "code",
   "execution_count": null,
   "metadata": {},
   "outputs": [
    {
     "name": "stdout",
     "output_type": "stream",
     "text": [
      "\n",
      "Unidirectional RNN Validation Accuracy: 0.4890\n",
      "Bidirectional RNN Validation Accuracy: 0.5720\n",
      "Improvement: 8.30%\n"
     ]
    }
   ],
   "source": [
    "# Compare with unidirectional RNN\n",
    "val_loss_birnn, val_acc_birnn = model_birnn.evaluate(X_val_pad, y_val, verbose=0)\n",
    "val_loss_rnn, val_acc_rnn = model_acceptor.evaluate(X_val_pad, y_val, verbose=0)\n",
    "\n",
    "print(f\"\\nUnidirectional RNN Validation Accuracy: {val_acc_rnn:.4f}\")\n",
    "print(f\"Bidirectional RNN Validation Accuracy: {val_acc_birnn:.4f}\")\n",
    "print(f\"Improvement: {(val_acc_birnn - val_acc_rnn)*100:.2f}%\")\n"
   ]
  },
  {
   "cell_type": "markdown",
   "metadata": {},
   "source": [
    "## 3. Long Short-Term Memory (LSTM)\n",
    "\n",
    "### 3.1 Why LSTM?\n",
    "Standard RNNs suffer from the **vanishing gradient problem**, making it difficult to learn long-range dependencies. LSTMs address this through a gating mechanism that controls information flow."
   ]
  },
  {
   "cell_type": "markdown",
   "metadata": {},
   "source": [
    "### 3.2 LSTM Architecture\n",
    "\n",
    "\n",
    "<p align=\"center\" >\n",
    "    <img src=\"https://raw.githubusercontent.com/watermeleon/ml4nlp_docs_web/refs/heads/main/figures/rnn_figs/LSTM.webp\" alt=\"LSTM_fig\" style=\"max-width:40%; background-color: white;\">\n",
    "</p>\n",
    "\n",
    " An LSTM unit consists of:\n",
    " 1. **Cell state** ($C_t$): Long-term memory\n",
    " 2. **Hidden state** ($h_t$): Short-term memory\n",
    " 3. **Three gates**:\n",
    "    - **Forget gate** ($f_t$): What to forget from cell state\n",
    "    - **Input gate** ($i_t$): What new information to store\n",
    "    - **Output gate** ($o_t$): What to output\n",
    "\n",
    " #### Mathematical Formulation\n",
    " $$f_t = \\sigma(W_f \\cdot [h_{t-1}, x_t] + b_f)$$\n",
    " $$i_t = \\sigma(W_i \\cdot [h_{t-1}, x_t] + b_i)$$\n",
    " $$\\tilde{C}_t = \\tanh(W_C \\cdot [h_{t-1}, x_t] + b_C)$$\n",
    " $$C_t = f_t \\odot C_{t-1} + i_t \\odot \\tilde{C}_t$$\n",
    " $$o_t = \\sigma(W_o \\cdot [h_{t-1}, x_t] + b_o)$$\n",
    " $$h_t = o_t \\odot \\tanh(C_t)$$\n",
    " Where:\n",
    " - $\\sigma$ is the sigmoid function\n",
    " - $\\odot$ denotes element-wise multiplication\n",
    " - $[h_{t-1}, x_t]$ is concatenation of hidden state and input"
   ]
  },
  {
   "cell_type": "markdown",
   "metadata": {},
   "source": [
    "### 3.3 Application 1: Text Generation with LSTM\n",
    "-  **Task:** Generate text character-by-character\n",
    "-  **Training:** Predict the next character given previous characters\n",
    " - **Dataset:** Tiny Shakespeare - 40,000 lines of Shakespeare from various plays, url: https://huggingface.co/datasets/karpathy/tiny_shakespeare\n",
    "\n",
    " This dataset was featured in Andrej Karpathy's influential blog post [\"The Unreasonable Effectiveness of Recurrent Neural Networks\"](http://karpathy.github.io/2015/05/21/rnn-effectiveness/) where he demonstrated the power of character-level language modeling."
   ]
  },
  {
   "cell_type": "code",
   "execution_count": null,
   "metadata": {},
   "outputs": [
    {
     "name": "stdout",
     "output_type": "stream",
     "text": [
      "Loading Tiny Shakespeare dataset...\n",
      "Total text length: 1,003,854 characters\n",
      "\n",
      "First 500 characters:\n",
      "----------------------------------------------------------------------\n",
      "First Citizen:\n",
      "Before we proceed any further, hear me speak.\n",
      "\n",
      "All:\n",
      "Speak, speak.\n",
      "\n",
      "First Citizen:\n",
      "You are all resolved rather to die than to famish?\n",
      "\n",
      "All:\n",
      "Resolved. resolved.\n",
      "\n",
      "First Citizen:\n",
      "First, you know Caius Marcius is chief enemy to the people.\n",
      "\n",
      "All:\n",
      "We know't, we know't.\n",
      "\n",
      "First Citizen:\n",
      "Let us kill him, and we'll have corn at our own price.\n",
      "Is't a verdict?\n",
      "\n",
      "All:\n",
      "No more talking on't; let it be done: away, away!\n",
      "\n",
      "Second Citizen:\n",
      "One word, good citizens.\n",
      "\n",
      "First Citizen:\n",
      "We are accounted poor\n"
     ]
    }
   ],
   "source": [
    "# Load Tiny Shakespeare dataset\n",
    "print(\"Loading Tiny Shakespeare dataset...\")\n",
    "shakespeare_dataset = load_dataset(\"tiny_shakespeare\")\n",
    "# print(f\"Dataset splits: {shakespeare_dataset.keys()}, \")\n",
    "\n",
    "# use_perc = 0.1\n",
    "# shakespeare_dataset = shakespeare_dataset.shuffle(seed=42).select(range(int(len(shakespeare_dataset['train']) * use_perc)))\n",
    "\n",
    "# Get the text\n",
    "text = shakespeare_dataset[\"train\"][0][\"text\"]\n",
    "\n",
    "print(f\"Total text length: {len(text):,} characters\")\n",
    "print(f\"\\nFirst 500 characters:\")\n",
    "print(\"-\" * 70)\n",
    "print(text[:500])\n"
   ]
  },
  {
   "cell_type": "markdown",
   "metadata": {},
   "source": [
    "#### Prepare Character-Level Data"
   ]
  },
  {
   "cell_type": "code",
   "execution_count": null,
   "metadata": {},
   "outputs": [
    {
     "name": "stdout",
     "output_type": "stream",
     "text": [
      "\n",
      "Vocabulary size: 65 unique characters\n",
      "Characters: \"\\n !$&',-.3:;?ABCDEFGHIJKLMNOPQRSTUVWXYZabcdefghijklmnopqrstuvwxyz\"\n"
     ]
    }
   ],
   "source": [
    "# Prepare character-level data\n",
    "chars = sorted(set(text))\n",
    "char_to_idx = {ch: i for i, ch in enumerate(chars)}\n",
    "idx_to_char = {i: ch for i, ch in enumerate(chars)}\n",
    "\n",
    "vocab_size_char = len(chars)\n",
    "print(f\"\\nVocabulary size: {vocab_size_char} unique characters\")\n",
    "print(f\"Characters: {repr(''.join(chars))}\")\n"
   ]
  },
  {
   "cell_type": "markdown",
   "metadata": {},
   "source": [
    "#### Create Training Sequences"
   ]
  },
  {
   "cell_type": "code",
   "execution_count": null,
   "metadata": {},
   "outputs": [
    {
     "name": "stdout",
     "output_type": "stream",
     "text": [
      "Creating sequences with length 10...\n",
      "Number of training sequences: 334,615\n",
      "Input shape: (334615, 10)\n",
      "Target shape: (334615,)\n",
      "\n",
      "Example sequence 0:\n",
      "Input text: 'First Citi'\n",
      "Target char: 'z'\n"
     ]
    }
   ],
   "source": [
    "# Create sequences for training\n",
    "seq_length = 10  # Length of input sequences\n",
    "step = 3  # Step between sequences (smaller step = more training data)\n",
    "\n",
    "sequences = []\n",
    "next_chars = []\n",
    "\n",
    "print(f\"Creating sequences with length {seq_length}...\")\n",
    "\n",
    "for i in range(0, len(text) - seq_length, step):\n",
    "    sequences.append([char_to_idx[ch] for ch in text[i:i + seq_length]])\n",
    "    next_chars.append(char_to_idx[text[i + seq_length]])\n",
    "\n",
    "X_gen = np.array(sequences)\n",
    "y_gen = np.array(next_chars)\n",
    "\n",
    "print(f\"Number of training sequences: {len(sequences):,}\")\n",
    "print(f\"Input shape: {X_gen.shape}\")\n",
    "print(f\"Target shape: {y_gen.shape}\")\n",
    "\n",
    "# Show an example sequence\n",
    "example_idx = 0\n",
    "print(f\"\\nExample sequence {example_idx}:\")\n",
    "print(\"Input text:\", repr(text[example_idx:example_idx + seq_length]))\n",
    "print(\"Target char:\", repr(text[example_idx + seq_length]))\n"
   ]
  },
  {
   "cell_type": "markdown",
   "metadata": {},
   "source": [
    "#### Build Character-Level LSTM"
   ]
  },
  {
   "cell_type": "code",
   "execution_count": null,
   "metadata": {},
   "outputs": [
    {
     "name": "stdout",
     "output_type": "stream",
     "text": [
      "Model: \"sequential_1\"\n",
      "_________________________________________________________________\n",
      " Layer (type)                Output Shape              Param #   \n",
      "=================================================================\n",
      " embedding_1 (Embedding)     (None, 10, 32)            2080      \n",
      "                                                                 \n",
      " lstm_2 (LSTM)               (None, 10, 128)           82432     \n",
      "                                                                 \n",
      " lstm_3 (LSTM)               (None, 128)               131584    \n",
      "                                                                 \n",
      " dropout_1 (Dropout)         (None, 128)               0         \n",
      "                                                                 \n",
      " dense_1 (Dense)             (None, 65)                8385      \n",
      "                                                                 \n",
      "=================================================================\n",
      "Total params: 224481 (876.88 KB)\n",
      "Trainable params: 224481 (876.88 KB)\n",
      "Non-trainable params: 0 (0.00 Byte)\n",
      "_________________________________________________________________\n"
     ]
    }
   ],
   "source": [
    "model_char_lstm = keras.Sequential([\n",
    "    layers.Embedding(vocab_size_char, 32, input_length=seq_length),\n",
    "    layers.LSTM(128, return_sequences=True),\n",
    "    layers.LSTM(128),\n",
    "    layers.Dropout(0.2),\n",
    "    layers.Dense(vocab_size_char, activation=\"softmax\")\n",
    "])\n",
    "\n",
    "model_char_lstm.compile(\n",
    "    optimizer=\"adam\",\n",
    "    loss=\"sparse_categorical_crossentropy\",\n",
    "    metrics=[\"accuracy\"]\n",
    ")\n",
    "\n",
    "model_char_lstm.summary()\n"
   ]
  },
  {
   "cell_type": "markdown",
   "metadata": {},
   "source": [
    "#### Train Character LSTM\n",
    " Note: Training on the full Shakespeare dataset will take some time.\n",
    "\n",
    " For a quicker demo, you can reduce the number of epochs or use a smaller subset of the data."
   ]
  },
  {
   "cell_type": "code",
   "execution_count": null,
   "metadata": {},
   "outputs": [
    {
     "name": "stdout",
     "output_type": "stream",
     "text": [
      "Epoch 1/5\n",
      "2353/2353 [==============================] - 50s 21ms/step - loss: 2.0015 - accuracy: 0.4193 - val_loss: 1.9157 - val_accuracy: 0.4324\n",
      "Epoch 2/5\n",
      "2353/2353 [==============================] - 49s 21ms/step - loss: 1.8241 - accuracy: 0.4646 - val_loss: 1.8019 - val_accuracy: 0.4658\n",
      "Epoch 3/5\n",
      "2353/2353 [==============================] - 49s 21ms/step - loss: 1.7242 - accuracy: 0.4900 - val_loss: 1.7367 - val_accuracy: 0.4825\n",
      "Epoch 4/5\n",
      "2353/2353 [==============================] - 49s 21ms/step - loss: 1.6586 - accuracy: 0.5069 - val_loss: 1.6988 - val_accuracy: 0.4952\n",
      "Epoch 5/5\n",
      "2353/2353 [==============================] - 49s 21ms/step - loss: 1.6098 - accuracy: 0.5181 - val_loss: 1.6660 - val_accuracy: 0.5033\n"
     ]
    }
   ],
   "source": [
    "history_char = model_char_lstm.fit(\n",
    "    X_gen, y_gen,\n",
    "    epochs=5,  # Can be increased for better results\n",
    "    batch_size=128,\n",
    "    validation_split=0.1,\n",
    "    verbose=1\n",
    ")\n"
   ]
  },
  {
   "cell_type": "code",
   "execution_count": null,
   "metadata": {},
   "outputs": [
    {
     "data": {
      "image/png": "[encoded data removed]",
      "text/plain": [
       "<Figure size 1200x400 with 2 Axes>"
      ]
     },
     "metadata": {},
     "output_type": "display_data"
    }
   ],
   "source": [
    "# Plot training history\n",
    "plt.figure(figsize=(12, 4))\n",
    "\n",
    "plt.subplot(1, 2, 1)\n",
    "plt.plot(history_char.history[\"loss\"], label=\"Training Loss\")\n",
    "plt.plot(history_char.history[\"val_loss\"], label=\"Validation Loss\")\n",
    "plt.title(\"Character LSTM - Training Loss\")\n",
    "plt.xlabel(\"Epoch\")\n",
    "plt.ylabel(\"Loss\")\n",
    "plt.legend()\n",
    "plt.grid(True)\n",
    "\n",
    "plt.subplot(1, 2, 2)\n",
    "plt.plot(history_char.history[\"accuracy\"], label=\"Training Accuracy\")\n",
    "plt.plot(history_char.history[\"val_accuracy\"], label=\"Validation Accuracy\")\n",
    "plt.title(\"Character LSTM - Training Accuracy\")\n",
    "plt.xlabel(\"Epoch\")\n",
    "plt.ylabel(\"Accuracy\")\n",
    "plt.legend()\n",
    "plt.grid(True)\n",
    "\n",
    "plt.tight_layout()\n",
    "plt.show()\n"
   ]
  },
  {
   "cell_type": "markdown",
   "metadata": {},
   "source": [
    "#### Generate Shakespeare-Style Text"
   ]
  },
  {
   "cell_type": "code",
   "execution_count": null,
   "metadata": {},
   "outputs": [],
   "source": [
    "def generate_text(model, start_string, length=200, temperature=1.0):\n",
    "    \"\"\"\n",
    "    Generate text using trained LSTM.\n",
    "    \n",
    "    Args:\n",
    "        model: Trained Keras model\n",
    "        start_string: Initial string to start generation\n",
    "        length: Number of characters to generate\n",
    "        temperature: Controls randomness (lower = more conservative, higher = more random)\n",
    "    \"\"\"\n",
    "    generated = start_string\n",
    "    input_seq = [char_to_idx.get(ch, 0) for ch in start_string]\n",
    "    \n",
    "    for _ in range(length):\n",
    "        # Pad sequence to correct length\n",
    "        if len(input_seq) < seq_length:\n",
    "            padded = [0] * (seq_length - len(input_seq)) + input_seq\n",
    "        else:\n",
    "            padded = input_seq[-seq_length:]\n",
    "        \n",
    "        # Predict next character\n",
    "        x = np.array([padded])\n",
    "        predictions = model.predict(x, verbose=0)[0]\n",
    "        \n",
    "        # Apply temperature for diversity\n",
    "        predictions = np.log(predictions + 1e-10) / temperature\n",
    "        predictions = np.exp(predictions) / np.sum(np.exp(predictions))\n",
    "        \n",
    "        # Sample from distribution\n",
    "        next_idx = np.random.choice(len(predictions), p=predictions)\n",
    "        next_char = idx_to_char[next_idx]\n",
    "        \n",
    "        generated += next_char\n",
    "        input_seq.append(next_idx)\n",
    "    \n",
    "    return generated\n"
   ]
  },
  {
   "cell_type": "code",
   "execution_count": null,
   "metadata": {},
   "outputs": [
    {
     "name": "stdout",
     "output_type": "stream",
     "text": [
      "Generated Shakespeare-style text:\n",
      "\n",
      "======================================================================\n",
      "\n",
      "\n",
      "Starting with: 'ROMEO:'\n",
      "----------------------------------------------------------------------\n",
      "\n",
      "Temperature: 0.5\n",
      "ROMEO:\n",
      "The sunder to the crown,\n",
      "On that my lord,\n",
      "And not the hay send,\n",
      "And another country becare a send,\n",
      "The sand he good king some to the hand in what we have a vorse the behald me not the encount and man\n",
      "\n",
      "\n",
      "Temperature: 1.0\n",
      "ROMEO:\n",
      "Seme thy courtion metudes our fruth.\n",
      "\n",
      "RAMELES:\n",
      "All here I ap: twere out in fall eacured will-wim, by redbed?\n",
      "\n",
      "WARWICK:\n",
      "We meads as, the heart fomel-lores! thoud speed; God thou Lary, on anoved;\n",
      "What \n",
      "\n",
      "\n",
      "Temperature: 1.5\n",
      "ROMEO:\n",
      "O, Evuy-On Chirge you so!\n",
      "Nod; eyes by the\n",
      "messuenous.\n",
      "\n",
      "AllaR:\n",
      "Shall boin Piliesar ig.n\n",
      "In! 'bh gade oot a ot warns; budoning sabe thy cosnirazun; Gad:-Will yet himly dit'rne, valw these go;\n",
      "reserdve\n",
      "\n",
      "\n",
      "\n",
      "Starting with: 'To be or not to be'\n",
      "----------------------------------------------------------------------\n",
      "\n",
      "Temperature: 0.5\n",
      "To be or not to be conferion all the see a warms of your son that could the world and his cow with the string say the death, be so lord, there I were in mine his hand so may that streather him on the such of me;\n",
      "Which \n",
      "\n",
      "\n",
      "Temperature: 1.0\n",
      "To be or not to be,n and a umience theldain.'\n",
      "\n",
      "POLIXENES:\n",
      "There hay; the restece in?\n",
      "\n",
      "GLOUCESTER:\n",
      "In, shall from the send in by what anchidase yets ade they of might in that Ferdne,\n",
      "could knee,\n",
      "The king:\n",
      "Therefore. Ran\n",
      "\n",
      "\n",
      "Temperature: 1.5\n",
      "To be or not to be son Lod.\n",
      "You good Rone\n",
      "Aves, about Ioukt! oth gseeelfs agpmastmy slound mylN,\n",
      "To kound fortiom.\n",
      "\n",
      "QuEER LERCGUT\n",
      "Y RAWILBBry:\n",
      "Stoned\n",
      "Thoir! Goilk; are Jerquige, I moys: my honour'd\n",
      "-uch wears the Nooll\n",
      "\n",
      "\n",
      "\n",
      "Starting with: 'The '\n",
      "----------------------------------------------------------------------\n",
      "\n",
      "Temperature: 0.5\n",
      "The KANNG, and all the manth of all the sweet our can the stand of the hind that fall his despains of the contressed to the cannot served with seared and the most that a consling will the did the becourth\n",
      "\n",
      "\n",
      "Temperature: 1.0\n",
      "The KRORCHeur: Cicizen: on what this daughter words amm own are but the firgs of she have son for bethigh:\n",
      "Naad age, by all our wanders.\n",
      "\n",
      "RUTAN:\n",
      "And he befains.\n",
      "\n",
      "LADY MONWARD IV:\n",
      "A: heaven, come; what or \n",
      "\n",
      "\n",
      "Temperature: 1.5\n",
      "The KANNd, Anle help, you karwab, a sigo.-\n",
      "Whow you man; the bakes go'd,\n",
      "Iving, fall youd.\n",
      "Nay, weaves, bemengeox, soul thrubt.\n",
      "GuRhour either\n",
      "you Hour storrich in fatuate' lot Mead tritch.\n",
      "hear upfin! I,\n",
      "\n"
     ]
    }
   ],
   "source": [
    "# Generate text samples with different settings\n",
    "print(\"Generated Shakespeare-style text:\\n\")\n",
    "print(\"=\" * 70)\n",
    "\n",
    "start_strings = [\"ROMEO:\", \"To be or not to be\", \"The \"]\n",
    "temperatures = [0.5, 1.0, 1.5]\n",
    "\n",
    "for start in start_strings:\n",
    "    print(f\"\\n\\nStarting with: '{start}'\")\n",
    "    print(\"-\" * 70)\n",
    "    for temp in temperatures:\n",
    "        print(f\"\\nTemperature: {temp}\")\n",
    "        generated = generate_text(model_char_lstm, start, length=200, temperature=temp)\n",
    "        print(generated)\n",
    "        print()\n"
   ]
  },
  {
   "cell_type": "markdown",
   "metadata": {},
   "source": [
    "### 3.4 Application 2: Text Classification with LSTM\n",
    " **Task:** Sentiment classification\n",
    "\n",
    " **Advantage:** LSTM can capture long-range dependencies better than simple RNN"
   ]
  },
  {
   "cell_type": "code",
   "execution_count": null,
   "metadata": {},
   "outputs": [
    {
     "name": "stdout",
     "output_type": "stream",
     "text": [
      "Model: \"sequential_2\"\n",
      "_________________________________________________________________\n",
      " Layer (type)                Output Shape              Param #   \n",
      "=================================================================\n",
      " embedding_2 (Embedding)     (None, 200, 128)          1280000   \n",
      "                                                                 \n",
      " lstm_4 (LSTM)               (None, 200, 64)           49408     \n",
      "                                                                 \n",
      " lstm_5 (LSTM)               (None, 32)                12416     \n",
      "                                                                 \n",
      " dropout_2 (Dropout)         (None, 32)                0         \n",
      "                                                                 \n",
      " dense_2 (Dense)             (None, 1)                 33        \n",
      "                                                                 \n",
      "=================================================================\n",
      "Total params: 1341857 (5.12 MB)\n",
      "Trainable params: 1341857 (5.12 MB)\n",
      "Non-trainable params: 0 (0.00 Byte)\n",
      "_________________________________________________________________\n"
     ]
    }
   ],
   "source": [
    "# Build LSTM classifier\n",
    "model_lstm_classifier = keras.Sequential([\n",
    "    layers.Embedding(input_dim=max_words, output_dim=128, input_length=max_len),\n",
    "    layers.LSTM(64, return_sequences=True),\n",
    "    layers.LSTM(32),\n",
    "    layers.Dropout(0.5),\n",
    "    layers.Dense(1, activation=\"sigmoid\")\n",
    "])\n",
    "\n",
    "model_lstm_classifier.compile(\n",
    "    optimizer=\"adam\",\n",
    "    loss=\"binary_crossentropy\",\n",
    "    metrics=[\"accuracy\"]\n",
    ")\n",
    "\n",
    "model_lstm_classifier.summary()\n"
   ]
  },
  {
   "cell_type": "markdown",
   "metadata": {},
   "source": [
    "#### Train LSTM Classifier"
   ]
  },
  {
   "cell_type": "code",
   "execution_count": null,
   "metadata": {},
   "outputs": [
    {
     "name": "stdout",
     "output_type": "stream",
     "text": [
      "Epoch 1/5\n",
      "125/125 [==============================] - 11s 77ms/step - loss: 0.6936 - accuracy: 0.5038 - val_loss: 0.6927 - val_accuracy: 0.5280\n",
      "Epoch 2/5\n",
      "125/125 [==============================] - 9s 74ms/step - loss: 0.6436 - accuracy: 0.6130 - val_loss: 0.7216 - val_accuracy: 0.6100\n",
      "Epoch 3/5\n",
      "125/125 [==============================] - 9s 73ms/step - loss: 0.6767 - accuracy: 0.5570 - val_loss: 0.6854 - val_accuracy: 0.5310\n",
      "Epoch 4/5\n",
      "125/125 [==============================] - 10s 77ms/step - loss: 0.6475 - accuracy: 0.5922 - val_loss: 0.6012 - val_accuracy: 0.6090\n",
      "Epoch 5/5\n",
      "125/125 [==============================] - 9s 74ms/step - loss: 0.5205 - accuracy: 0.7690 - val_loss: 0.5795 - val_accuracy: 0.7360\n"
     ]
    }
   ],
   "source": [
    "history_lstm_classifier = model_lstm_classifier.fit(\n",
    "    X_train_pad, y_train,\n",
    "    epochs=5,\n",
    "    batch_size=32,\n",
    "    validation_data=(X_val_pad, y_val),\n",
    "    verbose=1\n",
    ")\n"
   ]
  },
  {
   "cell_type": "markdown",
   "metadata": {},
   "source": [
    "#### Compare RNN vs LSTM Performance"
   ]
  },
  {
   "cell_type": "code",
   "execution_count": null,
   "metadata": {},
   "outputs": [
    {
     "name": "stdout",
     "output_type": "stream",
     "text": [
      "\n",
      "======================================================================\n",
      "MODEL COMPARISON\n",
      "======================================================================\n",
      "Simple RNN           - Validation Accuracy: 0.5090\n",
      "Bidirectional RNN    - Validation Accuracy: 0.4960\n",
      "LSTM                 - Validation Accuracy: 0.7360\n"
     ]
    }
   ],
   "source": [
    "# Evaluate all models\n",
    "print(\"\\n\" + \"=\" * 70)\n",
    "print(\"MODEL COMPARISON\")\n",
    "print(\"=\" * 70)\n",
    "\n",
    "models = {\n",
    "    \"Simple RNN\": model_acceptor,\n",
    "    \"Bidirectional RNN\": model_birnn,\n",
    "    \"LSTM\": model_lstm_classifier\n",
    "}\n",
    "\n",
    "for name, model in models.items():\n",
    "    val_loss, val_acc = model.evaluate(X_val_pad, y_val, verbose=0)\n",
    "    print(f\"{name:20s} - Validation Accuracy: {val_acc:.4f}\")\n"
   ]
  },
  {
   "cell_type": "markdown",
   "metadata": {},
   "source": [
    "#### Visualize Training History"
   ]
  },
  {
   "cell_type": "code",
   "execution_count": null,
   "metadata": {},
   "outputs": [
    {
     "data": {
      "image/png": "[encoded data removed]",
      "text/plain": [
       "<Figure size 1200x400 with 2 Axes>"
      ]
     },
     "metadata": {},
     "output_type": "display_data"
    }
   ],
   "source": [
    "plt.figure(figsize=(12, 4))\n",
    "\n",
    "# Plot LSTM training history\n",
    "plt.subplot(1, 2, 1)\n",
    "plt.plot(history_lstm_classifier.history[\"accuracy\"], label=\"Train\")\n",
    "plt.plot(history_lstm_classifier.history[\"val_accuracy\"], label=\"Validation\")\n",
    "plt.title(\"LSTM Classifier - Accuracy\")\n",
    "plt.xlabel(\"Epoch\")\n",
    "plt.ylabel(\"Accuracy\")\n",
    "plt.legend()\n",
    "plt.grid(True)\n",
    "\n",
    "plt.subplot(1, 2, 2)\n",
    "plt.plot(history_lstm_classifier.history[\"loss\"], label=\"Train\")\n",
    "plt.plot(history_lstm_classifier.history[\"val_loss\"], label=\"Validation\")\n",
    "plt.title(\"LSTM Classifier - Loss\")\n",
    "plt.xlabel(\"Epoch\")\n",
    "plt.ylabel(\"Loss\")\n",
    "plt.legend()\n",
    "plt.grid(True)\n",
    "\n",
    "plt.tight_layout()\n",
    "plt.show()\n"
   ]
  },
  {
   "cell_type": "markdown",
   "metadata": {},
   "source": [
    "## 4. Self-Check Questions\n",
    "\n",
    "**RNNs and LSTMs**\n",
    "\n",
    "1. What is the main difference between a simple RNN and an LSTM?\n",
    "2. Why do RNNs struggle with long-range dependencies?\n",
    "3. What are the roles of the forget, input, and output gates in an LSTM?\n",
    "4. How does a bidirectional RNN differ from a standard RNN?\n",
    "\n",
    "**Application Types**\n",
    "\n",
    "5. What is the difference between an acceptor and a transducer architecture?\n",
    "6. In what scenarios would you use an encoder-decoder model?\n",
    "7. Why might you choose a bidirectional RNN for sentiment analysis?\n",
    "8. What are the trade-offs between using LSTM and simple RNNs?\n",
    "\n"
   ]
  },
  {
   "cell_type": "markdown",
   "metadata": {},
   "source": [
    "<!-- ## Summary\n",
    "\n",
    "### Key Takeaways\n",
    "\n",
    "#### RNN Architectures\n",
    "1. **Acceptor**: Sequence → Single output (classification tasks)\n",
    "2. **Transducer**: Sequence → Sequence, same length (tagging tasks)\n",
    "3. **Encoder-Decoder**: Sequence → Sequence, different length (translation)\n",
    "4. **Bidirectional**: Better context understanding with forward + backward processing\n",
    "\n",
    "\n",
    "\n",
    "#### LSTM Advantages\n",
    "- Gates control information flow (forget, input, output)\n",
    "- Better at capturing long-range dependencies\n",
    "- More stable gradients during training\n",
    "- Generally outperforms simple RNNs on complex tasks\n",
    "\n",
    "#### Practical Considerations\n",
    "- LSTMs have more parameters → slower training, more data needed\n",
    "- Simple RNNs can work well for shorter sequences\n",
    "- Bidirectional models cannot be used for real-time prediction\n",
    "- Modern alternatives: GRU (simpler), Transformers (attention-based) -->"
   ]
  }
 ],
 "metadata": {
  "kernelspec": {
   "display_name": "base",
   "language": "python",
   "name": "python3"
  },
  "language_info": {
   "codemirror_mode": {
    "name": "ipython",
    "version": 3
   },
   "file_extension": ".py",
   "mimetype": "text/x-python",
   "name": "python",
   "nbconvert_exporter": "python",
   "pygments_lexer": "ipython3",
   "version": "3.11.5"
  }
 },
 "nbformat": 4,
 "nbformat_minor": 2
}
